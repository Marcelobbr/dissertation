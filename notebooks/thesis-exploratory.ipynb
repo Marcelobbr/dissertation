{
 "cells": [
  {
   "cell_type": "markdown",
   "metadata": {},
   "source": [
    "Database operations to build the structure for visualization"
   ]
  },
  {
   "cell_type": "markdown",
   "metadata": {},
   "source": [
    "I will need 4 groups of data:\n",
    "* topics (aggregator)\n",
    "* docs\n",
    "* words\n",
    "* people"
   ]
  },
  {
   "cell_type": "code",
   "execution_count": 9,
   "metadata": {},
   "outputs": [],
   "source": [
    "import pandas as pd\n",
    "import json\n",
    "import os\n",
    "import pickle\n",
    "import re\n",
    "import math\n",
    "import gensim\n",
    "from collections import Counter"
   ]
  },
  {
   "cell_type": "code",
   "execution_count": 2,
   "metadata": {},
   "outputs": [],
   "source": [
    "outputs = '../outputs/'"
   ]
  },
  {
   "cell_type": "code",
   "execution_count": 3,
   "metadata": {},
   "outputs": [],
   "source": [
    "file_tables = '../outputs/tables_dict.pkl'\n",
    "cpdoc_tables = pickle.load(open(file_tables, 'rb'))"
   ]
  },
  {
   "cell_type": "code",
   "execution_count": 4,
   "metadata": {},
   "outputs": [
    {
     "data": {
      "text/plain": [
       "['person_doc ',\n",
       " 'top_persons',\n",
       " 'persons',\n",
       " 'top_countries',\n",
       " 'docs',\n",
       " 'top_topics',\n",
       " 'doc_counts ',\n",
       " 'countries',\n",
       " 'top_classifications',\n",
       " 'topic_doc',\n",
       " 'topics',\n",
       " 'country_doc']"
      ]
     },
     "execution_count": 4,
     "metadata": {},
     "output_type": "execute_result"
    }
   ],
   "source": [
    "list(cpdoc_tables)"
   ]
  },
  {
   "cell_type": "code",
   "execution_count": 41,
   "metadata": {},
   "outputs": [],
   "source": [
    "docs = cpdoc_tables['docs']\n",
    "\n",
    "docs['length'] = docs['body'].apply(lambda x: len(x.split()))"
   ]
  },
  {
   "cell_type": "code",
   "execution_count": 42,
   "metadata": {},
   "outputs": [
    {
     "data": {
      "text/html": [
       "<div>\n",
       "<style scoped>\n",
       "    .dataframe tbody tr th:only-of-type {\n",
       "        vertical-align: middle;\n",
       "    }\n",
       "\n",
       "    .dataframe tbody tr th {\n",
       "        vertical-align: top;\n",
       "    }\n",
       "\n",
       "    .dataframe thead th {\n",
       "        text-align: right;\n",
       "    }\n",
       "</style>\n",
       "<table border=\"1\" class=\"dataframe\">\n",
       "  <thead>\n",
       "    <tr style=\"text-align: right;\">\n",
       "      <th></th>\n",
       "      <th>id</th>\n",
       "      <th>volume_id</th>\n",
       "      <th>main_language</th>\n",
       "      <th>readability</th>\n",
       "      <th>title</th>\n",
       "      <th>keywords</th>\n",
       "      <th>date</th>\n",
       "      <th>collection</th>\n",
       "      <th>pdf</th>\n",
       "      <th>body</th>\n",
       "      <th>length</th>\n",
       "    </tr>\n",
       "  </thead>\n",
       "  <tbody>\n",
       "    <tr>\n",
       "      <td>0</td>\n",
       "      <td>ag_1973.11.20_doc_I-1</td>\n",
       "      <td>ag_1973.11.20</td>\n",
       "      <td>none</td>\n",
       "      <td>0.40</td>\n",
       "      <td>Documentos felicitando Azeredo da Silveira pel...</td>\n",
       "      <td>Felicitações e congratulações; Ministério das ...</td>\n",
       "      <td>1973-11-15</td>\n",
       "      <td>CPDOC</td>\n",
       "      <td>http://www.fgv.br/cpdoc/acervo/arquivo-pessoal...</td>\n",
       "      <td>\\n\\njr, /h ' \"&amp; m$ hb'h'qo\\n&amp; la'?\\n\\n, é %%3...</td>\n",
       "      <td>261</td>\n",
       "    </tr>\n",
       "    <tr>\n",
       "      <td>1</td>\n",
       "      <td>ag_1973.11.20_doc_I-100</td>\n",
       "      <td>ag_1973.11.20</td>\n",
       "      <td>pt</td>\n",
       "      <td>NaN</td>\n",
       "      <td>Documentos felicitando Azeredo da Silveira pel...</td>\n",
       "      <td>Felicitações e congratulações; Ministério das ...</td>\n",
       "      <td>1974-02-22</td>\n",
       "      <td>CPDOC</td>\n",
       "      <td>http://www.fgv.br/cpdoc/acervo/arquivo-pessoal...</td>\n",
       "      <td>mjm h\\n\\n. . . ' \" . ww and\\n&amp; !\\nzczc tea363 ...</td>\n",
       "      <td>173</td>\n",
       "    </tr>\n",
       "    <tr>\n",
       "      <td>2</td>\n",
       "      <td>ag_1973.11.20_doc_I-101</td>\n",
       "      <td>ag_1973.11.20</td>\n",
       "      <td>pt</td>\n",
       "      <td>NaN</td>\n",
       "      <td>Documentos felicitando Azeredo da Silveira pel...</td>\n",
       "      <td>Felicitações e congratulações; Ministério das ...</td>\n",
       "      <td>1974-02-22</td>\n",
       "      <td>CPDOC</td>\n",
       "      <td>http://www.fgv.br/cpdoc/acervo/arquivo-pessoal...</td>\n",
       "      <td>\\n  \\n        \\n\\n \\n\\n \\n\\n114\":\\n\\n \\n\\n ...</td>\n",
       "      <td>72</td>\n",
       "    </tr>\n",
       "    <tr>\n",
       "      <td>3</td>\n",
       "      <td>ag_1973.11.20_doc_I-102</td>\n",
       "      <td>ag_1973.11.20</td>\n",
       "      <td>pt</td>\n",
       "      <td>NaN</td>\n",
       "      <td>Documentos felicitando Azeredo da Silveira pel...</td>\n",
       "      <td>Felicitações e congratulações; Ministério das ...</td>\n",
       "      <td>1974-02-22</td>\n",
       "      <td>CPDOC</td>\n",
       "      <td>http://www.fgv.br/cpdoc/acervo/arquivo-pessoal...</td>\n",
       "      <td>\\n\\n\" \", \"m-nmfvww mmm/\"ar? &amp;\", wa \" \"***-**\"...</td>\n",
       "      <td>131</td>\n",
       "    </tr>\n",
       "    <tr>\n",
       "      <td>4</td>\n",
       "      <td>ag_1973.11.20_doc_I-103</td>\n",
       "      <td>ag_1973.11.20</td>\n",
       "      <td>pt</td>\n",
       "      <td>0.59</td>\n",
       "      <td>Documentos felicitando Azeredo da Silveira pel...</td>\n",
       "      <td>Felicitações e congratulações; Ministério das ...</td>\n",
       "      <td>1974-02-22</td>\n",
       "      <td>CPDOC</td>\n",
       "      <td>http://www.fgv.br/cpdoc/acervo/arquivo-pessoal...</td>\n",
       "      <td>\\n\\n \\n\\nmi*/gm\\n%adazw/sõ'\\n\\n%% &amp;&amp; %%%&amp;\\n\\n...</td>\n",
       "      <td>295</td>\n",
       "    </tr>\n",
       "  </tbody>\n",
       "</table>\n",
       "</div>"
      ],
      "text/plain": [
       "                        id      volume_id main_language  readability  \\\n",
       "0    ag_1973.11.20_doc_I-1  ag_1973.11.20          none         0.40   \n",
       "1  ag_1973.11.20_doc_I-100  ag_1973.11.20            pt          NaN   \n",
       "2  ag_1973.11.20_doc_I-101  ag_1973.11.20            pt          NaN   \n",
       "3  ag_1973.11.20_doc_I-102  ag_1973.11.20            pt          NaN   \n",
       "4  ag_1973.11.20_doc_I-103  ag_1973.11.20            pt         0.59   \n",
       "\n",
       "                                               title  \\\n",
       "0  Documentos felicitando Azeredo da Silveira pel...   \n",
       "1  Documentos felicitando Azeredo da Silveira pel...   \n",
       "2  Documentos felicitando Azeredo da Silveira pel...   \n",
       "3  Documentos felicitando Azeredo da Silveira pel...   \n",
       "4  Documentos felicitando Azeredo da Silveira pel...   \n",
       "\n",
       "                                            keywords       date collection  \\\n",
       "0  Felicitações e congratulações; Ministério das ... 1973-11-15      CPDOC   \n",
       "1  Felicitações e congratulações; Ministério das ... 1974-02-22      CPDOC   \n",
       "2  Felicitações e congratulações; Ministério das ... 1974-02-22      CPDOC   \n",
       "3  Felicitações e congratulações; Ministério das ... 1974-02-22      CPDOC   \n",
       "4  Felicitações e congratulações; Ministério das ... 1974-02-22      CPDOC   \n",
       "\n",
       "                                                 pdf  \\\n",
       "0  http://www.fgv.br/cpdoc/acervo/arquivo-pessoal...   \n",
       "1  http://www.fgv.br/cpdoc/acervo/arquivo-pessoal...   \n",
       "2  http://www.fgv.br/cpdoc/acervo/arquivo-pessoal...   \n",
       "3  http://www.fgv.br/cpdoc/acervo/arquivo-pessoal...   \n",
       "4  http://www.fgv.br/cpdoc/acervo/arquivo-pessoal...   \n",
       "\n",
       "                                                body  length  \n",
       "0   \\n\\njr, /h ' \"& m$ hb'h'qo\\n& la'?\\n\\n, é %%3...     261  \n",
       "1  mjm h\\n\\n. . . ' \" . ww and\\n& !\\nzczc tea363 ...     173  \n",
       "2     \\n  \\n        \\n\\n \\n\\n \\n\\n114\":\\n\\n \\n\\n ...      72  \n",
       "3   \\n\\n\" \", \"m-nmfvww mmm/\"ar? &\", wa \" \"***-**\"...     131  \n",
       "4   \\n\\n \\n\\nmi*/gm\\n%adazw/sõ'\\n\\n%% && %%%&\\n\\n...     295  "
      ]
     },
     "execution_count": 42,
     "metadata": {},
     "output_type": "execute_result"
    }
   ],
   "source": [
    "docs.head()"
   ]
  },
  {
   "cell_type": "code",
   "execution_count": 43,
   "metadata": {},
   "outputs": [
    {
     "data": {
      "text/plain": [
       "{'de', 'en', 'es', 'fr', 'none', 'pt'}"
      ]
     },
     "execution_count": 43,
     "metadata": {},
     "output_type": "execute_result"
    }
   ],
   "source": [
    "set(list(cpdoc_tables['docs']['main_language']))"
   ]
  },
  {
   "cell_type": "code",
   "execution_count": 44,
   "metadata": {},
   "outputs": [],
   "source": [
    "data = []\n",
    "for index, row in cpdoc_tables['docs'].fillna(-1).iterrows():\n",
    "    temp_dict = {'id': row['id'], 'main language': row['main_language'], 'readability': row['readability'], \\\n",
    "                 'date': str(row['date']), 'length': row['length']}\n",
    "    data.append(temp_dict)"
   ]
  },
  {
   "cell_type": "code",
   "execution_count": 45,
   "metadata": {},
   "outputs": [],
   "source": [
    "file_path = outputs+'docs.json'\n",
    "json.dump(data, open(file_path, 'w'))"
   ]
  },
  {
   "cell_type": "code",
   "execution_count": null,
   "metadata": {},
   "outputs": [],
   "source": []
  },
  {
   "cell_type": "code",
   "execution_count": null,
   "metadata": {},
   "outputs": [],
   "source": []
  },
  {
   "cell_type": "markdown",
   "metadata": {},
   "source": [
    "# docs and topics"
   ]
  },
  {
   "cell_type": "code",
   "execution_count": 204,
   "metadata": {
    "scrolled": true
   },
   "outputs": [
    {
     "data": {
      "text/html": [
       "<div>\n",
       "<style scoped>\n",
       "    .dataframe tbody tr th:only-of-type {\n",
       "        vertical-align: middle;\n",
       "    }\n",
       "\n",
       "    .dataframe tbody tr th {\n",
       "        vertical-align: top;\n",
       "    }\n",
       "\n",
       "    .dataframe thead th {\n",
       "        text-align: right;\n",
       "    }\n",
       "</style>\n",
       "<table border=\"1\" class=\"dataframe\">\n",
       "  <thead>\n",
       "    <tr style=\"text-align: right;\">\n",
       "      <th></th>\n",
       "      <th>doc_id</th>\n",
       "      <th>topic_id</th>\n",
       "      <th>topic_score</th>\n",
       "      <th>date</th>\n",
       "    </tr>\n",
       "  </thead>\n",
       "  <tbody>\n",
       "    <tr>\n",
       "      <th>0</th>\n",
       "      <td>ag_1973.11.20_doc_I-100</td>\n",
       "      <td>5009</td>\n",
       "      <td>0.167579</td>\n",
       "      <td>1974-02-22</td>\n",
       "    </tr>\n",
       "    <tr>\n",
       "      <th>1</th>\n",
       "      <td>ag_1973.11.20_doc_I-100</td>\n",
       "      <td>5010</td>\n",
       "      <td>0.040318</td>\n",
       "      <td>1974-02-22</td>\n",
       "    </tr>\n",
       "    <tr>\n",
       "      <th>2</th>\n",
       "      <td>ag_1973.11.20_doc_I-100</td>\n",
       "      <td>5040</td>\n",
       "      <td>0.092381</td>\n",
       "      <td>1974-02-22</td>\n",
       "    </tr>\n",
       "    <tr>\n",
       "      <th>3</th>\n",
       "      <td>ag_1973.11.20_doc_I-100</td>\n",
       "      <td>5041</td>\n",
       "      <td>0.090368</td>\n",
       "      <td>1974-02-22</td>\n",
       "    </tr>\n",
       "    <tr>\n",
       "      <th>4</th>\n",
       "      <td>ag_1973.11.20_doc_I-100</td>\n",
       "      <td>5051</td>\n",
       "      <td>0.029285</td>\n",
       "      <td>1974-02-22</td>\n",
       "    </tr>\n",
       "  </tbody>\n",
       "</table>\n",
       "</div>"
      ],
      "text/plain": [
       "                    doc_id  topic_id  topic_score       date\n",
       "0  ag_1973.11.20_doc_I-100      5009     0.167579 1974-02-22\n",
       "1  ag_1973.11.20_doc_I-100      5010     0.040318 1974-02-22\n",
       "2  ag_1973.11.20_doc_I-100      5040     0.092381 1974-02-22\n",
       "3  ag_1973.11.20_doc_I-100      5041     0.090368 1974-02-22\n",
       "4  ag_1973.11.20_doc_I-100      5051     0.029285 1974-02-22"
      ]
     },
     "execution_count": 204,
     "metadata": {},
     "output_type": "execute_result"
    }
   ],
   "source": [
    "topic_doc = cpdoc_tables['topic_doc']\n",
    "topic_doc.head()"
   ]
  },
  {
   "cell_type": "markdown",
   "metadata": {},
   "source": [
    "# docs and persons"
   ]
  },
  {
   "cell_type": "code",
   "execution_count": 205,
   "metadata": {},
   "outputs": [],
   "source": [
    "persons = cpdoc_tables['persons']\n",
    "persons = persons.rename(index=str, columns={\"id\": \"person_id\"})"
   ]
  },
  {
   "cell_type": "code",
   "execution_count": 206,
   "metadata": {},
   "outputs": [],
   "source": [
    "person_doc = cpdoc_tables['person_doc ']\n",
    "person_doc = pd.merge(person_doc, persons, on='person_id', how='inner')\n",
    "person_doc = person_doc.drop(columns=['date', 'source', 'birth_year', 'death_year', 'description'])\n",
    "person_doc = person_doc.replace('(.*),(.*),.*', r'\\1,\\2', regex=True)\n",
    "person_doc = person_doc.replace('(.*), (.*)', r'\\2 \\1', regex=True)"
   ]
  },
  {
   "cell_type": "code",
   "execution_count": 207,
   "metadata": {},
   "outputs": [],
   "source": [
    "#remove special characters\n",
    "person_doc = person_doc.name.apply(pd.Series) \\\n",
    "    .replace('[“”]', '', regex=True) \\\n",
    "    .replace('[áàãâ]', 'a', regex=True) \\\n",
    "    .replace('[óòõô]', 'o', regex=True) \\\n",
    "    .replace('[éèê]', 'e', regex=True) \\\n",
    "    .replace('[íì]', 'i', regex=True) \\\n",
    "    .replace('[úù]', 'u', regex=True) \\\n",
    "    .replace('ç', 'c', regex=True) \\\n",
    "    .merge(person_doc, left_index = True, right_index = True) \\\n",
    "    .drop(\"name\", axis=1) \\\n",
    "    .rename(columns={0: \"name\"})"
   ]
  },
  {
   "cell_type": "code",
   "execution_count": 208,
   "metadata": {
    "scrolled": true
   },
   "outputs": [
    {
     "data": {
      "text/html": [
       "<div>\n",
       "<style scoped>\n",
       "    .dataframe tbody tr th:only-of-type {\n",
       "        vertical-align: middle;\n",
       "    }\n",
       "\n",
       "    .dataframe tbody tr th {\n",
       "        vertical-align: top;\n",
       "    }\n",
       "\n",
       "    .dataframe thead th {\n",
       "        text-align: right;\n",
       "    }\n",
       "</style>\n",
       "<table border=\"1\" class=\"dataframe\">\n",
       "  <thead>\n",
       "    <tr style=\"text-align: right;\">\n",
       "      <th></th>\n",
       "      <th>name</th>\n",
       "      <th>person_id</th>\n",
       "      <th>doc_id</th>\n",
       "      <th>person_count</th>\n",
       "    </tr>\n",
       "  </thead>\n",
       "  <tbody>\n",
       "    <tr>\n",
       "      <th>0</th>\n",
       "      <td>Dean Gooderham Acheson</td>\n",
       "      <td>100070</td>\n",
       "      <td>ag_1977.07.00_doc_I-4</td>\n",
       "      <td>1</td>\n",
       "    </tr>\n",
       "    <tr>\n",
       "      <th>1</th>\n",
       "      <td>John Quincy Adams</td>\n",
       "      <td>100097</td>\n",
       "      <td>be_1974.03.15_doc_XI-2</td>\n",
       "      <td>1</td>\n",
       "    </tr>\n",
       "    <tr>\n",
       "      <th>2</th>\n",
       "      <td>Konrad Adenauer</td>\n",
       "      <td>100118</td>\n",
       "      <td>be_1974.03.15_doc_X-21</td>\n",
       "      <td>1</td>\n",
       "    </tr>\n",
       "    <tr>\n",
       "      <th>3</th>\n",
       "      <td>Konrad Adenauer</td>\n",
       "      <td>100118</td>\n",
       "      <td>be_1977.06.01_doc_II-28</td>\n",
       "      <td>1</td>\n",
       "    </tr>\n",
       "    <tr>\n",
       "      <th>4</th>\n",
       "      <td>Konrad Adenauer</td>\n",
       "      <td>100118</td>\n",
       "      <td>pn_1974.08.15_doc_I-3</td>\n",
       "      <td>1</td>\n",
       "    </tr>\n",
       "  </tbody>\n",
       "</table>\n",
       "</div>"
      ],
      "text/plain": [
       "                     name person_id                   doc_id  person_count\n",
       "0  Dean Gooderham Acheson    100070    ag_1977.07.00_doc_I-4             1\n",
       "1       John Quincy Adams    100097   be_1974.03.15_doc_XI-2             1\n",
       "2         Konrad Adenauer    100118   be_1974.03.15_doc_X-21             1\n",
       "3         Konrad Adenauer    100118  be_1977.06.01_doc_II-28             1\n",
       "4         Konrad Adenauer    100118    pn_1974.08.15_doc_I-3             1"
      ]
     },
     "execution_count": 208,
     "metadata": {},
     "output_type": "execute_result"
    }
   ],
   "source": [
    "person_doc.head()"
   ]
  },
  {
   "cell_type": "code",
   "execution_count": 354,
   "metadata": {},
   "outputs": [],
   "source": [
    "person_doc_count = pd.DataFrame(person_doc.groupby(['name'])['person_count'].agg('count')) #.apply(sum)\n",
    "person_doc_count = person_doc_count.reset_index()"
   ]
  },
  {
   "cell_type": "markdown",
   "metadata": {},
   "source": [
    "# docs and tokens"
   ]
  },
  {
   "cell_type": "code",
   "execution_count": 209,
   "metadata": {},
   "outputs": [
    {
     "data": {
      "text/html": [
       "<div>\n",
       "<style scoped>\n",
       "    .dataframe tbody tr th:only-of-type {\n",
       "        vertical-align: middle;\n",
       "    }\n",
       "\n",
       "    .dataframe tbody tr th {\n",
       "        vertical-align: top;\n",
       "    }\n",
       "\n",
       "    .dataframe thead th {\n",
       "        text-align: right;\n",
       "    }\n",
       "</style>\n",
       "<table border=\"1\" class=\"dataframe\">\n",
       "  <thead>\n",
       "    <tr style=\"text-align: right;\">\n",
       "      <th></th>\n",
       "      <th>doc_id</th>\n",
       "      <th>title</th>\n",
       "      <th>pdf</th>\n",
       "      <th>body</th>\n",
       "      <th>length</th>\n",
       "    </tr>\n",
       "  </thead>\n",
       "  <tbody>\n",
       "    <tr>\n",
       "      <th>0</th>\n",
       "      <td>ag_1973.11.20_doc_I-1</td>\n",
       "      <td>Documentos felicitando Azeredo da Silveira pel...</td>\n",
       "      <td>http://www.fgv.br/cpdoc/acervo/arquivo-pessoal...</td>\n",
       "      <td>\\n\\njr, /h ' \"&amp; m$ hb'h'qo\\n&amp; la'?\\n\\n, é %%3...</td>\n",
       "      <td>261</td>\n",
       "    </tr>\n",
       "    <tr>\n",
       "      <th>1</th>\n",
       "      <td>ag_1973.11.20_doc_I-100</td>\n",
       "      <td>Documentos felicitando Azeredo da Silveira pel...</td>\n",
       "      <td>http://www.fgv.br/cpdoc/acervo/arquivo-pessoal...</td>\n",
       "      <td>mjm h\\n\\n. . . ' \" . ww and\\n&amp; !\\nzczc tea363 ...</td>\n",
       "      <td>173</td>\n",
       "    </tr>\n",
       "    <tr>\n",
       "      <th>2</th>\n",
       "      <td>ag_1973.11.20_doc_I-101</td>\n",
       "      <td>Documentos felicitando Azeredo da Silveira pel...</td>\n",
       "      <td>http://www.fgv.br/cpdoc/acervo/arquivo-pessoal...</td>\n",
       "      <td>\\n  \\n        \\n\\n \\n\\n \\n\\n114\":\\n\\n \\n\\n ...</td>\n",
       "      <td>72</td>\n",
       "    </tr>\n",
       "    <tr>\n",
       "      <th>3</th>\n",
       "      <td>ag_1973.11.20_doc_I-102</td>\n",
       "      <td>Documentos felicitando Azeredo da Silveira pel...</td>\n",
       "      <td>http://www.fgv.br/cpdoc/acervo/arquivo-pessoal...</td>\n",
       "      <td>\\n\\n\" \", \"m-nmfvww mmm/\"ar? &amp;\", wa \" \"***-**\"...</td>\n",
       "      <td>131</td>\n",
       "    </tr>\n",
       "    <tr>\n",
       "      <th>4</th>\n",
       "      <td>ag_1973.11.20_doc_I-103</td>\n",
       "      <td>Documentos felicitando Azeredo da Silveira pel...</td>\n",
       "      <td>http://www.fgv.br/cpdoc/acervo/arquivo-pessoal...</td>\n",
       "      <td>\\n\\n \\n\\nmi*/gm\\n%adazw/sõ'\\n\\n%% &amp;&amp; %%%&amp;\\n\\n...</td>\n",
       "      <td>295</td>\n",
       "    </tr>\n",
       "  </tbody>\n",
       "</table>\n",
       "</div>"
      ],
      "text/plain": [
       "                    doc_id                                              title  \\\n",
       "0    ag_1973.11.20_doc_I-1  Documentos felicitando Azeredo da Silveira pel...   \n",
       "1  ag_1973.11.20_doc_I-100  Documentos felicitando Azeredo da Silveira pel...   \n",
       "2  ag_1973.11.20_doc_I-101  Documentos felicitando Azeredo da Silveira pel...   \n",
       "3  ag_1973.11.20_doc_I-102  Documentos felicitando Azeredo da Silveira pel...   \n",
       "4  ag_1973.11.20_doc_I-103  Documentos felicitando Azeredo da Silveira pel...   \n",
       "\n",
       "                                                 pdf  \\\n",
       "0  http://www.fgv.br/cpdoc/acervo/arquivo-pessoal...   \n",
       "1  http://www.fgv.br/cpdoc/acervo/arquivo-pessoal...   \n",
       "2  http://www.fgv.br/cpdoc/acervo/arquivo-pessoal...   \n",
       "3  http://www.fgv.br/cpdoc/acervo/arquivo-pessoal...   \n",
       "4  http://www.fgv.br/cpdoc/acervo/arquivo-pessoal...   \n",
       "\n",
       "                                                body  length  \n",
       "0   \\n\\njr, /h ' \"& m$ hb'h'qo\\n& la'?\\n\\n, é %%3...     261  \n",
       "1  mjm h\\n\\n. . . ' \" . ww and\\n& !\\nzczc tea363 ...     173  \n",
       "2     \\n  \\n        \\n\\n \\n\\n \\n\\n114\":\\n\\n \\n\\n ...      72  \n",
       "3   \\n\\n\" \", \"m-nmfvww mmm/\"ar? &\", wa \" \"***-**\"...     131  \n",
       "4   \\n\\n \\n\\nmi*/gm\\n%adazw/sõ'\\n\\n%% && %%%&\\n\\n...     295  "
      ]
     },
     "execution_count": 209,
     "metadata": {},
     "output_type": "execute_result"
    }
   ],
   "source": [
    "docs = cpdoc_tables['docs'][['id', 'title', 'pdf', 'body']]\n",
    "docs = docs.rename(index=str, columns={\"id\": \"doc_id\"})\n",
    "docs['length'] = docs['body'].apply(lambda x: len(x.split()))\n",
    "docs.head()"
   ]
  },
  {
   "cell_type": "markdown",
   "metadata": {},
   "source": [
    "# words and topics"
   ]
  },
  {
   "cell_type": "code",
   "execution_count": 210,
   "metadata": {},
   "outputs": [
    {
     "name": "stdout",
     "output_type": "stream",
     "text": [
      "home OR fgv OR broken? \n",
      "computer is not defined\n"
     ]
    }
   ],
   "source": [
    "computer = input(\"home OR fgv OR broken? \") \n",
    "if computer == 'home': outer_inputs = 'D:/'\n",
    "elif computer == 'broken': outer_inputs = 'C:/Users/marcelo.old-note/Documents/'\n",
    "else: print('computer is not defined')"
   ]
  },
  {
   "cell_type": "code",
   "execution_count": 211,
   "metadata": {},
   "outputs": [],
   "source": [
    "file_lda_model = outer_inputs+'azeredo_files/model_lda_100_rs_00.pkl'\n",
    "lda_model = pickle.load(open(file_lda_model, 'rb'))"
   ]
  },
  {
   "cell_type": "code",
   "execution_count": 212,
   "metadata": {},
   "outputs": [],
   "source": [
    "def remove_special_char(text):\n",
    "    text = re.sub('[áàãâ]', 'a', text)\n",
    "    text = re.sub('[óòõô]', 'o', text)\n",
    "    text = re.sub('[éèê]', 'e', text)\n",
    "    text = re.sub('[íì]', 'i', text)\n",
    "    text = re.sub('[úù]', 'u', text)\n",
    "    text = re.sub('ç', 'c', text)\n",
    "    return text"
   ]
  },
  {
   "cell_type": "raw",
   "metadata": {},
   "source": [
    "def retrieve_tokens(text, token_score):\n",
    "    text = text.split()\n",
    "    text_counter = dict(Counter(text))\n",
    "    main_tokens = list(set(token_score['tokens']) & set(text_counter))\n",
    "    main_tokens_df = pd.DataFrame(text_counter, index=[0])[main_tokens] \\\n",
    "        .transpose() \\\n",
    "        .sort_values(by=[0], ascending = False) \\\n",
    "        .head()\n",
    "    main_tokens = list(main_tokens_df.index)\n",
    "    main_tokens = [remove_special_char(x) for x in main_tokens]\n",
    "    return main_tokens"
   ]
  },
  {
   "cell_type": "code",
   "execution_count": null,
   "metadata": {},
   "outputs": [],
   "source": [
    "#old version without sorting and selecting only 5 main tokens\n",
    "def retrieve_tokens(text, token_score):\n",
    "    main_tokens = []\n",
    "    for token in token_score['tokens']:\n",
    "        if token in text:\n",
    "            token = remove_special_char(token) # refatorar (acaba repetindo mesma limpeza muitas vezes). ou talvez seja melhor assim para nao limpar texto inteiro desnecessariamente...\n",
    "            main_tokens.append(token)\n",
    "    return main_tokens"
   ]
  }
 ],
 "metadata": {
  "kernelspec": {
   "display_name": "Python 3",
   "language": "python",
   "name": "python3"
  },
  "language_info": {
   "codemirror_mode": {
    "name": "ipython",
    "version": 3
   },
   "file_extension": ".py",
   "mimetype": "text/x-python",
   "name": "python",
   "nbconvert_exporter": "python",
   "pygments_lexer": "ipython3",
   "version": "3.7.4"
  }
 },
 "nbformat": 4,
 "nbformat_minor": 2
}
