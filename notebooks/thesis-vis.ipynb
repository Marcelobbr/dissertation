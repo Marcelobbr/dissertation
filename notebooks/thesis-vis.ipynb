{
 "cells": [
  {
   "cell_type": "markdown",
   "metadata": {},
   "source": [
    "Database operations to build the structure for visualization"
   ]
  },
  {
   "cell_type": "markdown",
   "metadata": {},
   "source": [
    "I will need 4 groups of data:\n",
    "* topics (aggregator)\n",
    "* docs\n",
    "* words\n",
    "* people"
   ]
  },
  {
   "cell_type": "code",
   "execution_count": 1,
   "metadata": {},
   "outputs": [],
   "source": [
    "import os\n",
    "import pandas as pd\n",
    "import sqlite3\n",
    "import json\n",
    "import pickle\n",
    "import re\n",
    "import math\n",
    "import gensim\n",
    "from collections import Counter"
   ]
  },
  {
   "cell_type": "code",
   "execution_count": 2,
   "metadata": {},
   "outputs": [],
   "source": [
    "inputs = os.path.join(\"..\", \"inputs\")\n",
    "outputs = os.path.join('..','outputs')"
   ]
  },
  {
   "cell_type": "markdown",
   "metadata": {},
   "source": [
    "Rename topics from ~5000 to ~0 (also reorder according to heatmap)\n",
    "* topics\n",
    "* topic_doc"
   ]
  },
  {
   "cell_type": "markdown",
   "metadata": {},
   "source": [
    "# replace pickle with sqlite"
   ]
  },
  {
   "cell_type": "code",
   "execution_count": 4,
   "metadata": {},
   "outputs": [],
   "source": [
    "sql_db = os.path.join(outputs, 'cpdoc_as.sqlite')\n",
    "conn = sqlite3.connect(sql_db)\n",
    "cur = conn.cursor()\n",
    "\n",
    "topic_doc = pd.read_sql_query(\"SELECT * FROM topic_doc_new\", conn) # loading from pkl below\n",
    "docs = pd.read_sql_query(\"SELECT * FROM docs\", conn)\n",
    "persons = pd.read_sql_query(\"SELECT * FROM persons\", conn)\n",
    "person_doc = pd.read_sql_query(\"SELECT * FROM person_doc\", conn)"
   ]
  },
  {
   "cell_type": "code",
   "execution_count": 5,
   "metadata": {},
   "outputs": [
    {
     "name": "stdout",
     "output_type": "stream",
     "text": [
      "114503\n"
     ]
    },
    {
     "data": {
      "text/html": [
       "<div>\n",
       "<style scoped>\n",
       "    .dataframe tbody tr th:only-of-type {\n",
       "        vertical-align: middle;\n",
       "    }\n",
       "\n",
       "    .dataframe tbody tr th {\n",
       "        vertical-align: top;\n",
       "    }\n",
       "\n",
       "    .dataframe thead th {\n",
       "        text-align: right;\n",
       "    }\n",
       "</style>\n",
       "<table border=\"1\" class=\"dataframe\">\n",
       "  <thead>\n",
       "    <tr style=\"text-align: right;\">\n",
       "      <th></th>\n",
       "      <th>doc_id</th>\n",
       "      <th>topic_id</th>\n",
       "      <th>topic_score</th>\n",
       "    </tr>\n",
       "  </thead>\n",
       "  <tbody>\n",
       "    <tr>\n",
       "      <th>38431</th>\n",
       "      <td>bp_1974.06.04_doc_I-8</td>\n",
       "      <td>0</td>\n",
       "      <td>0.802070</td>\n",
       "    </tr>\n",
       "    <tr>\n",
       "      <th>39478</th>\n",
       "      <td>bp_1974.06.04_doc_IV-52</td>\n",
       "      <td>0</td>\n",
       "      <td>0.752500</td>\n",
       "    </tr>\n",
       "    <tr>\n",
       "      <th>9804</th>\n",
       "      <td>ag_1974.01.22_doc_III-55</td>\n",
       "      <td>0</td>\n",
       "      <td>0.710143</td>\n",
       "    </tr>\n",
       "    <tr>\n",
       "      <th>100930</th>\n",
       "      <td>rb_1974.04.17_doc_I-25</td>\n",
       "      <td>0</td>\n",
       "      <td>0.695817</td>\n",
       "    </tr>\n",
       "    <tr>\n",
       "      <th>105726</th>\n",
       "      <td>rb_1974.05.23_doc_III-11</td>\n",
       "      <td>0</td>\n",
       "      <td>0.689169</td>\n",
       "    </tr>\n",
       "  </tbody>\n",
       "</table>\n",
       "</div>"
      ],
      "text/plain": [
       "                          doc_id  topic_id  topic_score\n",
       "38431      bp_1974.06.04_doc_I-8         0     0.802070\n",
       "39478    bp_1974.06.04_doc_IV-52         0     0.752500\n",
       "9804    ag_1974.01.22_doc_III-55         0     0.710143\n",
       "100930    rb_1974.04.17_doc_I-25         0     0.695817\n",
       "105726  rb_1974.05.23_doc_III-11         0     0.689169"
      ]
     },
     "execution_count": 5,
     "metadata": {},
     "output_type": "execute_result"
    }
   ],
   "source": [
    "topic_doc = topic_doc.sort_values(['topic_id', 'topic_score'], ascending=[True, False])\n",
    "print(len(topic_doc))\n",
    "topic_doc.head()"
   ]
  },
  {
   "cell_type": "code",
   "execution_count": 6,
   "metadata": {},
   "outputs": [
    {
     "name": "stdout",
     "output_type": "stream",
     "text": [
      "10268\n"
     ]
    },
    {
     "data": {
      "text/html": [
       "<div>\n",
       "<style scoped>\n",
       "    .dataframe tbody tr th:only-of-type {\n",
       "        vertical-align: middle;\n",
       "    }\n",
       "\n",
       "    .dataframe tbody tr th {\n",
       "        vertical-align: top;\n",
       "    }\n",
       "\n",
       "    .dataframe thead th {\n",
       "        text-align: right;\n",
       "    }\n",
       "</style>\n",
       "<table border=\"1\" class=\"dataframe\">\n",
       "  <thead>\n",
       "    <tr style=\"text-align: right;\">\n",
       "      <th></th>\n",
       "      <th>id</th>\n",
       "      <th>main_language</th>\n",
       "      <th>readability</th>\n",
       "      <th>url</th>\n",
       "      <th>body</th>\n",
       "    </tr>\n",
       "  </thead>\n",
       "  <tbody>\n",
       "    <tr>\n",
       "      <th>0</th>\n",
       "      <td>ag_1973.11.20_doc_I-1</td>\n",
       "      <td>none</td>\n",
       "      <td>0.400000</td>\n",
       "      <td>http://www.fgv.br/cpdoc/acervo/arquivo-pessoal...</td>\n",
       "      <td>\\n\\njr, /h ' \"&amp; m$ hb'h'qo\\n&amp; la'?\\n\\n, é %%3...</td>\n",
       "    </tr>\n",
       "    <tr>\n",
       "      <th>1</th>\n",
       "      <td>ag_1973.11.20_doc_I-4</td>\n",
       "      <td>none</td>\n",
       "      <td>-1.000000</td>\n",
       "      <td>http://www.fgv.br/cpdoc/acervo/arquivo-pessoal...</td>\n",
       "      <td>\\n\\n\"**; %wwffwç (. sz\\nao?\\n\\nray\\n\\nmax meo...</td>\n",
       "    </tr>\n",
       "    <tr>\n",
       "      <th>2</th>\n",
       "      <td>ag_1973.11.20_doc_I-5</td>\n",
       "      <td>none</td>\n",
       "      <td>-1.000000</td>\n",
       "      <td>http://www.fgv.br/cpdoc/acervo/arquivo-pessoal...</td>\n",
       "      <td>am 1933 m 90\\n\\nw ij\"?\\n(\\n\\nt\\n\\ne\\nzi\\n\\nurd...</td>\n",
       "    </tr>\n",
       "    <tr>\n",
       "      <th>3</th>\n",
       "      <td>ag_1973.11.20_doc_I-7</td>\n",
       "      <td>pt</td>\n",
       "      <td>-1.000000</td>\n",
       "      <td>http://www.fgv.br/cpdoc/acervo/arquivo-pessoal...</td>\n",
       "      <td>ôôô/ma 44 w\\nwil\"\\n/ oe;\\n\\n  \\n\\ncentro de es...</td>\n",
       "    </tr>\n",
       "    <tr>\n",
       "      <th>4</th>\n",
       "      <td>ag_1973.11.20_doc_I-8</td>\n",
       "      <td>pt</td>\n",
       "      <td>0.615385</td>\n",
       "      <td>http://www.fgv.br/cpdoc/acervo/arquivo-pessoal...</td>\n",
       "      <td>\\n\\nxx&gt;4áiãfkk ;g*\\n\\nmv, ; (905\\n\\n \\n\\ntele...</td>\n",
       "    </tr>\n",
       "  </tbody>\n",
       "</table>\n",
       "</div>"
      ],
      "text/plain": [
       "                      id main_language  readability  \\\n",
       "0  ag_1973.11.20_doc_I-1          none     0.400000   \n",
       "1  ag_1973.11.20_doc_I-4          none    -1.000000   \n",
       "2  ag_1973.11.20_doc_I-5          none    -1.000000   \n",
       "3  ag_1973.11.20_doc_I-7            pt    -1.000000   \n",
       "4  ag_1973.11.20_doc_I-8            pt     0.615385   \n",
       "\n",
       "                                                 url  \\\n",
       "0  http://www.fgv.br/cpdoc/acervo/arquivo-pessoal...   \n",
       "1  http://www.fgv.br/cpdoc/acervo/arquivo-pessoal...   \n",
       "2  http://www.fgv.br/cpdoc/acervo/arquivo-pessoal...   \n",
       "3  http://www.fgv.br/cpdoc/acervo/arquivo-pessoal...   \n",
       "4  http://www.fgv.br/cpdoc/acervo/arquivo-pessoal...   \n",
       "\n",
       "                                                body  \n",
       "0   \\n\\njr, /h ' \"& m$ hb'h'qo\\n& la'?\\n\\n, é %%3...  \n",
       "1   \\n\\n\"**; %wwffwç (. sz\\nao?\\n\\nray\\n\\nmax meo...  \n",
       "2  am 1933 m 90\\n\\nw ij\"?\\n(\\n\\nt\\n\\ne\\nzi\\n\\nurd...  \n",
       "3  ôôô/ma 44 w\\nwil\"\\n/ oe;\\n\\n  \\n\\ncentro de es...  \n",
       "4   \\n\\nxx>4áiãfkk ;g*\\n\\nmv, ; (905\\n\\n \\n\\ntele...  "
      ]
     },
     "execution_count": 6,
     "metadata": {},
     "output_type": "execute_result"
    }
   ],
   "source": [
    "print(len(docs))\n",
    "docs.head()"
   ]
  },
  {
   "cell_type": "markdown",
   "metadata": {},
   "source": [
    "# docs and topics"
   ]
  },
  {
   "cell_type": "code",
   "execution_count": 7,
   "metadata": {
    "scrolled": true
   },
   "outputs": [
    {
     "data": {
      "text/html": [
       "<div>\n",
       "<style scoped>\n",
       "    .dataframe tbody tr th:only-of-type {\n",
       "        vertical-align: middle;\n",
       "    }\n",
       "\n",
       "    .dataframe tbody tr th {\n",
       "        vertical-align: top;\n",
       "    }\n",
       "\n",
       "    .dataframe thead th {\n",
       "        text-align: right;\n",
       "    }\n",
       "</style>\n",
       "<table border=\"1\" class=\"dataframe\">\n",
       "  <thead>\n",
       "    <tr style=\"text-align: right;\">\n",
       "      <th></th>\n",
       "      <th>doc_id</th>\n",
       "      <th>topic_id</th>\n",
       "      <th>topic_score</th>\n",
       "    </tr>\n",
       "  </thead>\n",
       "  <tbody>\n",
       "    <tr>\n",
       "      <th>38431</th>\n",
       "      <td>bp_1974.06.04_doc_I-8</td>\n",
       "      <td>0</td>\n",
       "      <td>0.802070</td>\n",
       "    </tr>\n",
       "    <tr>\n",
       "      <th>39478</th>\n",
       "      <td>bp_1974.06.04_doc_IV-52</td>\n",
       "      <td>0</td>\n",
       "      <td>0.752500</td>\n",
       "    </tr>\n",
       "    <tr>\n",
       "      <th>9804</th>\n",
       "      <td>ag_1974.01.22_doc_III-55</td>\n",
       "      <td>0</td>\n",
       "      <td>0.710143</td>\n",
       "    </tr>\n",
       "    <tr>\n",
       "      <th>100930</th>\n",
       "      <td>rb_1974.04.17_doc_I-25</td>\n",
       "      <td>0</td>\n",
       "      <td>0.695817</td>\n",
       "    </tr>\n",
       "    <tr>\n",
       "      <th>105726</th>\n",
       "      <td>rb_1974.05.23_doc_III-11</td>\n",
       "      <td>0</td>\n",
       "      <td>0.689169</td>\n",
       "    </tr>\n",
       "  </tbody>\n",
       "</table>\n",
       "</div>"
      ],
      "text/plain": [
       "                          doc_id  topic_id  topic_score\n",
       "38431      bp_1974.06.04_doc_I-8         0     0.802070\n",
       "39478    bp_1974.06.04_doc_IV-52         0     0.752500\n",
       "9804    ag_1974.01.22_doc_III-55         0     0.710143\n",
       "100930    rb_1974.04.17_doc_I-25         0     0.695817\n",
       "105726  rb_1974.05.23_doc_III-11         0     0.689169"
      ]
     },
     "execution_count": 7,
     "metadata": {},
     "output_type": "execute_result"
    }
   ],
   "source": [
    "topic_doc = topic_doc.sort_values(['topic_id', 'topic_score'], ascending=[True, False])\n",
    "topic_doc.head()"
   ]
  },
  {
   "cell_type": "markdown",
   "metadata": {},
   "source": [
    "# docs and persons"
   ]
  },
  {
   "cell_type": "code",
   "execution_count": 9,
   "metadata": {},
   "outputs": [],
   "source": [
    "# persons.rename(columns={\"person_name\": \"name\"}, inplace=True)\n",
    "persons.rename(index=str, columns={\"id\": \"person_id\", \"person_name\": \"name\"}, inplace=True)"
   ]
  },
  {
   "cell_type": "raw",
   "metadata": {},
   "source": [
    "persons = cpdoc_tables['persons']\n",
    "persons.rename(index=str, columns={\"id\": \"person_id\"}, inplace=True)"
   ]
  },
  {
   "cell_type": "code",
   "execution_count": 10,
   "metadata": {},
   "outputs": [],
   "source": [
    "# person_doc = cpdoc_tables['person_doc ']\n",
    "person_doc = pd.merge(person_doc, persons, on='person_id', how='inner')\n",
    "person_doc = person_doc[['person_id', 'doc_id', 'person_count', 'name']]\n",
    "person_doc = person_doc.replace('(.*),(.*),.*', r'\\1,\\2', regex=True)\n",
    "person_doc = person_doc.replace('(.*), (.*)', r'\\2 \\1', regex=True)"
   ]
  },
  {
   "cell_type": "code",
   "execution_count": 11,
   "metadata": {},
   "outputs": [],
   "source": [
    "#remove special characters\n",
    "person_doc = person_doc.name.apply(pd.Series) \\\n",
    "    .replace('[“”]', '', regex=True) \\\n",
    "    .replace('[áàãâ]', 'a', regex=True) \\\n",
    "    .replace('[óòõô]', 'o', regex=True) \\\n",
    "    .replace('[éèê]', 'e', regex=True) \\\n",
    "    .replace('[íì]', 'i', regex=True) \\\n",
    "    .replace('[úù]', 'u', regex=True) \\\n",
    "    .replace('ç', 'c', regex=True) \\\n",
    "    .merge(person_doc, left_index = True, right_index = True) \\\n",
    "    .drop(\"name\", axis=1) \\\n",
    "    .rename(columns={0: \"name\"})"
   ]
  },
  {
   "cell_type": "code",
   "execution_count": 12,
   "metadata": {
    "scrolled": true
   },
   "outputs": [
    {
     "data": {
      "text/html": [
       "<div>\n",
       "<style scoped>\n",
       "    .dataframe tbody tr th:only-of-type {\n",
       "        vertical-align: middle;\n",
       "    }\n",
       "\n",
       "    .dataframe tbody tr th {\n",
       "        vertical-align: top;\n",
       "    }\n",
       "\n",
       "    .dataframe thead th {\n",
       "        text-align: right;\n",
       "    }\n",
       "</style>\n",
       "<table border=\"1\" class=\"dataframe\">\n",
       "  <thead>\n",
       "    <tr style=\"text-align: right;\">\n",
       "      <th></th>\n",
       "      <th>name</th>\n",
       "      <th>person_id</th>\n",
       "      <th>doc_id</th>\n",
       "      <th>person_count</th>\n",
       "    </tr>\n",
       "  </thead>\n",
       "  <tbody>\n",
       "    <tr>\n",
       "      <th>0</th>\n",
       "      <td>Antonio Azeredo Da Silveira</td>\n",
       "      <td>500084</td>\n",
       "      <td>ag_1973.11.20_doc_I-8</td>\n",
       "      <td>1</td>\n",
       "    </tr>\n",
       "    <tr>\n",
       "      <th>1</th>\n",
       "      <td>Antonio Azeredo Da Silveira</td>\n",
       "      <td>500084</td>\n",
       "      <td>ag_1973.11.20_doc_I-9</td>\n",
       "      <td>1</td>\n",
       "    </tr>\n",
       "    <tr>\n",
       "      <th>2</th>\n",
       "      <td>Antonio Azeredo Da Silveira</td>\n",
       "      <td>500084</td>\n",
       "      <td>ag_1973.11.20_doc_I-13</td>\n",
       "      <td>1</td>\n",
       "    </tr>\n",
       "    <tr>\n",
       "      <th>3</th>\n",
       "      <td>Antonio Azeredo Da Silveira</td>\n",
       "      <td>500084</td>\n",
       "      <td>ag_1973.11.20_doc_I-22</td>\n",
       "      <td>1</td>\n",
       "    </tr>\n",
       "    <tr>\n",
       "      <th>4</th>\n",
       "      <td>Antonio Azeredo Da Silveira</td>\n",
       "      <td>500084</td>\n",
       "      <td>ag_1973.11.20_doc_I-23</td>\n",
       "      <td>1</td>\n",
       "    </tr>\n",
       "  </tbody>\n",
       "</table>\n",
       "</div>"
      ],
      "text/plain": [
       "                          name person_id                  doc_id  person_count\n",
       "0  Antonio Azeredo Da Silveira    500084   ag_1973.11.20_doc_I-8             1\n",
       "1  Antonio Azeredo Da Silveira    500084   ag_1973.11.20_doc_I-9             1\n",
       "2  Antonio Azeredo Da Silveira    500084  ag_1973.11.20_doc_I-13             1\n",
       "3  Antonio Azeredo Da Silveira    500084  ag_1973.11.20_doc_I-22             1\n",
       "4  Antonio Azeredo Da Silveira    500084  ag_1973.11.20_doc_I-23             1"
      ]
     },
     "execution_count": 12,
     "metadata": {},
     "output_type": "execute_result"
    }
   ],
   "source": [
    "person_doc.head()"
   ]
  },
  {
   "cell_type": "code",
   "execution_count": 13,
   "metadata": {},
   "outputs": [],
   "source": [
    "person_doc_count = pd.DataFrame(person_doc.groupby(['name'])['person_count'].agg('count')) #.apply(sum)\n",
    "person_doc_count = person_doc_count.reset_index()"
   ]
  },
  {
   "cell_type": "markdown",
   "metadata": {},
   "source": [
    "# docs and tokens"
   ]
  },
  {
   "cell_type": "code",
   "execution_count": 14,
   "metadata": {},
   "outputs": [
    {
     "data": {
      "text/html": [
       "<div>\n",
       "<style scoped>\n",
       "    .dataframe tbody tr th:only-of-type {\n",
       "        vertical-align: middle;\n",
       "    }\n",
       "\n",
       "    .dataframe tbody tr th {\n",
       "        vertical-align: top;\n",
       "    }\n",
       "\n",
       "    .dataframe thead th {\n",
       "        text-align: right;\n",
       "    }\n",
       "</style>\n",
       "<table border=\"1\" class=\"dataframe\">\n",
       "  <thead>\n",
       "    <tr style=\"text-align: right;\">\n",
       "      <th></th>\n",
       "      <th>id</th>\n",
       "      <th>main_language</th>\n",
       "      <th>readability</th>\n",
       "      <th>url</th>\n",
       "      <th>body</th>\n",
       "    </tr>\n",
       "  </thead>\n",
       "  <tbody>\n",
       "    <tr>\n",
       "      <th>0</th>\n",
       "      <td>ag_1973.11.20_doc_I-1</td>\n",
       "      <td>none</td>\n",
       "      <td>0.400000</td>\n",
       "      <td>http://www.fgv.br/cpdoc/acervo/arquivo-pessoal...</td>\n",
       "      <td>\\n\\njr, /h ' \"&amp; m$ hb'h'qo\\n&amp; la'?\\n\\n, é %%3...</td>\n",
       "    </tr>\n",
       "    <tr>\n",
       "      <th>1</th>\n",
       "      <td>ag_1973.11.20_doc_I-4</td>\n",
       "      <td>none</td>\n",
       "      <td>-1.000000</td>\n",
       "      <td>http://www.fgv.br/cpdoc/acervo/arquivo-pessoal...</td>\n",
       "      <td>\\n\\n\"**; %wwffwç (. sz\\nao?\\n\\nray\\n\\nmax meo...</td>\n",
       "    </tr>\n",
       "    <tr>\n",
       "      <th>2</th>\n",
       "      <td>ag_1973.11.20_doc_I-5</td>\n",
       "      <td>none</td>\n",
       "      <td>-1.000000</td>\n",
       "      <td>http://www.fgv.br/cpdoc/acervo/arquivo-pessoal...</td>\n",
       "      <td>am 1933 m 90\\n\\nw ij\"?\\n(\\n\\nt\\n\\ne\\nzi\\n\\nurd...</td>\n",
       "    </tr>\n",
       "    <tr>\n",
       "      <th>3</th>\n",
       "      <td>ag_1973.11.20_doc_I-7</td>\n",
       "      <td>pt</td>\n",
       "      <td>-1.000000</td>\n",
       "      <td>http://www.fgv.br/cpdoc/acervo/arquivo-pessoal...</td>\n",
       "      <td>ôôô/ma 44 w\\nwil\"\\n/ oe;\\n\\n  \\n\\ncentro de es...</td>\n",
       "    </tr>\n",
       "    <tr>\n",
       "      <th>4</th>\n",
       "      <td>ag_1973.11.20_doc_I-8</td>\n",
       "      <td>pt</td>\n",
       "      <td>0.615385</td>\n",
       "      <td>http://www.fgv.br/cpdoc/acervo/arquivo-pessoal...</td>\n",
       "      <td>\\n\\nxx&gt;4áiãfkk ;g*\\n\\nmv, ; (905\\n\\n \\n\\ntele...</td>\n",
       "    </tr>\n",
       "  </tbody>\n",
       "</table>\n",
       "</div>"
      ],
      "text/plain": [
       "                      id main_language  readability  \\\n",
       "0  ag_1973.11.20_doc_I-1          none     0.400000   \n",
       "1  ag_1973.11.20_doc_I-4          none    -1.000000   \n",
       "2  ag_1973.11.20_doc_I-5          none    -1.000000   \n",
       "3  ag_1973.11.20_doc_I-7            pt    -1.000000   \n",
       "4  ag_1973.11.20_doc_I-8            pt     0.615385   \n",
       "\n",
       "                                                 url  \\\n",
       "0  http://www.fgv.br/cpdoc/acervo/arquivo-pessoal...   \n",
       "1  http://www.fgv.br/cpdoc/acervo/arquivo-pessoal...   \n",
       "2  http://www.fgv.br/cpdoc/acervo/arquivo-pessoal...   \n",
       "3  http://www.fgv.br/cpdoc/acervo/arquivo-pessoal...   \n",
       "4  http://www.fgv.br/cpdoc/acervo/arquivo-pessoal...   \n",
       "\n",
       "                                                body  \n",
       "0   \\n\\njr, /h ' \"& m$ hb'h'qo\\n& la'?\\n\\n, é %%3...  \n",
       "1   \\n\\n\"**; %wwffwç (. sz\\nao?\\n\\nray\\n\\nmax meo...  \n",
       "2  am 1933 m 90\\n\\nw ij\"?\\n(\\n\\nt\\n\\ne\\nzi\\n\\nurd...  \n",
       "3  ôôô/ma 44 w\\nwil\"\\n/ oe;\\n\\n  \\n\\ncentro de es...  \n",
       "4   \\n\\nxx>4áiãfkk ;g*\\n\\nmv, ; (905\\n\\n \\n\\ntele...  "
      ]
     },
     "execution_count": 14,
     "metadata": {},
     "output_type": "execute_result"
    }
   ],
   "source": [
    "docs.head()"
   ]
  },
  {
   "cell_type": "code",
   "execution_count": 15,
   "metadata": {},
   "outputs": [
    {
     "data": {
      "text/html": [
       "<div>\n",
       "<style scoped>\n",
       "    .dataframe tbody tr th:only-of-type {\n",
       "        vertical-align: middle;\n",
       "    }\n",
       "\n",
       "    .dataframe tbody tr th {\n",
       "        vertical-align: top;\n",
       "    }\n",
       "\n",
       "    .dataframe thead th {\n",
       "        text-align: right;\n",
       "    }\n",
       "</style>\n",
       "<table border=\"1\" class=\"dataframe\">\n",
       "  <thead>\n",
       "    <tr style=\"text-align: right;\">\n",
       "      <th></th>\n",
       "      <th>doc_id</th>\n",
       "      <th>url</th>\n",
       "      <th>body</th>\n",
       "      <th>length</th>\n",
       "    </tr>\n",
       "  </thead>\n",
       "  <tbody>\n",
       "    <tr>\n",
       "      <th>0</th>\n",
       "      <td>ag_1973.11.20_doc_I-1</td>\n",
       "      <td>http://www.fgv.br/cpdoc/acervo/arquivo-pessoal...</td>\n",
       "      <td>\\n\\njr, /h ' \"&amp; m$ hb'h'qo\\n&amp; la'?\\n\\n, é %%3...</td>\n",
       "      <td>261</td>\n",
       "    </tr>\n",
       "    <tr>\n",
       "      <th>1</th>\n",
       "      <td>ag_1973.11.20_doc_I-4</td>\n",
       "      <td>http://www.fgv.br/cpdoc/acervo/arquivo-pessoal...</td>\n",
       "      <td>\\n\\n\"**; %wwffwç (. sz\\nao?\\n\\nray\\n\\nmax meo...</td>\n",
       "      <td>54</td>\n",
       "    </tr>\n",
       "    <tr>\n",
       "      <th>2</th>\n",
       "      <td>ag_1973.11.20_doc_I-5</td>\n",
       "      <td>http://www.fgv.br/cpdoc/acervo/arquivo-pessoal...</td>\n",
       "      <td>am 1933 m 90\\n\\nw ij\"?\\n(\\n\\nt\\n\\ne\\nzi\\n\\nurd...</td>\n",
       "      <td>64</td>\n",
       "    </tr>\n",
       "    <tr>\n",
       "      <th>3</th>\n",
       "      <td>ag_1973.11.20_doc_I-7</td>\n",
       "      <td>http://www.fgv.br/cpdoc/acervo/arquivo-pessoal...</td>\n",
       "      <td>ôôô/ma 44 w\\nwil\"\\n/ oe;\\n\\n  \\n\\ncentro de es...</td>\n",
       "      <td>75</td>\n",
       "    </tr>\n",
       "    <tr>\n",
       "      <th>4</th>\n",
       "      <td>ag_1973.11.20_doc_I-8</td>\n",
       "      <td>http://www.fgv.br/cpdoc/acervo/arquivo-pessoal...</td>\n",
       "      <td>\\n\\nxx&gt;4áiãfkk ;g*\\n\\nmv, ; (905\\n\\n \\n\\ntele...</td>\n",
       "      <td>202</td>\n",
       "    </tr>\n",
       "  </tbody>\n",
       "</table>\n",
       "</div>"
      ],
      "text/plain": [
       "                  doc_id                                                url  \\\n",
       "0  ag_1973.11.20_doc_I-1  http://www.fgv.br/cpdoc/acervo/arquivo-pessoal...   \n",
       "1  ag_1973.11.20_doc_I-4  http://www.fgv.br/cpdoc/acervo/arquivo-pessoal...   \n",
       "2  ag_1973.11.20_doc_I-5  http://www.fgv.br/cpdoc/acervo/arquivo-pessoal...   \n",
       "3  ag_1973.11.20_doc_I-7  http://www.fgv.br/cpdoc/acervo/arquivo-pessoal...   \n",
       "4  ag_1973.11.20_doc_I-8  http://www.fgv.br/cpdoc/acervo/arquivo-pessoal...   \n",
       "\n",
       "                                                body  length  \n",
       "0   \\n\\njr, /h ' \"& m$ hb'h'qo\\n& la'?\\n\\n, é %%3...     261  \n",
       "1   \\n\\n\"**; %wwffwç (. sz\\nao?\\n\\nray\\n\\nmax meo...      54  \n",
       "2  am 1933 m 90\\n\\nw ij\"?\\n(\\n\\nt\\n\\ne\\nzi\\n\\nurd...      64  \n",
       "3  ôôô/ma 44 w\\nwil\"\\n/ oe;\\n\\n  \\n\\ncentro de es...      75  \n",
       "4   \\n\\nxx>4áiãfkk ;g*\\n\\nmv, ; (905\\n\\n \\n\\ntele...     202  "
      ]
     },
     "execution_count": 15,
     "metadata": {},
     "output_type": "execute_result"
    }
   ],
   "source": [
    "docs = docs[['id', 'url', 'body']]\n",
    "docs = docs.rename(index=str, columns={\"id\": \"doc_id\"})\n",
    "docs['length'] = docs['body'].apply(lambda x: len(x.split()))\n",
    "docs.head()"
   ]
  },
  {
   "cell_type": "markdown",
   "metadata": {},
   "source": [
    "# words and topics"
   ]
  },
  {
   "cell_type": "code",
   "execution_count": 16,
   "metadata": {},
   "outputs": [],
   "source": [
    "file_lda_model = os.path.join(inputs,'model_lda_100_rs_00.pkl')\n",
    "lda_model = pickle.load(open(file_lda_model, 'rb'))"
   ]
  },
  {
   "cell_type": "code",
   "execution_count": 17,
   "metadata": {},
   "outputs": [],
   "source": [
    "def remove_special_char(text):\n",
    "    text = re.sub('[áàãâ]', 'a', text)\n",
    "    text = re.sub('[óòõô]', 'o', text)\n",
    "    text = re.sub('[éèê]', 'e', text)\n",
    "    text = re.sub('[íì]', 'i', text)\n",
    "    text = re.sub('[úù]', 'u', text)\n",
    "    text = re.sub('ç', 'c', text)\n",
    "    return text"
   ]
  },
  {
   "cell_type": "code",
   "execution_count": 18,
   "metadata": {},
   "outputs": [],
   "source": [
    "def retrieve_tokens(text, df):\n",
    "    main_tokens = []\n",
    "    for token in df['tokens']:\n",
    "        if token in text:\n",
    "            token = remove_special_char(token)\n",
    "            main_tokens.append(token)\n",
    "    return main_tokens"
   ]
  },
  {
   "cell_type": "markdown",
   "metadata": {},
   "source": [
    "# build vis table"
   ]
  },
  {
   "cell_type": "code",
   "execution_count": 22,
   "metadata": {},
   "outputs": [],
   "source": [
    "def build_vis_table(topic_id, df):\n",
    "    topic_tokens = lda_model.print_topics(-1, num_words=20)[topic_id]\n",
    "    \n",
    "    tokens = []\n",
    "    scores = []\n",
    "    for i in topic_tokens[1].split('+'):\n",
    "        token = re.sub('.*\\*\"(.*)\".*', r'\\1', i)\n",
    "        score = re.sub(' *(.*)\\*.*', r'\\1', i)\n",
    "        score = float(score)\n",
    "        tokens.append(token)\n",
    "        scores.append(score)\n",
    "    token_score_dict = {'tokens': tokens, 'scores': scores}\n",
    "    token_score = pd.DataFrame(token_score_dict)\n",
    "    \n",
    "    docs['tokens'] = docs['body'].apply(lambda text: retrieve_tokens(text, token_score))\n",
    "    \n",
    "    #filter by topic\n",
    "    df = df.loc[df['topic_id'] == topic_id].sort_values(by=['topic_score'], ascending=False)\n",
    "    df = df.head(20)\n",
    "    \n",
    "    ### merge topics and tokens\n",
    "    df = pd.merge(df, docs, on='doc_id', how='inner')\n",
    "    \n",
    "    ### relate docs to list of persons\n",
    "    #filters person_doc\n",
    "    array = list(df['doc_id'])\n",
    "    person_doc_filtered = person_doc.loc[person_doc['doc_id'].isin(array)]\n",
    "    \n",
    "    #apply list of persons\n",
    "    person_doc_filtered = person_doc_filtered.groupby(['doc_id'])['name'].apply(list)\n",
    "    person_doc_filtered = pd.DataFrame({'doc_id':person_doc_filtered.index, 'names':person_doc_filtered.values})\n",
    "    \n",
    "    #merge topics and persons\n",
    "    df = pd.merge(df, person_doc_filtered, on='doc_id', how='outer')\n",
    "#     df['year'] = df['date'].apply(lambda x: x.year)\n",
    "    df = df.astype({'names': 'object'})\n",
    "    for row in df.loc[df.names.isnull(), 'names'].index:\n",
    "        df.at[row, 'names'] = []\n",
    "    \n",
    "    return df"
   ]
  },
  {
   "cell_type": "code",
   "execution_count": 23,
   "metadata": {},
   "outputs": [],
   "source": [
    "topic_vis_dict = {}"
   ]
  },
  {
   "cell_type": "code",
   "execution_count": 24,
   "metadata": {},
   "outputs": [],
   "source": [
    "for i in range(100):\n",
    "    topic_vis_dict[i] = build_vis_table(i, topic_doc)"
   ]
  },
  {
   "cell_type": "code",
   "execution_count": 25,
   "metadata": {},
   "outputs": [
    {
     "data": {
      "text/plain": [
       "dict_keys([0, 1, 2, 3, 4, 5, 6, 7, 8, 9, 10, 11, 12, 13, 14, 15, 16, 17, 18, 19, 20, 21, 22, 23, 24, 25, 26, 27, 28, 29, 30, 31, 32, 33, 34, 35, 36, 37, 38, 39, 40, 41, 42, 43, 44, 45, 46, 47, 48, 49, 50, 51, 52, 53, 54, 55, 56, 57, 58, 59, 60, 61, 62, 63, 64, 65, 66, 67, 68, 69, 70, 71, 72, 73, 74, 75, 76, 77, 78, 79, 80, 81, 82, 83, 84, 85, 86, 87, 88, 89, 90, 91, 92, 93, 94, 95, 96, 97, 98, 99])"
      ]
     },
     "execution_count": 25,
     "metadata": {},
     "output_type": "execute_result"
    }
   ],
   "source": [
    "topic_vis_dict.keys()"
   ]
  },
  {
   "cell_type": "code",
   "execution_count": 26,
   "metadata": {},
   "outputs": [
    {
     "data": {
      "text/html": [
       "<div>\n",
       "<style scoped>\n",
       "    .dataframe tbody tr th:only-of-type {\n",
       "        vertical-align: middle;\n",
       "    }\n",
       "\n",
       "    .dataframe tbody tr th {\n",
       "        vertical-align: top;\n",
       "    }\n",
       "\n",
       "    .dataframe thead th {\n",
       "        text-align: right;\n",
       "    }\n",
       "</style>\n",
       "<table border=\"1\" class=\"dataframe\">\n",
       "  <thead>\n",
       "    <tr style=\"text-align: right;\">\n",
       "      <th></th>\n",
       "      <th>doc_id</th>\n",
       "      <th>topic_id</th>\n",
       "      <th>topic_score</th>\n",
       "      <th>url</th>\n",
       "      <th>body</th>\n",
       "      <th>length</th>\n",
       "      <th>tokens</th>\n",
       "      <th>names</th>\n",
       "    </tr>\n",
       "  </thead>\n",
       "  <tbody>\n",
       "    <tr>\n",
       "      <th>15</th>\n",
       "      <td>pn_1975.00.00_doc_6</td>\n",
       "      <td>7</td>\n",
       "      <td>0.310567</td>\n",
       "      <td>http://www.fgv.br/cpdoc/acervo/arquivo-pessoal...</td>\n",
       "      <td>\\n\\n  \\n  \\n\\ná4ó (%?ç'quoicg; vê!/avó m &amp; \"l...</td>\n",
       "      <td>251</td>\n",
       "      <td>[nuclear, nucleares, brasil, armas, tratado]</td>\n",
       "      <td>[]</td>\n",
       "    </tr>\n",
       "    <tr>\n",
       "      <th>16</th>\n",
       "      <td>pn_1974.08.15_doc_III-31</td>\n",
       "      <td>7</td>\n",
       "      <td>0.303898</td>\n",
       "      <td>http://www.fgv.br/cpdoc/acervo/arquivo-pessoal...</td>\n",
       "      <td>secreto-excâusãvo\\n\\nsubsídios para as consult...</td>\n",
       "      <td>4549</td>\n",
       "      <td>[nuclear, acordo, energia, nucleares, brasil, ...</td>\n",
       "      <td>[Jimmy Carter, Cyrus Vance, Helmut Schmidt]</td>\n",
       "    </tr>\n",
       "    <tr>\n",
       "      <th>17</th>\n",
       "      <td>pn_1976.12.28_doc_29</td>\n",
       "      <td>7</td>\n",
       "      <td>0.300879</td>\n",
       "      <td>http://www.fgv.br/cpdoc/acervo/arquivo-pessoal...</td>\n",
       "      <td>telegrama recebido '\\n\\naaaa [97034 . é?\\no\" '...</td>\n",
       "      <td>845</td>\n",
       "      <td>[nuclear, acordo, energia, nucleares, brasil, ...</td>\n",
       "      <td>[Jimmy Carter]</td>\n",
       "    </tr>\n",
       "    <tr>\n",
       "      <th>18</th>\n",
       "      <td>pn_1974.08.15_doc_II-1</td>\n",
       "      <td>7</td>\n",
       "      <td>0.290118</td>\n",
       "      <td>http://www.fgv.br/cpdoc/acervo/arquivo-pessoal...</td>\n",
       "      <td>\\n\\nmmm\\n\\n\"a. . .. , . ..\\n\\n' o acordo nucl...</td>\n",
       "      <td>1672</td>\n",
       "      <td>[nuclear, acordo, energia, nucleares, brasil, ...</td>\n",
       "      <td>[Jimmy Carter]</td>\n",
       "    </tr>\n",
       "    <tr>\n",
       "      <th>19</th>\n",
       "      <td>pn_1976.12.28_doc_16</td>\n",
       "      <td>7</td>\n",
       "      <td>0.286759</td>\n",
       "      <td>http://www.fgv.br/cpdoc/acervo/arquivo-pessoal...</td>\n",
       "      <td>antonio la'. aiii-1315230 da sxmrâxm\\njáwówa i...</td>\n",
       "      <td>330</td>\n",
       "      <td>[acordo, energia, brasil, uranio, rfa, salvagu...</td>\n",
       "      <td>[Antonio Azeredo Da Silveira]</td>\n",
       "    </tr>\n",
       "  </tbody>\n",
       "</table>\n",
       "</div>"
      ],
      "text/plain": [
       "                      doc_id  topic_id  topic_score  \\\n",
       "15       pn_1975.00.00_doc_6         7     0.310567   \n",
       "16  pn_1974.08.15_doc_III-31         7     0.303898   \n",
       "17      pn_1976.12.28_doc_29         7     0.300879   \n",
       "18    pn_1974.08.15_doc_II-1         7     0.290118   \n",
       "19      pn_1976.12.28_doc_16         7     0.286759   \n",
       "\n",
       "                                                  url  \\\n",
       "15  http://www.fgv.br/cpdoc/acervo/arquivo-pessoal...   \n",
       "16  http://www.fgv.br/cpdoc/acervo/arquivo-pessoal...   \n",
       "17  http://www.fgv.br/cpdoc/acervo/arquivo-pessoal...   \n",
       "18  http://www.fgv.br/cpdoc/acervo/arquivo-pessoal...   \n",
       "19  http://www.fgv.br/cpdoc/acervo/arquivo-pessoal...   \n",
       "\n",
       "                                                 body  length  \\\n",
       "15   \\n\\n  \\n  \\n\\ná4ó (%?ç'quoicg; vê!/avó m & \"l...     251   \n",
       "16  secreto-excâusãvo\\n\\nsubsídios para as consult...    4549   \n",
       "17  telegrama recebido '\\n\\naaaa [97034 . é?\\no\" '...     845   \n",
       "18   \\n\\nmmm\\n\\n\"a. . .. , . ..\\n\\n' o acordo nucl...    1672   \n",
       "19  antonio la'. aiii-1315230 da sxmrâxm\\njáwówa i...     330   \n",
       "\n",
       "                                               tokens  \\\n",
       "15       [nuclear, nucleares, brasil, armas, tratado]   \n",
       "16  [nuclear, acordo, energia, nucleares, brasil, ...   \n",
       "17  [nuclear, acordo, energia, nucleares, brasil, ...   \n",
       "18  [nuclear, acordo, energia, nucleares, brasil, ...   \n",
       "19  [acordo, energia, brasil, uranio, rfa, salvagu...   \n",
       "\n",
       "                                          names  \n",
       "15                                           []  \n",
       "16  [Jimmy Carter, Cyrus Vance, Helmut Schmidt]  \n",
       "17                               [Jimmy Carter]  \n",
       "18                               [Jimmy Carter]  \n",
       "19                [Antonio Azeredo Da Silveira]  "
      ]
     },
     "execution_count": 26,
     "metadata": {},
     "output_type": "execute_result"
    }
   ],
   "source": [
    "topic_vis_dict[7].tail()"
   ]
  },
  {
   "cell_type": "code",
   "execution_count": 138,
   "metadata": {
    "scrolled": true
   },
   "outputs": [
    {
     "data": {
      "text/html": [
       "<div>\n",
       "<style scoped>\n",
       "    .dataframe tbody tr th:only-of-type {\n",
       "        vertical-align: middle;\n",
       "    }\n",
       "\n",
       "    .dataframe tbody tr th {\n",
       "        vertical-align: top;\n",
       "    }\n",
       "\n",
       "    .dataframe thead th {\n",
       "        text-align: right;\n",
       "    }\n",
       "</style>\n",
       "<table border=\"1\" class=\"dataframe\">\n",
       "  <thead>\n",
       "    <tr style=\"text-align: right;\">\n",
       "      <th></th>\n",
       "      <th>doc_id</th>\n",
       "      <th>topic_id</th>\n",
       "      <th>topic_score</th>\n",
       "      <th>date</th>\n",
       "      <th>pdf</th>\n",
       "      <th>body</th>\n",
       "      <th>length</th>\n",
       "      <th>tokens</th>\n",
       "      <th>names</th>\n",
       "      <th>year</th>\n",
       "    </tr>\n",
       "  </thead>\n",
       "  <tbody>\n",
       "    <tr>\n",
       "      <th>15</th>\n",
       "      <td>bp_1977.03.10_doc_V-3</td>\n",
       "      <td>5049</td>\n",
       "      <td>0.471688</td>\n",
       "      <td>1978-01-15</td>\n",
       "      <td>http://www.fgv.br/cpdoc/acervo/arquivo-pessoal...</td>\n",
       "      <td>. \"* aas_ manoa-to\\n/ . _ - . . awm)\\n\\nsala-1...</td>\n",
       "      <td>6339</td>\n",
       "      <td>[itaipu, rio, cota, operacao, energia, constru...</td>\n",
       "      <td>[Antonio Azeredo da Silveira, Costa Cavalcanti...</td>\n",
       "      <td>1978</td>\n",
       "    </tr>\n",
       "    <tr>\n",
       "      <th>16</th>\n",
       "      <td>bp_1977.09.13_doc_II-2</td>\n",
       "      <td>5049</td>\n",
       "      <td>0.469907</td>\n",
       "      <td>1977-04-15</td>\n",
       "      <td>http://www.fgv.br/cpdoc/acervo/arquivo-pessoal...</td>\n",
       "      <td>- informação no? 332/76 - estudo sobre a fixaç...</td>\n",
       "      <td>2444</td>\n",
       "      <td>[itaipu, rio, corpus, cota, operacao, energia,...</td>\n",
       "      <td>[]</td>\n",
       "      <td>1977</td>\n",
       "    </tr>\n",
       "    <tr>\n",
       "      <th>17</th>\n",
       "      <td>d_1974.03.26_doc_XXXI-44</td>\n",
       "      <td>5049</td>\n",
       "      <td>0.466800</td>\n",
       "      <td>1978-01-15</td>\n",
       "      <td>http://www.fgv.br/cpdoc/acervo/arquivo-pessoal...</td>\n",
       "      <td>\\n\\n \\n\\n   \\n\\nwm\\n\"mg . .\\na\" rio âecreto\\n...</td>\n",
       "      <td>6152</td>\n",
       "      <td>[itaipu, rio, cota, operacao, energia, constru...</td>\n",
       "      <td>[Antonio Azeredo da Silveira, Costa Cavalcanti...</td>\n",
       "      <td>1978</td>\n",
       "    </tr>\n",
       "    <tr>\n",
       "      <th>18</th>\n",
       "      <td>bp_1977.09.13_doc_I-14</td>\n",
       "      <td>5049</td>\n",
       "      <td>0.455080</td>\n",
       "      <td>1977-04-15</td>\n",
       "      <td>http://www.fgv.br/cpdoc/acervo/arquivo-pessoal...</td>\n",
       "      <td>/\\n\\n \\n\\n \\n\\n \\n\\na\\n\\n \\n\\n!\\n\\n \\n\\n  o:\"i...</td>\n",
       "      <td>1690</td>\n",
       "      <td>[itaipu, rio, corpus, cota, construcao, parana...</td>\n",
       "      <td>[]</td>\n",
       "      <td>1977</td>\n",
       "    </tr>\n",
       "    <tr>\n",
       "      <th>19</th>\n",
       "      <td>bp_1977.03.10_doc_III-18</td>\n",
       "      <td>5049</td>\n",
       "      <td>0.452564</td>\n",
       "      <td>1977-11-15</td>\n",
       "      <td>http://www.fgv.br/cpdoc/acervo/arquivo-pessoal...</td>\n",
       "      <td>\\n\\nwma-03.40\\njg?\\n(é. /, () h\\n\\n confidenc...</td>\n",
       "      <td>409</td>\n",
       "      <td>[itaipu, rio, corpus, cota, operacao, construc...</td>\n",
       "      <td>[]</td>\n",
       "      <td>1977</td>\n",
       "    </tr>\n",
       "  </tbody>\n",
       "</table>\n",
       "</div>"
      ],
      "text/plain": [
       "                      doc_id  topic_id  topic_score       date  \\\n",
       "15     bp_1977.03.10_doc_V-3      5049     0.471688 1978-01-15   \n",
       "16    bp_1977.09.13_doc_II-2      5049     0.469907 1977-04-15   \n",
       "17  d_1974.03.26_doc_XXXI-44      5049     0.466800 1978-01-15   \n",
       "18    bp_1977.09.13_doc_I-14      5049     0.455080 1977-04-15   \n",
       "19  bp_1977.03.10_doc_III-18      5049     0.452564 1977-11-15   \n",
       "\n",
       "                                                  pdf  \\\n",
       "15  http://www.fgv.br/cpdoc/acervo/arquivo-pessoal...   \n",
       "16  http://www.fgv.br/cpdoc/acervo/arquivo-pessoal...   \n",
       "17  http://www.fgv.br/cpdoc/acervo/arquivo-pessoal...   \n",
       "18  http://www.fgv.br/cpdoc/acervo/arquivo-pessoal...   \n",
       "19  http://www.fgv.br/cpdoc/acervo/arquivo-pessoal...   \n",
       "\n",
       "                                                 body  length  \\\n",
       "15  . \"* aas_ manoa-to\\n/ . _ - . . awm)\\n\\nsala-1...    6339   \n",
       "16  - informação no? 332/76 - estudo sobre a fixaç...    2444   \n",
       "17   \\n\\n \\n\\n   \\n\\nwm\\n\"mg . .\\na\" rio âecreto\\n...    6152   \n",
       "18  /\\n\\n \\n\\n \\n\\n \\n\\na\\n\\n \\n\\n!\\n\\n \\n\\n  o:\"i...    1690   \n",
       "19   \\n\\nwma-03.40\\njg?\\n(é. /, () h\\n\\n confidenc...     409   \n",
       "\n",
       "                                               tokens  \\\n",
       "15  [itaipu, rio, cota, operacao, energia, constru...   \n",
       "16  [itaipu, rio, corpus, cota, operacao, energia,...   \n",
       "17  [itaipu, rio, cota, operacao, energia, constru...   \n",
       "18  [itaipu, rio, corpus, cota, construcao, parana...   \n",
       "19  [itaipu, rio, corpus, cota, operacao, construc...   \n",
       "\n",
       "                                                names  year  \n",
       "15  [Antonio Azeredo da Silveira, Costa Cavalcanti...  1978  \n",
       "16                                                 []  1977  \n",
       "17  [Antonio Azeredo da Silveira, Costa Cavalcanti...  1978  \n",
       "18                                                 []  1977  \n",
       "19                                                 []  1977  "
      ]
     },
     "execution_count": 138,
     "metadata": {},
     "output_type": "execute_result"
    }
   ],
   "source": [
    "topic_vis_dict[49].tail()"
   ]
  },
  {
   "cell_type": "markdown",
   "metadata": {},
   "source": [
    "# pickle file"
   ]
  },
  {
   "cell_type": "code",
   "execution_count": 27,
   "metadata": {},
   "outputs": [],
   "source": [
    "topics_dict_file = os.path.join(outputs, 'topics_dict.pkl')"
   ]
  },
  {
   "cell_type": "markdown",
   "metadata": {},
   "source": [
    "pickle for general data already saved. To overwrite:\n",
    "```python\n",
    "pickle.dump(topic_vis_dict, open(topics_dict_file, 'wb'))\n",
    "```"
   ]
  },
  {
   "cell_type": "code",
   "execution_count": 48,
   "metadata": {},
   "outputs": [],
   "source": [
    "with open(topics_dict_file, 'rb') as f:\n",
    "    topic_vis_dict = pickle.load(f)"
   ]
  },
  {
   "cell_type": "markdown",
   "metadata": {},
   "source": [
    "# Visualization of metadata\n",
    "obs: produced file might be useless"
   ]
  },
  {
   "cell_type": "code",
   "execution_count": 29,
   "metadata": {},
   "outputs": [
    {
     "name": "stderr",
     "output_type": "stream",
     "text": [
      "D:\\Users\\Marcelo\\Anaconda3\\lib\\site-packages\\pandas\\core\\frame.py:7138: FutureWarning: Sorting because non-concatenation axis is not aligned. A future version\n",
      "of pandas will change to not sort by default.\n",
      "\n",
      "To accept the future behavior, pass 'sort=False'.\n",
      "\n",
      "To retain the current behavior and silence the warning, pass 'sort=True'.\n",
      "\n",
      "  sort=sort,\n"
     ]
    }
   ],
   "source": [
    "topics_metadata = pd.DataFrame(columns=['mean_score', 'mean_length'])\n",
    "count=0\n",
    "for key, df in topic_vis_dict.items():\n",
    "    score_mean = df['topic_score'].mean()\n",
    "    length_mean = df['length'].mean()\n",
    "    row = pd.DataFrame([[key, score_mean, length_mean]], columns=['key', 'mean_score', 'mean_length'], index=[count])\n",
    "    topics_metadata = topics_metadata.append(row)\n",
    "    count+=1"
   ]
  },
  {
   "cell_type": "code",
   "execution_count": 30,
   "metadata": {},
   "outputs": [
    {
     "data": {
      "text/html": [
       "<div>\n",
       "<style scoped>\n",
       "    .dataframe tbody tr th:only-of-type {\n",
       "        vertical-align: middle;\n",
       "    }\n",
       "\n",
       "    .dataframe tbody tr th {\n",
       "        vertical-align: top;\n",
       "    }\n",
       "\n",
       "    .dataframe thead th {\n",
       "        text-align: right;\n",
       "    }\n",
       "</style>\n",
       "<table border=\"1\" class=\"dataframe\">\n",
       "  <thead>\n",
       "    <tr style=\"text-align: right;\">\n",
       "      <th></th>\n",
       "      <th>key</th>\n",
       "      <th>mean_length</th>\n",
       "      <th>mean_score</th>\n",
       "    </tr>\n",
       "  </thead>\n",
       "  <tbody>\n",
       "    <tr>\n",
       "      <th>0</th>\n",
       "      <td>0.0</td>\n",
       "      <td>520.25</td>\n",
       "      <td>0.651635</td>\n",
       "    </tr>\n",
       "    <tr>\n",
       "      <th>1</th>\n",
       "      <td>1.0</td>\n",
       "      <td>158.00</td>\n",
       "      <td>0.139641</td>\n",
       "    </tr>\n",
       "  </tbody>\n",
       "</table>\n",
       "</div>"
      ],
      "text/plain": [
       "   key  mean_length  mean_score\n",
       "0  0.0       520.25    0.651635\n",
       "1  1.0       158.00    0.139641"
      ]
     },
     "execution_count": 30,
     "metadata": {},
     "output_type": "execute_result"
    }
   ],
   "source": [
    "topics_metadata.head(2)"
   ]
  },
  {
   "cell_type": "code",
   "execution_count": 31,
   "metadata": {},
   "outputs": [],
   "source": [
    "topics_metadata_json = []\n",
    "for index, row in topics_metadata.iterrows():\n",
    "    temp_dict = {'key': row['key'], 'mean_length': row['mean_length'], 'mean_score': row['mean_score']}\n",
    "    topics_metadata_json.append(temp_dict)"
   ]
  },
  {
   "cell_type": "code",
   "execution_count": 32,
   "metadata": {},
   "outputs": [
    {
     "data": {
      "text/plain": [
       "[{'key': 0.0, 'mean_length': 520.25, 'mean_score': 0.6516352272112267},\n",
       " {'key': 1.0, 'mean_length': 158.0, 'mean_score': 0.13964124338376632}]"
      ]
     },
     "execution_count": 32,
     "metadata": {},
     "output_type": "execute_result"
    }
   ],
   "source": [
    "topics_metadata_json[:2]"
   ]
  },
  {
   "cell_type": "code",
   "execution_count": 33,
   "metadata": {},
   "outputs": [],
   "source": [
    "json.dump(topics_metadata_json, open('../outputs/topics_metadata.json', 'w'))"
   ]
  },
  {
   "cell_type": "markdown",
   "metadata": {},
   "source": [
    "# Visualization of a specific topic"
   ]
  },
  {
   "cell_type": "markdown",
   "metadata": {},
   "source": [
    "list split  in pandas: https://mikulskibartosz.name/how-to-split-a-list-inside-a-dataframe-cell-into-rows-in-pandas-9849d8ff2401"
   ]
  },
  {
   "cell_type": "code",
   "execution_count": 35,
   "metadata": {},
   "outputs": [
    {
     "data": {
      "text/html": [
       "<div>\n",
       "<style scoped>\n",
       "    .dataframe tbody tr th:only-of-type {\n",
       "        vertical-align: middle;\n",
       "    }\n",
       "\n",
       "    .dataframe tbody tr th {\n",
       "        vertical-align: top;\n",
       "    }\n",
       "\n",
       "    .dataframe thead th {\n",
       "        text-align: right;\n",
       "    }\n",
       "</style>\n",
       "<table border=\"1\" class=\"dataframe\">\n",
       "  <thead>\n",
       "    <tr style=\"text-align: right;\">\n",
       "      <th></th>\n",
       "      <th>doc_id</th>\n",
       "      <th>topic_id</th>\n",
       "      <th>topic_score</th>\n",
       "      <th>body</th>\n",
       "      <th>length</th>\n",
       "      <th>tokens</th>\n",
       "      <th>names</th>\n",
       "      <th>doc</th>\n",
       "      <th>url</th>\n",
       "    </tr>\n",
       "  </thead>\n",
       "  <tbody>\n",
       "    <tr>\n",
       "      <th>15</th>\n",
       "      <td>pn_1975.00.00_doc_6</td>\n",
       "      <td>7</td>\n",
       "      <td>0.310567</td>\n",
       "      <td>\\n\\n  \\n  \\n\\ná4ó (%?ç'quoicg; vê!/avó m &amp; \"l...</td>\n",
       "      <td>251</td>\n",
       "      <td>[nuclear, nucleares, brasil, armas, tratado]</td>\n",
       "      <td>[]</td>\n",
       "      <td>doc_6</td>\n",
       "      <td>http://www.fgv.br/cpdoc/acervo/arquivo-pessoal...</td>\n",
       "    </tr>\n",
       "    <tr>\n",
       "      <th>16</th>\n",
       "      <td>pn_1974.08.15_doc_III-31</td>\n",
       "      <td>7</td>\n",
       "      <td>0.303898</td>\n",
       "      <td>secreto-excâusãvo\\n\\nsubsídios para as consult...</td>\n",
       "      <td>4549</td>\n",
       "      <td>[nuclear, acordo, energia, nucleares, brasil, ...</td>\n",
       "      <td>[Jimmy Carter, Cyrus Vance, Helmut Schmidt]</td>\n",
       "      <td>doc_III-31</td>\n",
       "      <td>http://www.fgv.br/cpdoc/acervo/arquivo-pessoal...</td>\n",
       "    </tr>\n",
       "    <tr>\n",
       "      <th>17</th>\n",
       "      <td>pn_1976.12.28_doc_29</td>\n",
       "      <td>7</td>\n",
       "      <td>0.300879</td>\n",
       "      <td>telegrama recebido '\\n\\naaaa [97034 . é?\\no\" '...</td>\n",
       "      <td>845</td>\n",
       "      <td>[nuclear, acordo, energia, nucleares, brasil, ...</td>\n",
       "      <td>[Jimmy Carter]</td>\n",
       "      <td>doc_29</td>\n",
       "      <td>http://www.fgv.br/cpdoc/acervo/arquivo-pessoal...</td>\n",
       "    </tr>\n",
       "    <tr>\n",
       "      <th>18</th>\n",
       "      <td>pn_1974.08.15_doc_II-1</td>\n",
       "      <td>7</td>\n",
       "      <td>0.290118</td>\n",
       "      <td>\\n\\nmmm\\n\\n\"a. . .. , . ..\\n\\n' o acordo nucl...</td>\n",
       "      <td>1672</td>\n",
       "      <td>[nuclear, acordo, energia, nucleares, brasil, ...</td>\n",
       "      <td>[Jimmy Carter]</td>\n",
       "      <td>doc_II-1</td>\n",
       "      <td>http://www.fgv.br/cpdoc/acervo/arquivo-pessoal...</td>\n",
       "    </tr>\n",
       "    <tr>\n",
       "      <th>19</th>\n",
       "      <td>pn_1976.12.28_doc_16</td>\n",
       "      <td>7</td>\n",
       "      <td>0.286759</td>\n",
       "      <td>antonio la'. aiii-1315230 da sxmrâxm\\njáwówa i...</td>\n",
       "      <td>330</td>\n",
       "      <td>[acordo, energia, brasil, uranio, rfa, salvagu...</td>\n",
       "      <td>[Antonio Azeredo Da Silveira]</td>\n",
       "      <td>doc_16</td>\n",
       "      <td>http://www.fgv.br/cpdoc/acervo/arquivo-pessoal...</td>\n",
       "    </tr>\n",
       "  </tbody>\n",
       "</table>\n",
       "</div>"
      ],
      "text/plain": [
       "                      doc_id  topic_id  topic_score  \\\n",
       "15       pn_1975.00.00_doc_6         7     0.310567   \n",
       "16  pn_1974.08.15_doc_III-31         7     0.303898   \n",
       "17      pn_1976.12.28_doc_29         7     0.300879   \n",
       "18    pn_1974.08.15_doc_II-1         7     0.290118   \n",
       "19      pn_1976.12.28_doc_16         7     0.286759   \n",
       "\n",
       "                                                 body  length  \\\n",
       "15   \\n\\n  \\n  \\n\\ná4ó (%?ç'quoicg; vê!/avó m & \"l...     251   \n",
       "16  secreto-excâusãvo\\n\\nsubsídios para as consult...    4549   \n",
       "17  telegrama recebido '\\n\\naaaa [97034 . é?\\no\" '...     845   \n",
       "18   \\n\\nmmm\\n\\n\"a. . .. , . ..\\n\\n' o acordo nucl...    1672   \n",
       "19  antonio la'. aiii-1315230 da sxmrâxm\\njáwówa i...     330   \n",
       "\n",
       "                                               tokens  \\\n",
       "15       [nuclear, nucleares, brasil, armas, tratado]   \n",
       "16  [nuclear, acordo, energia, nucleares, brasil, ...   \n",
       "17  [nuclear, acordo, energia, nucleares, brasil, ...   \n",
       "18  [nuclear, acordo, energia, nucleares, brasil, ...   \n",
       "19  [acordo, energia, brasil, uranio, rfa, salvagu...   \n",
       "\n",
       "                                          names         doc  \\\n",
       "15                                           []       doc_6   \n",
       "16  [Jimmy Carter, Cyrus Vance, Helmut Schmidt]  doc_III-31   \n",
       "17                               [Jimmy Carter]      doc_29   \n",
       "18                               [Jimmy Carter]    doc_II-1   \n",
       "19                [Antonio Azeredo Da Silveira]      doc_16   \n",
       "\n",
       "                                                  url  \n",
       "15  http://www.fgv.br/cpdoc/acervo/arquivo-pessoal...  \n",
       "16  http://www.fgv.br/cpdoc/acervo/arquivo-pessoal...  \n",
       "17  http://www.fgv.br/cpdoc/acervo/arquivo-pessoal...  \n",
       "18  http://www.fgv.br/cpdoc/acervo/arquivo-pessoal...  \n",
       "19  http://www.fgv.br/cpdoc/acervo/arquivo-pessoal...  "
      ]
     },
     "execution_count": 35,
     "metadata": {},
     "output_type": "execute_result"
    }
   ],
   "source": [
    "nuclear_brazil_df = topic_vis_dict[7]\n",
    "nuclear_brazil_df['doc'] = nuclear_brazil_df['doc_id'].apply(lambda text: re.sub('.*(doc.*)', r'\\1', text))\n",
    "cols = nuclear_brazil_df.columns.tolist()\n",
    "cols = cols[:3] + cols[4:] + cols[3:4]\n",
    "nuclear_brazil_df = nuclear_brazil_df[cols]\n",
    "nuclear_brazil_df.tail()"
   ]
  },
  {
   "cell_type": "markdown",
   "metadata": {},
   "source": [
    "# build main data for each topic"
   ]
  },
  {
   "cell_type": "code",
   "execution_count": 36,
   "metadata": {},
   "outputs": [],
   "source": [
    "topics = range(100)"
   ]
  },
  {
   "cell_type": "code",
   "execution_count": 37,
   "metadata": {},
   "outputs": [],
   "source": [
    "dict_topics_json = {}\n",
    "for topic in topics:\n",
    "    #rename docs\n",
    "    dict_topics_json[topic] = topic_vis_dict[topic]\n",
    "    dict_topics_json[topic]['doc'] = dict_topics_json[topic]['doc_id'].apply(lambda text: re.sub('.*(doc.*)', r'\\1', text))\n",
    "    \n",
    "    #places date column at the end of df\n",
    "    cols = dict_topics_json[topic].columns.tolist()\n",
    "    cols = cols[:3] + cols[4:] + cols[3:4] \n",
    "    dict_topics_json[topic] = dict_topics_json[topic][cols]\n",
    "    \n",
    "    topic_transposed = dict_topics_json[topic] \\\n",
    "        .drop([\"body\", \"topic_id\"], axis = 1) \\\n",
    "        .transpose()\n",
    "#         .rename(columns={\"pdf\": \"url\"}) \\\n",
    "\n",
    "    \n",
    "    # build json of main data\n",
    "    topic_json = topic_transposed.to_json(orient='columns')\n",
    "    topic_json = re.sub('\"\\d+\":', '', topic_json)\n",
    "    topic_json = re.sub(\"^{\", \"[\", topic_json)\n",
    "    topic_json = re.sub(\"}$\", \"]\", topic_json)\n",
    "    topic_json = json.loads(topic_json)\n",
    "    \n",
    "    # save json\n",
    "    json_file = 'topic_{}.json'.format(str(topic))\n",
    "    file_path = os.path.join(outputs, json_file)\n",
    "    json.dump(topic_json, open(file_path, 'w'))"
   ]
  },
  {
   "cell_type": "markdown",
   "metadata": {},
   "source": [
    "# define function to melt dataframes"
   ]
  },
  {
   "cell_type": "code",
   "execution_count": 38,
   "metadata": {},
   "outputs": [],
   "source": [
    "def get_melted_df(df,variable):\n",
    "    cols_to_drop = set(df.columns) - set(['doc_id'])\n",
    "    topic = df[variable].apply(pd.Series) \\\n",
    "        .merge(df, left_index = True, right_index = True) \\\n",
    "        .drop(cols_to_drop, axis = 1) \\\n",
    "        .melt(id_vars = ['doc_id'], value_name = variable) \\\n",
    "        .drop(\"variable\", axis = 1) \\\n",
    "        .dropna()\n",
    "    return topic"
   ]
  },
  {
   "cell_type": "markdown",
   "metadata": {},
   "source": [
    "# generate json files related to persons\n",
    "Get connections between docs and persons. Those represent the edges of a graph."
   ]
  },
  {
   "cell_type": "code",
   "execution_count": 39,
   "metadata": {
    "scrolled": true
   },
   "outputs": [],
   "source": [
    "b, a = 2, 1\n",
    "# a=1\n",
    "count_min, count_max = 0, 20 #len(docs)\n",
    "for topic in topics:\n",
    "    #build list of docs for each person\n",
    "    melted_df = get_melted_df(topic_vis_dict[topic], 'names')\n",
    "    melted_df = melted_df.groupby(['names'])['doc_id'].apply(list)\n",
    "    melted_df = pd.DataFrame({'name':melted_df.index, 'docs':melted_df.values})\n",
    "    \n",
    "    # build json of list of names\n",
    "    names_list = []\n",
    "    for index, row in melted_df.iterrows():\n",
    "        name = row['name']\n",
    "#         name_count = math.log(int(person_doc_count.loc[person_doc_count['name'] == name]['person_count']),1.5)\n",
    "#         name_count = person_doc_count.loc[person_doc_count['name'] == name]['person_count'].values[0]\n",
    "        row_docs = row['docs']\n",
    "        name_count = len(row_docs)\n",
    "        \n",
    "        temp_dict = {'name': name, 'count': name_count, 'docs': row_docs}\n",
    "        names_list.append(temp_dict)\n",
    "        \n",
    "    #feature scaling to an arbitrary set of values\n",
    "    count_list = [i['count'] for i in names_list]\n",
    "#     if count_list:\n",
    "#         count_min, count_max = 0, max(count_list)\n",
    "#         count_min, count_max = 0, len(docs)\n",
    "#     else: count_min = count_max = 0\n",
    "    for i in range(len(names_list)):\n",
    "        #outra opção é argumentar que o mínimo de count é 0\n",
    "        names_list[i]['count'] = (names_list[i]['count']-count_min)/(count_max-count_min)\n",
    "#         pass\n",
    "#         names_list[i]['count'] = (names_list[i]['count']-count_min)/(count_max-count_min)*(b-a)+a\n",
    "#         names_list[i]['count'] = (names_list[i]['count']-list_avg)/list_std\n",
    "        \n",
    "    # save json\n",
    "    file_path = os.path.join(outputs,'names_list_{}.json'.format(str(topic)))\n",
    "    json.dump(names_list, open(file_path, 'w'))"
   ]
  },
  {
   "cell_type": "markdown",
   "metadata": {},
   "source": [
    "# generate json files related to tokens\n",
    "Get connections between docs and tokens. Those represent the edges of a graph."
   ]
  },
  {
   "cell_type": "code",
   "execution_count": 41,
   "metadata": {},
   "outputs": [],
   "source": [
    "for topic in topics:\n",
    "    #build list of docs for each token\n",
    "    melted_df = get_melted_df(topic_vis_dict[topic], 'tokens')\n",
    "    melted_df = melted_df.groupby(['tokens'])['doc_id'].apply(list)\n",
    "    melted_df = pd.DataFrame({'token':melted_df.index, 'docs':melted_df.values})\n",
    "    \n",
    "    #get data from lda_model\n",
    "    topic_tokens = lda_model.print_topics(-1, num_words=20)[topic]\n",
    "    topic_tokens = topic_tokens[1].split('+')\n",
    "    \n",
    "    #topic_tokens will be a list with elements such as: '0.085*\"nuclear\" ',\n",
    "    tokens_list = []\n",
    "    for pair in topic_tokens:\n",
    "        #get tokens and scores\n",
    "        token = re.sub('.*\\*\"(.*)\".*', r'\\1', pair)\n",
    "        token = remove_special_char(token)\n",
    "        score = re.sub(' *(.*)\\*.*', r'\\1', pair)\n",
    "        score = float(score)\n",
    "\n",
    "        #remove tokens irrelevantes/problematicos\n",
    "#         if token == 'fins': continue\n",
    "\n",
    "        #get list of docs\n",
    "        docs = melted_df[melted_df['token'] == token]['docs'].tolist()\n",
    "        if docs: \n",
    "            docs = docs[0]\n",
    "            temp_dict = {'token': token, 'score': score, 'docs': docs}\n",
    "            tokens_list.append(temp_dict)\n",
    "    file_path = os.path.join(outputs,'tokens_list_{}.json'.format(str(topic)))\n",
    "    json.dump(tokens_list, open(file_path, 'w'))"
   ]
  },
  {
   "cell_type": "markdown",
   "metadata": {},
   "source": [
    "# build object for d3 observable vis\n",
    "temporary section"
   ]
  },
  {
   "cell_type": "code",
   "execution_count": 259,
   "metadata": {},
   "outputs": [],
   "source": [
    "topics_object = []\n",
    "for i in range(100):\n",
    "    temp_topic = {}\n",
    "    temp_topic['topic'] = 'topic{}'.format(i)\n",
    "    temp_topic['documents'] = 'await d3.json(\"https://raw.githubusercontent.com/Marcelobbr/dissertation/master/outputs/topic_{}.json\")'.format(i)\n",
    "    temp_topic['names'] = 'await d3.json(\"https://raw.githubusercontent.com/Marcelobbr/dissertation/master/outputs/names_list_{}.json\")'.format(i)\n",
    "    temp_topic['tokens'] = 'await d3.json(\"https://raw.githubusercontent.com/Marcelobbr/dissertation/master/outputs/tokens_list_{}.json\")'.format(i)\n",
    "    topics_object.append(temp_topic)"
   ]
  },
  {
   "cell_type": "markdown",
   "metadata": {},
   "source": [
    "topics = [{topic: \"topic1\", documents: await d3.json(\"https://raw.githubusercontent.com/Marcelobbr/dissertation/master/outputs/topic_1.json\"), names: await d3.json(\"https://raw.githubusercontent.com/Marcelobbr/dissertation/master/outputs/names_list_1.json\"),tokens: await d3.json(\"https://raw.githubusercontent.com/Marcelobbr/dissertation/master/outputs/tokens_list_1.json\")},{topic: \"topic2\", documents: await d3.json(\"https://raw.githubusercontent.com/Marcelobbr/dissertation/master/outputs/topic_2.json\"), names: await d3.json(\"https://raw.githubusercontent.com/Marcelobbr/dissertation/master/outputs/names_list_2.json\"), tokens: await d3.json(\"https://raw.githubusercontent.com/Marcelobbr/dissertation/master/outputs/tokens_list_2.json\")}]"
   ]
  },
  {
   "cell_type": "raw",
   "metadata": {},
   "source": [
    "topics_object"
   ]
  },
  {
   "cell_type": "raw",
   "metadata": {},
   "source": [
    "for i in range(100):\n",
    "    print('<option>topic{}'.format(i))"
   ]
  },
  {
   "cell_type": "code",
   "execution_count": null,
   "metadata": {},
   "outputs": [],
   "source": []
  }
 ],
 "metadata": {
  "kernelspec": {
   "display_name": "Python 3",
   "language": "python",
   "name": "python3"
  },
  "language_info": {
   "codemirror_mode": {
    "name": "ipython",
    "version": 3
   },
   "file_extension": ".py",
   "mimetype": "text/x-python",
   "name": "python",
   "nbconvert_exporter": "python",
   "pygments_lexer": "ipython3",
   "version": "3.7.5"
  }
 },
 "nbformat": 4,
 "nbformat_minor": 2
}
