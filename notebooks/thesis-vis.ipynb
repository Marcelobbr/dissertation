{
 "cells": [
  {
   "cell_type": "markdown",
   "metadata": {},
   "source": [
    "Database operations to build the structure for visualization"
   ]
  },
  {
   "cell_type": "markdown",
   "metadata": {},
   "source": [
    "I will need 4 groups of data:\n",
    "* topics (aggregator)\n",
    "* docs\n",
    "* words\n",
    "* people"
   ]
  },
  {
   "cell_type": "code",
   "execution_count": 1,
   "metadata": {},
   "outputs": [],
   "source": [
    "import os\n",
    "import pandas as pd\n",
    "import json\n",
    "import pickle\n",
    "import re\n",
    "import math\n",
    "import gensim\n",
    "from collections import Counter"
   ]
  },
  {
   "cell_type": "code",
   "execution_count": 2,
   "metadata": {},
   "outputs": [],
   "source": [
    "outputs = '../outputs/'"
   ]
  },
  {
   "cell_type": "code",
   "execution_count": 3,
   "metadata": {},
   "outputs": [],
   "source": [
    "file_tables = '../outputs/tables_dict.pkl'\n",
    "cpdoc_tables = pickle.load(open(file_tables, 'rb'))"
   ]
  },
  {
   "cell_type": "markdown",
   "metadata": {},
   "source": [
    "obs: \n",
    "* SHOULD DELETE USELESS DFS (7 of 12): \n",
    "    * top_persons\n",
    "    * top_countries\n",
    "    * top_topics\n",
    "    * 'doc_counts '\n",
    "    * countries\n",
    "    * top_classifications\n",
    "    * country_doc\n",
    "* Keeping: person_doc, persons, docs, topic_doc, topics"
   ]
  },
  {
   "cell_type": "code",
   "execution_count": 4,
   "metadata": {},
   "outputs": [
    {
     "data": {
      "text/plain": [
       "['person_doc ',\n",
       " 'top_persons',\n",
       " 'persons',\n",
       " 'top_countries',\n",
       " 'docs',\n",
       " 'top_topics',\n",
       " 'doc_counts ',\n",
       " 'countries',\n",
       " 'top_classifications',\n",
       " 'topic_doc',\n",
       " 'topics',\n",
       " 'country_doc']"
      ]
     },
     "execution_count": 4,
     "metadata": {},
     "output_type": "execute_result"
    }
   ],
   "source": [
    "list(cpdoc_tables)"
   ]
  },
  {
   "cell_type": "code",
   "execution_count": 19,
   "metadata": {},
   "outputs": [
    {
     "data": {
      "text/html": [
       "<div>\n",
       "<style scoped>\n",
       "    .dataframe tbody tr th:only-of-type {\n",
       "        vertical-align: middle;\n",
       "    }\n",
       "\n",
       "    .dataframe tbody tr th {\n",
       "        vertical-align: top;\n",
       "    }\n",
       "\n",
       "    .dataframe thead th {\n",
       "        text-align: right;\n",
       "    }\n",
       "</style>\n",
       "<table border=\"1\" class=\"dataframe\">\n",
       "  <thead>\n",
       "    <tr style=\"text-align: right;\">\n",
       "      <th></th>\n",
       "      <th>id</th>\n",
       "      <th>title</th>\n",
       "      <th>name</th>\n",
       "    </tr>\n",
       "  </thead>\n",
       "  <tbody>\n",
       "    <tr>\n",
       "      <td>0</td>\n",
       "      <td>5000</td>\n",
       "      <td></td>\n",
       "      <td>None</td>\n",
       "    </tr>\n",
       "    <tr>\n",
       "      <td>1</td>\n",
       "      <td>5001</td>\n",
       "      <td></td>\n",
       "      <td>None</td>\n",
       "    </tr>\n",
       "    <tr>\n",
       "      <td>2</td>\n",
       "      <td>5002</td>\n",
       "      <td></td>\n",
       "      <td>None</td>\n",
       "    </tr>\n",
       "    <tr>\n",
       "      <td>3</td>\n",
       "      <td>5003</td>\n",
       "      <td></td>\n",
       "      <td>None</td>\n",
       "    </tr>\n",
       "    <tr>\n",
       "      <td>4</td>\n",
       "      <td>5004</td>\n",
       "      <td></td>\n",
       "      <td>Latin America and Caribbean</td>\n",
       "    </tr>\n",
       "    <tr>\n",
       "      <td>...</td>\n",
       "      <td>...</td>\n",
       "      <td>...</td>\n",
       "      <td>...</td>\n",
       "    </tr>\n",
       "    <tr>\n",
       "      <td>95</td>\n",
       "      <td>5095</td>\n",
       "      <td></td>\n",
       "      <td>None</td>\n",
       "    </tr>\n",
       "    <tr>\n",
       "      <td>96</td>\n",
       "      <td>5096</td>\n",
       "      <td></td>\n",
       "      <td>None</td>\n",
       "    </tr>\n",
       "    <tr>\n",
       "      <td>97</td>\n",
       "      <td>5097</td>\n",
       "      <td></td>\n",
       "      <td>None</td>\n",
       "    </tr>\n",
       "    <tr>\n",
       "      <td>98</td>\n",
       "      <td>5098</td>\n",
       "      <td></td>\n",
       "      <td>None</td>\n",
       "    </tr>\n",
       "    <tr>\n",
       "      <td>99</td>\n",
       "      <td>5099</td>\n",
       "      <td></td>\n",
       "      <td>International Cooperation for Development</td>\n",
       "    </tr>\n",
       "  </tbody>\n",
       "</table>\n",
       "<p>100 rows × 3 columns</p>\n",
       "</div>"
      ],
      "text/plain": [
       "      id title                                       name\n",
       "0   5000                                             None\n",
       "1   5001                                             None\n",
       "2   5002                                             None\n",
       "3   5003                                             None\n",
       "4   5004                      Latin America and Caribbean\n",
       "..   ...   ...                                        ...\n",
       "95  5095                                             None\n",
       "96  5096                                             None\n",
       "97  5097                                             None\n",
       "98  5098                                             None\n",
       "99  5099        International Cooperation for Development\n",
       "\n",
       "[100 rows x 3 columns]"
      ]
     },
     "execution_count": 19,
     "metadata": {},
     "output_type": "execute_result"
    }
   ],
   "source": [
    "cpdoc_tables['topics']"
   ]
  },
  {
   "cell_type": "code",
   "execution_count": 18,
   "metadata": {},
   "outputs": [
    {
     "data": {
      "text/plain": [
       "id                                      5049\n",
       "title                                       \n",
       "name     Itaipu plant: technical discussions\n",
       "Name: 49, dtype: object"
      ]
     },
     "execution_count": 18,
     "metadata": {},
     "output_type": "execute_result"
    }
   ],
   "source": [
    "cpdoc_tables['topics'].iloc[49]"
   ]
  },
  {
   "cell_type": "markdown",
   "metadata": {},
   "source": [
    "# docs and topics"
   ]
  },
  {
   "cell_type": "code",
   "execution_count": 7,
   "metadata": {
    "scrolled": true
   },
   "outputs": [
    {
     "data": {
      "text/html": [
       "<div>\n",
       "<style scoped>\n",
       "    .dataframe tbody tr th:only-of-type {\n",
       "        vertical-align: middle;\n",
       "    }\n",
       "\n",
       "    .dataframe tbody tr th {\n",
       "        vertical-align: top;\n",
       "    }\n",
       "\n",
       "    .dataframe thead th {\n",
       "        text-align: right;\n",
       "    }\n",
       "</style>\n",
       "<table border=\"1\" class=\"dataframe\">\n",
       "  <thead>\n",
       "    <tr style=\"text-align: right;\">\n",
       "      <th></th>\n",
       "      <th>doc_id</th>\n",
       "      <th>topic_id</th>\n",
       "      <th>topic_score</th>\n",
       "      <th>date</th>\n",
       "    </tr>\n",
       "  </thead>\n",
       "  <tbody>\n",
       "    <tr>\n",
       "      <td>33380</td>\n",
       "      <td>bp_1974.06.04_doc_I-8</td>\n",
       "      <td>5000</td>\n",
       "      <td>0.802068</td>\n",
       "      <td>1977-01-15</td>\n",
       "    </tr>\n",
       "    <tr>\n",
       "      <td>9284</td>\n",
       "      <td>ag_1974.01.22_doc_III-55</td>\n",
       "      <td>5000</td>\n",
       "      <td>0.710061</td>\n",
       "      <td>1976-11-15</td>\n",
       "    </tr>\n",
       "    <tr>\n",
       "      <td>85788</td>\n",
       "      <td>rb_1974.04.17_doc_I-25</td>\n",
       "      <td>5000</td>\n",
       "      <td>0.695807</td>\n",
       "      <td>1975-06-15</td>\n",
       "    </tr>\n",
       "    <tr>\n",
       "      <td>89951</td>\n",
       "      <td>rb_1974.05.23_doc_III-11</td>\n",
       "      <td>5000</td>\n",
       "      <td>0.689216</td>\n",
       "      <td>1975-03-04</td>\n",
       "    </tr>\n",
       "    <tr>\n",
       "      <td>90119</td>\n",
       "      <td>rb_1974.05.23_doc_III-22</td>\n",
       "      <td>5000</td>\n",
       "      <td>0.688374</td>\n",
       "      <td>1975-10-02</td>\n",
       "    </tr>\n",
       "  </tbody>\n",
       "</table>\n",
       "</div>"
      ],
      "text/plain": [
       "                         doc_id  topic_id  topic_score       date\n",
       "33380     bp_1974.06.04_doc_I-8      5000     0.802068 1977-01-15\n",
       "9284   ag_1974.01.22_doc_III-55      5000     0.710061 1976-11-15\n",
       "85788    rb_1974.04.17_doc_I-25      5000     0.695807 1975-06-15\n",
       "89951  rb_1974.05.23_doc_III-11      5000     0.689216 1975-03-04\n",
       "90119  rb_1974.05.23_doc_III-22      5000     0.688374 1975-10-02"
      ]
     },
     "execution_count": 7,
     "metadata": {},
     "output_type": "execute_result"
    }
   ],
   "source": [
    "topic_doc = cpdoc_tables['topic_doc']\n",
    "topic_doc = topic_doc.sort_values(['topic_id', 'topic_score'], ascending=[True, False])\n",
    "topic_doc.head()"
   ]
  },
  {
   "cell_type": "markdown",
   "metadata": {},
   "source": [
    "# docs and persons"
   ]
  },
  {
   "cell_type": "code",
   "execution_count": 8,
   "metadata": {},
   "outputs": [],
   "source": [
    "persons = cpdoc_tables['persons']\n",
    "persons = persons.rename(index=str, columns={\"id\": \"person_id\"})"
   ]
  },
  {
   "cell_type": "code",
   "execution_count": 9,
   "metadata": {},
   "outputs": [],
   "source": [
    "person_doc = cpdoc_tables['person_doc ']\n",
    "person_doc = pd.merge(person_doc, persons, on='person_id', how='inner')\n",
    "person_doc = person_doc.drop(columns=['date', 'source', 'birth_year', 'death_year', 'description'])\n",
    "person_doc = person_doc.replace('(.*),(.*),.*', r'\\1,\\2', regex=True)\n",
    "person_doc = person_doc.replace('(.*), (.*)', r'\\2 \\1', regex=True)"
   ]
  },
  {
   "cell_type": "code",
   "execution_count": 10,
   "metadata": {},
   "outputs": [],
   "source": [
    "#remove special characters\n",
    "person_doc = person_doc.name.apply(pd.Series) \\\n",
    "    .replace('[“”]', '', regex=True) \\\n",
    "    .replace('[áàãâ]', 'a', regex=True) \\\n",
    "    .replace('[óòõô]', 'o', regex=True) \\\n",
    "    .replace('[éèê]', 'e', regex=True) \\\n",
    "    .replace('[íì]', 'i', regex=True) \\\n",
    "    .replace('[úù]', 'u', regex=True) \\\n",
    "    .replace('ç', 'c', regex=True) \\\n",
    "    .merge(person_doc, left_index = True, right_index = True) \\\n",
    "    .drop(\"name\", axis=1) \\\n",
    "    .rename(columns={0: \"name\"})"
   ]
  },
  {
   "cell_type": "code",
   "execution_count": 11,
   "metadata": {
    "scrolled": true
   },
   "outputs": [
    {
     "data": {
      "text/html": [
       "<div>\n",
       "<style scoped>\n",
       "    .dataframe tbody tr th:only-of-type {\n",
       "        vertical-align: middle;\n",
       "    }\n",
       "\n",
       "    .dataframe tbody tr th {\n",
       "        vertical-align: top;\n",
       "    }\n",
       "\n",
       "    .dataframe thead th {\n",
       "        text-align: right;\n",
       "    }\n",
       "</style>\n",
       "<table border=\"1\" class=\"dataframe\">\n",
       "  <thead>\n",
       "    <tr style=\"text-align: right;\">\n",
       "      <th></th>\n",
       "      <th>name</th>\n",
       "      <th>person_id</th>\n",
       "      <th>doc_id</th>\n",
       "      <th>person_count</th>\n",
       "    </tr>\n",
       "  </thead>\n",
       "  <tbody>\n",
       "    <tr>\n",
       "      <th>0</th>\n",
       "      <td>Dean Gooderham Acheson</td>\n",
       "      <td>100070</td>\n",
       "      <td>ag_1977.07.00_doc_I-4</td>\n",
       "      <td>1</td>\n",
       "    </tr>\n",
       "    <tr>\n",
       "      <th>1</th>\n",
       "      <td>John Quincy Adams</td>\n",
       "      <td>100097</td>\n",
       "      <td>be_1974.03.15_doc_XI-2</td>\n",
       "      <td>1</td>\n",
       "    </tr>\n",
       "    <tr>\n",
       "      <th>2</th>\n",
       "      <td>Konrad Adenauer</td>\n",
       "      <td>100118</td>\n",
       "      <td>be_1974.03.15_doc_X-21</td>\n",
       "      <td>1</td>\n",
       "    </tr>\n",
       "    <tr>\n",
       "      <th>3</th>\n",
       "      <td>Konrad Adenauer</td>\n",
       "      <td>100118</td>\n",
       "      <td>be_1977.06.01_doc_II-28</td>\n",
       "      <td>1</td>\n",
       "    </tr>\n",
       "    <tr>\n",
       "      <th>4</th>\n",
       "      <td>Konrad Adenauer</td>\n",
       "      <td>100118</td>\n",
       "      <td>pn_1974.08.15_doc_I-3</td>\n",
       "      <td>1</td>\n",
       "    </tr>\n",
       "  </tbody>\n",
       "</table>\n",
       "</div>"
      ],
      "text/plain": [
       "                     name person_id                   doc_id  person_count\n",
       "0  Dean Gooderham Acheson    100070    ag_1977.07.00_doc_I-4             1\n",
       "1       John Quincy Adams    100097   be_1974.03.15_doc_XI-2             1\n",
       "2         Konrad Adenauer    100118   be_1974.03.15_doc_X-21             1\n",
       "3         Konrad Adenauer    100118  be_1977.06.01_doc_II-28             1\n",
       "4         Konrad Adenauer    100118    pn_1974.08.15_doc_I-3             1"
      ]
     },
     "execution_count": 11,
     "metadata": {},
     "output_type": "execute_result"
    }
   ],
   "source": [
    "person_doc.head()"
   ]
  },
  {
   "cell_type": "code",
   "execution_count": 12,
   "metadata": {},
   "outputs": [],
   "source": [
    "person_doc_count = pd.DataFrame(person_doc.groupby(['name'])['person_count'].agg('count')) #.apply(sum)\n",
    "person_doc_count = person_doc_count.reset_index()"
   ]
  },
  {
   "cell_type": "markdown",
   "metadata": {},
   "source": [
    "# docs and tokens"
   ]
  },
  {
   "cell_type": "code",
   "execution_count": 157,
   "metadata": {},
   "outputs": [
    {
     "data": {
      "text/html": [
       "<div>\n",
       "<style scoped>\n",
       "    .dataframe tbody tr th:only-of-type {\n",
       "        vertical-align: middle;\n",
       "    }\n",
       "\n",
       "    .dataframe tbody tr th {\n",
       "        vertical-align: top;\n",
       "    }\n",
       "\n",
       "    .dataframe thead th {\n",
       "        text-align: right;\n",
       "    }\n",
       "</style>\n",
       "<table border=\"1\" class=\"dataframe\">\n",
       "  <thead>\n",
       "    <tr style=\"text-align: right;\">\n",
       "      <th></th>\n",
       "      <th>doc_id</th>\n",
       "      <th>title</th>\n",
       "      <th>pdf</th>\n",
       "      <th>body</th>\n",
       "      <th>length</th>\n",
       "    </tr>\n",
       "  </thead>\n",
       "  <tbody>\n",
       "    <tr>\n",
       "      <th>0</th>\n",
       "      <td>ag_1973.11.20_doc_I-1</td>\n",
       "      <td>Documentos felicitando Azeredo da Silveira pel...</td>\n",
       "      <td>http://www.fgv.br/cpdoc/acervo/arquivo-pessoal...</td>\n",
       "      <td>\\n\\njr, /h ' \"&amp; m$ hb'h'qo\\n&amp; la'?\\n\\n, é %%3...</td>\n",
       "      <td>261</td>\n",
       "    </tr>\n",
       "    <tr>\n",
       "      <th>1</th>\n",
       "      <td>ag_1973.11.20_doc_I-100</td>\n",
       "      <td>Documentos felicitando Azeredo da Silveira pel...</td>\n",
       "      <td>http://www.fgv.br/cpdoc/acervo/arquivo-pessoal...</td>\n",
       "      <td>mjm h\\n\\n. . . ' \" . ww and\\n&amp; !\\nzczc tea363 ...</td>\n",
       "      <td>173</td>\n",
       "    </tr>\n",
       "    <tr>\n",
       "      <th>2</th>\n",
       "      <td>ag_1973.11.20_doc_I-101</td>\n",
       "      <td>Documentos felicitando Azeredo da Silveira pel...</td>\n",
       "      <td>http://www.fgv.br/cpdoc/acervo/arquivo-pessoal...</td>\n",
       "      <td>\\n  \\n        \\n\\n \\n\\n \\n\\n114\":\\n\\n \\n\\n ...</td>\n",
       "      <td>72</td>\n",
       "    </tr>\n",
       "    <tr>\n",
       "      <th>3</th>\n",
       "      <td>ag_1973.11.20_doc_I-102</td>\n",
       "      <td>Documentos felicitando Azeredo da Silveira pel...</td>\n",
       "      <td>http://www.fgv.br/cpdoc/acervo/arquivo-pessoal...</td>\n",
       "      <td>\\n\\n\" \", \"m-nmfvww mmm/\"ar? &amp;\", wa \" \"***-**\"...</td>\n",
       "      <td>131</td>\n",
       "    </tr>\n",
       "    <tr>\n",
       "      <th>4</th>\n",
       "      <td>ag_1973.11.20_doc_I-103</td>\n",
       "      <td>Documentos felicitando Azeredo da Silveira pel...</td>\n",
       "      <td>http://www.fgv.br/cpdoc/acervo/arquivo-pessoal...</td>\n",
       "      <td>\\n\\n \\n\\nmi*/gm\\n%adazw/sõ'\\n\\n%% &amp;&amp; %%%&amp;\\n\\n...</td>\n",
       "      <td>295</td>\n",
       "    </tr>\n",
       "  </tbody>\n",
       "</table>\n",
       "</div>"
      ],
      "text/plain": [
       "                    doc_id                                              title  \\\n",
       "0    ag_1973.11.20_doc_I-1  Documentos felicitando Azeredo da Silveira pel...   \n",
       "1  ag_1973.11.20_doc_I-100  Documentos felicitando Azeredo da Silveira pel...   \n",
       "2  ag_1973.11.20_doc_I-101  Documentos felicitando Azeredo da Silveira pel...   \n",
       "3  ag_1973.11.20_doc_I-102  Documentos felicitando Azeredo da Silveira pel...   \n",
       "4  ag_1973.11.20_doc_I-103  Documentos felicitando Azeredo da Silveira pel...   \n",
       "\n",
       "                                                 pdf  \\\n",
       "0  http://www.fgv.br/cpdoc/acervo/arquivo-pessoal...   \n",
       "1  http://www.fgv.br/cpdoc/acervo/arquivo-pessoal...   \n",
       "2  http://www.fgv.br/cpdoc/acervo/arquivo-pessoal...   \n",
       "3  http://www.fgv.br/cpdoc/acervo/arquivo-pessoal...   \n",
       "4  http://www.fgv.br/cpdoc/acervo/arquivo-pessoal...   \n",
       "\n",
       "                                                body  length  \n",
       "0   \\n\\njr, /h ' \"& m$ hb'h'qo\\n& la'?\\n\\n, é %%3...     261  \n",
       "1  mjm h\\n\\n. . . ' \" . ww and\\n& !\\nzczc tea363 ...     173  \n",
       "2     \\n  \\n        \\n\\n \\n\\n \\n\\n114\":\\n\\n \\n\\n ...      72  \n",
       "3   \\n\\n\" \", \"m-nmfvww mmm/\"ar? &\", wa \" \"***-**\"...     131  \n",
       "4   \\n\\n \\n\\nmi*/gm\\n%adazw/sõ'\\n\\n%% && %%%&\\n\\n...     295  "
      ]
     },
     "execution_count": 157,
     "metadata": {},
     "output_type": "execute_result"
    }
   ],
   "source": [
    "docs = cpdoc_tables['docs'][['id', 'title', 'pdf', 'body']]\n",
    "docs = docs.rename(index=str, columns={\"id\": \"doc_id\"})\n",
    "docs['length'] = docs['body'].apply(lambda x: len(x.split()))\n",
    "docs.head()"
   ]
  },
  {
   "cell_type": "markdown",
   "metadata": {},
   "source": [
    "# words and topics"
   ]
  },
  {
   "cell_type": "code",
   "execution_count": 14,
   "metadata": {},
   "outputs": [
    {
     "name": "stdout",
     "output_type": "stream",
     "text": [
      "home OR fgv OR broken? home\n"
     ]
    }
   ],
   "source": [
    "computer = input(\"home OR fgv OR broken? \") \n",
    "if computer == 'home': outer_inputs = 'D:/pseudo-dropbox/backups-fgv/azeredo_lda/'\n",
    "elif computer == 'broken': outer_inputs = 'C:/Users/marcelo.old-note/Documents/'\n",
    "else: print('computer is not defined')"
   ]
  },
  {
   "cell_type": "code",
   "execution_count": 15,
   "metadata": {},
   "outputs": [],
   "source": [
    "file_lda_model = outer_inputs+'model_lda_100_rs_00.pkl'\n",
    "lda_model = pickle.load(open(file_lda_model, 'rb'))"
   ]
  },
  {
   "cell_type": "code",
   "execution_count": 16,
   "metadata": {},
   "outputs": [],
   "source": [
    "def remove_special_char(text):\n",
    "    text = re.sub('[áàãâ]', 'a', text)\n",
    "    text = re.sub('[óòõô]', 'o', text)\n",
    "    text = re.sub('[éèê]', 'e', text)\n",
    "    text = re.sub('[íì]', 'i', text)\n",
    "    text = re.sub('[úù]', 'u', text)\n",
    "    text = re.sub('ç', 'c', text)\n",
    "    return text"
   ]
  },
  {
   "cell_type": "code",
   "execution_count": 17,
   "metadata": {},
   "outputs": [],
   "source": [
    "def retrieve_tokens(text, df):\n",
    "    main_tokens = []\n",
    "    for token in df['tokens']:\n",
    "        if token in text:\n",
    "            token = remove_special_char(token)\n",
    "            main_tokens.append(token)\n",
    "    return main_tokens"
   ]
  },
  {
   "cell_type": "markdown",
   "metadata": {},
   "source": [
    "# build vis table\n",
    "Topic: Nuclear Brazil"
   ]
  },
  {
   "cell_type": "code",
   "execution_count": 18,
   "metadata": {},
   "outputs": [],
   "source": [
    "main_topics = [['International Cooperation for Development', 99], ['Geisel foreign policy: ideas and action', 61], \n",
    "               ['Brazilian government and private investment', 39], ['UN system', 63], \n",
    "               ['International Economic Relations of Brazil', 56], ['United States of America', 89], \n",
    "               ['Latin America and Caribbean', 4], ['Itaipu plant: technical discussions', 49], ['Nuclear Brazil', 7], \n",
    "               ['Brazil, Africa and decolonization', 45]]"
   ]
  },
  {
   "cell_type": "code",
   "execution_count": 31,
   "metadata": {},
   "outputs": [
    {
     "data": {
      "text/html": [
       "<div>\n",
       "<style scoped>\n",
       "    .dataframe tbody tr th:only-of-type {\n",
       "        vertical-align: middle;\n",
       "    }\n",
       "\n",
       "    .dataframe tbody tr th {\n",
       "        vertical-align: top;\n",
       "    }\n",
       "\n",
       "    .dataframe thead th {\n",
       "        text-align: right;\n",
       "    }\n",
       "</style>\n",
       "<table border=\"1\" class=\"dataframe\">\n",
       "  <thead>\n",
       "    <tr style=\"text-align: right;\">\n",
       "      <th></th>\n",
       "      <th>doc_id</th>\n",
       "      <th>topic_id</th>\n",
       "      <th>topic_score</th>\n",
       "      <th>date</th>\n",
       "    </tr>\n",
       "  </thead>\n",
       "  <tbody>\n",
       "    <tr>\n",
       "      <th>0</th>\n",
       "      <td>ag_1973.11.20_doc_I-100</td>\n",
       "      <td>5009</td>\n",
       "      <td>0.167579</td>\n",
       "      <td>1974-02-22</td>\n",
       "    </tr>\n",
       "    <tr>\n",
       "      <th>1</th>\n",
       "      <td>ag_1973.11.20_doc_I-100</td>\n",
       "      <td>5010</td>\n",
       "      <td>0.040318</td>\n",
       "      <td>1974-02-22</td>\n",
       "    </tr>\n",
       "    <tr>\n",
       "      <th>2</th>\n",
       "      <td>ag_1973.11.20_doc_I-100</td>\n",
       "      <td>5040</td>\n",
       "      <td>0.092381</td>\n",
       "      <td>1974-02-22</td>\n",
       "    </tr>\n",
       "    <tr>\n",
       "      <th>3</th>\n",
       "      <td>ag_1973.11.20_doc_I-100</td>\n",
       "      <td>5041</td>\n",
       "      <td>0.090368</td>\n",
       "      <td>1974-02-22</td>\n",
       "    </tr>\n",
       "    <tr>\n",
       "      <th>4</th>\n",
       "      <td>ag_1973.11.20_doc_I-100</td>\n",
       "      <td>5051</td>\n",
       "      <td>0.029285</td>\n",
       "      <td>1974-02-22</td>\n",
       "    </tr>\n",
       "    <tr>\n",
       "      <th>...</th>\n",
       "      <td>...</td>\n",
       "      <td>...</td>\n",
       "      <td>...</td>\n",
       "      <td>...</td>\n",
       "    </tr>\n",
       "    <tr>\n",
       "      <th>97696</th>\n",
       "      <td>vp_1978.01.12_doc_9</td>\n",
       "      <td>5052</td>\n",
       "      <td>0.015806</td>\n",
       "      <td>1978-01-15</td>\n",
       "    </tr>\n",
       "    <tr>\n",
       "      <th>97697</th>\n",
       "      <td>vp_1978.01.12_doc_9</td>\n",
       "      <td>5062</td>\n",
       "      <td>0.014495</td>\n",
       "      <td>1978-01-15</td>\n",
       "    </tr>\n",
       "    <tr>\n",
       "      <th>97698</th>\n",
       "      <td>vp_1978.01.12_doc_9</td>\n",
       "      <td>5075</td>\n",
       "      <td>0.019510</td>\n",
       "      <td>1978-01-15</td>\n",
       "    </tr>\n",
       "    <tr>\n",
       "      <th>97699</th>\n",
       "      <td>vp_1978.01.12_doc_9</td>\n",
       "      <td>5079</td>\n",
       "      <td>0.010644</td>\n",
       "      <td>1978-01-15</td>\n",
       "    </tr>\n",
       "    <tr>\n",
       "      <th>97700</th>\n",
       "      <td>vp_1978.01.12_doc_9</td>\n",
       "      <td>5082</td>\n",
       "      <td>0.024672</td>\n",
       "      <td>1978-01-15</td>\n",
       "    </tr>\n",
       "  </tbody>\n",
       "</table>\n",
       "<p>97701 rows × 4 columns</p>\n",
       "</div>"
      ],
      "text/plain": [
       "                        doc_id  topic_id  topic_score       date\n",
       "0      ag_1973.11.20_doc_I-100      5009     0.167579 1974-02-22\n",
       "1      ag_1973.11.20_doc_I-100      5010     0.040318 1974-02-22\n",
       "2      ag_1973.11.20_doc_I-100      5040     0.092381 1974-02-22\n",
       "3      ag_1973.11.20_doc_I-100      5041     0.090368 1974-02-22\n",
       "4      ag_1973.11.20_doc_I-100      5051     0.029285 1974-02-22\n",
       "...                        ...       ...          ...        ...\n",
       "97696      vp_1978.01.12_doc_9      5052     0.015806 1978-01-15\n",
       "97697      vp_1978.01.12_doc_9      5062     0.014495 1978-01-15\n",
       "97698      vp_1978.01.12_doc_9      5075     0.019510 1978-01-15\n",
       "97699      vp_1978.01.12_doc_9      5079     0.010644 1978-01-15\n",
       "97700      vp_1978.01.12_doc_9      5082     0.024672 1978-01-15\n",
       "\n",
       "[97701 rows x 4 columns]"
      ]
     },
     "execution_count": 31,
     "metadata": {},
     "output_type": "execute_result"
    }
   ],
   "source": [
    "topic_doc"
   ]
  },
  {
   "cell_type": "code",
   "execution_count": 133,
   "metadata": {},
   "outputs": [],
   "source": [
    "def build_vis_table(topic_num, df):\n",
    "    if len(str(topic_num)) == 1: topic_id = '500'+str(topic_num)\n",
    "    else: topic_id = '50'+str(topic_num)\n",
    "    topic_id = int(topic_id)\n",
    "        \n",
    "    topic_tokens = lda_model.print_topics(-1, num_words=20)[topic_num]\n",
    "    #topic_tokens[1]\n",
    "    \n",
    "    tokens = []\n",
    "    scores = []\n",
    "    for i in topic_tokens[1].split('+'):\n",
    "        token = re.sub('.*\\*\"(.*)\".*', r'\\1', i)\n",
    "        score = re.sub(' *(.*)\\*.*', r'\\1', i)\n",
    "        score = float(score)\n",
    "        tokens.append(token)\n",
    "        scores.append(score)\n",
    "    token_score_dict = {'tokens': tokens, 'scores': scores}\n",
    "    \n",
    "    token_score = pd.DataFrame(token_score_dict)\n",
    "    \n",
    "    docs['tokens'] = docs['body'].apply(lambda text: retrieve_tokens(text, token_score))\n",
    "    \n",
    "    #filter by topic\n",
    "    df = df.loc[df['topic_id'] == topic_id].sort_values(by=['topic_score'], ascending=False)\n",
    "    df = df.head(20)\n",
    "    \n",
    "    ### merge topics and tokens\n",
    "    df = pd.merge(df, docs, on='doc_id', how='inner')\n",
    "    df = df.drop(columns=['title'])\n",
    "    \n",
    "    ### relate docs to list of persons\n",
    "    #filters person_doc\n",
    "    array = list(df['doc_id'])\n",
    "    person_doc_filtered = person_doc.loc[person_doc['doc_id'].isin(array)]\n",
    "    \n",
    "    #apply list of persons\n",
    "    person_doc_filtered = person_doc_filtered.groupby(['doc_id'])['name'].apply(list)\n",
    "    person_doc_filtered = pd.DataFrame({'doc_id':person_doc_filtered.index, 'names':person_doc_filtered.values})\n",
    "    \n",
    "    #merge topics and persons\n",
    "    df = pd.merge(df, person_doc_filtered, on='doc_id', how='outer')\n",
    "    df['year'] = df['date'].apply(lambda x: x.year)\n",
    "    df = df.astype({'names': 'object'})\n",
    "    for row in df.loc[df.names.isnull(), 'names'].index:\n",
    "        df.at[row, 'names'] = []\n",
    "    \n",
    "    return df"
   ]
  },
  {
   "cell_type": "code",
   "execution_count": 134,
   "metadata": {},
   "outputs": [],
   "source": [
    "topic_vis_dict = {}"
   ]
  },
  {
   "cell_type": "code",
   "execution_count": 135,
   "metadata": {},
   "outputs": [],
   "source": [
    "for i in range(100):\n",
    "    topic_vis_dict[i] = build_vis_table(i, topic_doc)"
   ]
  },
  {
   "cell_type": "code",
   "execution_count": 158,
   "metadata": {},
   "outputs": [
    {
     "data": {
      "text/plain": [
       "dict_keys([0, 1, 2, 3, 4, 5, 6, 7, 8, 9, 10, 11, 12, 13, 14, 15, 16, 17, 18, 19, 20, 21, 22, 23, 24, 25, 26, 27, 28, 29, 30, 31, 32, 33, 34, 35, 36, 37, 38, 39, 40, 41, 42, 43, 44, 45, 46, 47, 48, 49, 50, 51, 52, 53, 54, 55, 56, 57, 58, 59, 60, 61, 62, 63, 64, 65, 66, 67, 68, 69, 70, 71, 72, 73, 74, 75, 76, 77, 78, 79, 80, 81, 82, 83, 84, 85, 86, 87, 88, 89, 90, 91, 92, 93, 94, 95, 96, 97, 98, 99])"
      ]
     },
     "execution_count": 158,
     "metadata": {},
     "output_type": "execute_result"
    }
   ],
   "source": [
    "topic_vis_dict.keys()"
   ]
  },
  {
   "cell_type": "code",
   "execution_count": 143,
   "metadata": {},
   "outputs": [
    {
     "data": {
      "text/html": [
       "<div>\n",
       "<style scoped>\n",
       "    .dataframe tbody tr th:only-of-type {\n",
       "        vertical-align: middle;\n",
       "    }\n",
       "\n",
       "    .dataframe tbody tr th {\n",
       "        vertical-align: top;\n",
       "    }\n",
       "\n",
       "    .dataframe thead th {\n",
       "        text-align: right;\n",
       "    }\n",
       "</style>\n",
       "<table border=\"1\" class=\"dataframe\">\n",
       "  <thead>\n",
       "    <tr style=\"text-align: right;\">\n",
       "      <th></th>\n",
       "      <th>doc_id</th>\n",
       "      <th>topic_id</th>\n",
       "      <th>topic_score</th>\n",
       "      <th>date</th>\n",
       "      <th>pdf</th>\n",
       "      <th>body</th>\n",
       "      <th>length</th>\n",
       "      <th>tokens</th>\n",
       "      <th>names</th>\n",
       "      <th>year</th>\n",
       "    </tr>\n",
       "  </thead>\n",
       "  <tbody>\n",
       "    <tr>\n",
       "      <th>15</th>\n",
       "      <td>pn_1974.08.15_doc_III-31</td>\n",
       "      <td>5007</td>\n",
       "      <td>0.303900</td>\n",
       "      <td>1978-01-15</td>\n",
       "      <td>http://www.fgv.br/cpdoc/acervo/arquivo-pessoal...</td>\n",
       "      <td>secreto-excâusãvo\\n\\nsubsídios para as consult...</td>\n",
       "      <td>4549</td>\n",
       "      <td>[nuclear, acordo, energia, nucleares, brasil, ...</td>\n",
       "      <td>[James Earl (Jimmy) Carter, Helmut Schmidt, Cy...</td>\n",
       "      <td>1978</td>\n",
       "    </tr>\n",
       "    <tr>\n",
       "      <th>16</th>\n",
       "      <td>pn_1976.12.28_doc_29</td>\n",
       "      <td>5007</td>\n",
       "      <td>0.300885</td>\n",
       "      <td>1978-01-15</td>\n",
       "      <td>http://www.fgv.br/cpdoc/acervo/arquivo-pessoal...</td>\n",
       "      <td>telegrama recebido '\\n\\naaaa [97034 . é?\\no\" '...</td>\n",
       "      <td>845</td>\n",
       "      <td>[nuclear, acordo, energia, nucleares, brasil, ...</td>\n",
       "      <td>[James Earl (Jimmy) Carter]</td>\n",
       "      <td>1978</td>\n",
       "    </tr>\n",
       "    <tr>\n",
       "      <th>17</th>\n",
       "      <td>pn_1974.08.15_doc_II-1</td>\n",
       "      <td>5007</td>\n",
       "      <td>0.290109</td>\n",
       "      <td>1976-01-15</td>\n",
       "      <td>http://www.fgv.br/cpdoc/acervo/arquivo-pessoal...</td>\n",
       "      <td>\\n\\nmmm\\n\\n\"a. . .. , . ..\\n\\n' o acordo nucl...</td>\n",
       "      <td>1672</td>\n",
       "      <td>[nuclear, acordo, energia, nucleares, brasil, ...</td>\n",
       "      <td>[James Earl (Jimmy) Carter]</td>\n",
       "      <td>1976</td>\n",
       "    </tr>\n",
       "    <tr>\n",
       "      <th>18</th>\n",
       "      <td>pn_1976.12.28_doc_16</td>\n",
       "      <td>5007</td>\n",
       "      <td>0.286767</td>\n",
       "      <td>1978-01-06</td>\n",
       "      <td>http://www.fgv.br/cpdoc/acervo/arquivo-pessoal...</td>\n",
       "      <td>antonio la'. aiii-1315230 da sxmrâxm\\njáwówa i...</td>\n",
       "      <td>330</td>\n",
       "      <td>[acordo, energia, brasil, uranio, rfa, salvagu...</td>\n",
       "      <td>[Antonio Azeredo da Silveira]</td>\n",
       "      <td>1978</td>\n",
       "    </tr>\n",
       "    <tr>\n",
       "      <th>19</th>\n",
       "      <td>d_1974.04.23_doc_XXI-12</td>\n",
       "      <td>5007</td>\n",
       "      <td>0.285340</td>\n",
       "      <td>1979-06-15</td>\n",
       "      <td>http://www.fgv.br/cpdoc/acervo/arquivo-pessoal...</td>\n",
       "      <td>\\n\\n \\n\\nlembrete n? 011\\n\\npolítica nuclear ...</td>\n",
       "      <td>1590</td>\n",
       "      <td>[nuclear, acordo, energia, nucleares, brasil, ...</td>\n",
       "      <td>[James Earl (Jimmy) Carter]</td>\n",
       "      <td>1979</td>\n",
       "    </tr>\n",
       "  </tbody>\n",
       "</table>\n",
       "</div>"
      ],
      "text/plain": [
       "                      doc_id  topic_id  topic_score       date  \\\n",
       "15  pn_1974.08.15_doc_III-31      5007     0.303900 1978-01-15   \n",
       "16      pn_1976.12.28_doc_29      5007     0.300885 1978-01-15   \n",
       "17    pn_1974.08.15_doc_II-1      5007     0.290109 1976-01-15   \n",
       "18      pn_1976.12.28_doc_16      5007     0.286767 1978-01-06   \n",
       "19   d_1974.04.23_doc_XXI-12      5007     0.285340 1979-06-15   \n",
       "\n",
       "                                                  pdf  \\\n",
       "15  http://www.fgv.br/cpdoc/acervo/arquivo-pessoal...   \n",
       "16  http://www.fgv.br/cpdoc/acervo/arquivo-pessoal...   \n",
       "17  http://www.fgv.br/cpdoc/acervo/arquivo-pessoal...   \n",
       "18  http://www.fgv.br/cpdoc/acervo/arquivo-pessoal...   \n",
       "19  http://www.fgv.br/cpdoc/acervo/arquivo-pessoal...   \n",
       "\n",
       "                                                 body  length  \\\n",
       "15  secreto-excâusãvo\\n\\nsubsídios para as consult...    4549   \n",
       "16  telegrama recebido '\\n\\naaaa [97034 . é?\\no\" '...     845   \n",
       "17   \\n\\nmmm\\n\\n\"a. . .. , . ..\\n\\n' o acordo nucl...    1672   \n",
       "18  antonio la'. aiii-1315230 da sxmrâxm\\njáwówa i...     330   \n",
       "19   \\n\\n \\n\\nlembrete n? 011\\n\\npolítica nuclear ...    1590   \n",
       "\n",
       "                                               tokens  \\\n",
       "15  [nuclear, acordo, energia, nucleares, brasil, ...   \n",
       "16  [nuclear, acordo, energia, nucleares, brasil, ...   \n",
       "17  [nuclear, acordo, energia, nucleares, brasil, ...   \n",
       "18  [acordo, energia, brasil, uranio, rfa, salvagu...   \n",
       "19  [nuclear, acordo, energia, nucleares, brasil, ...   \n",
       "\n",
       "                                                names  year  \n",
       "15  [James Earl (Jimmy) Carter, Helmut Schmidt, Cy...  1978  \n",
       "16                        [James Earl (Jimmy) Carter]  1978  \n",
       "17                        [James Earl (Jimmy) Carter]  1976  \n",
       "18                      [Antonio Azeredo da Silveira]  1978  \n",
       "19                        [James Earl (Jimmy) Carter]  1979  "
      ]
     },
     "execution_count": 143,
     "metadata": {},
     "output_type": "execute_result"
    }
   ],
   "source": [
    "topic_vis_dict[7].tail(})"
   ]
  },
  {
   "cell_type": "code",
   "execution_count": 138,
   "metadata": {
    "scrolled": true
   },
   "outputs": [
    {
     "data": {
      "text/html": [
       "<div>\n",
       "<style scoped>\n",
       "    .dataframe tbody tr th:only-of-type {\n",
       "        vertical-align: middle;\n",
       "    }\n",
       "\n",
       "    .dataframe tbody tr th {\n",
       "        vertical-align: top;\n",
       "    }\n",
       "\n",
       "    .dataframe thead th {\n",
       "        text-align: right;\n",
       "    }\n",
       "</style>\n",
       "<table border=\"1\" class=\"dataframe\">\n",
       "  <thead>\n",
       "    <tr style=\"text-align: right;\">\n",
       "      <th></th>\n",
       "      <th>doc_id</th>\n",
       "      <th>topic_id</th>\n",
       "      <th>topic_score</th>\n",
       "      <th>date</th>\n",
       "      <th>pdf</th>\n",
       "      <th>body</th>\n",
       "      <th>length</th>\n",
       "      <th>tokens</th>\n",
       "      <th>names</th>\n",
       "      <th>year</th>\n",
       "    </tr>\n",
       "  </thead>\n",
       "  <tbody>\n",
       "    <tr>\n",
       "      <th>15</th>\n",
       "      <td>bp_1977.03.10_doc_V-3</td>\n",
       "      <td>5049</td>\n",
       "      <td>0.471688</td>\n",
       "      <td>1978-01-15</td>\n",
       "      <td>http://www.fgv.br/cpdoc/acervo/arquivo-pessoal...</td>\n",
       "      <td>. \"* aas_ manoa-to\\n/ . _ - . . awm)\\n\\nsala-1...</td>\n",
       "      <td>6339</td>\n",
       "      <td>[itaipu, rio, cota, operacao, energia, constru...</td>\n",
       "      <td>[Antonio Azeredo da Silveira, Costa Cavalcanti...</td>\n",
       "      <td>1978</td>\n",
       "    </tr>\n",
       "    <tr>\n",
       "      <th>16</th>\n",
       "      <td>bp_1977.09.13_doc_II-2</td>\n",
       "      <td>5049</td>\n",
       "      <td>0.469907</td>\n",
       "      <td>1977-04-15</td>\n",
       "      <td>http://www.fgv.br/cpdoc/acervo/arquivo-pessoal...</td>\n",
       "      <td>- informação no? 332/76 - estudo sobre a fixaç...</td>\n",
       "      <td>2444</td>\n",
       "      <td>[itaipu, rio, corpus, cota, operacao, energia,...</td>\n",
       "      <td>[]</td>\n",
       "      <td>1977</td>\n",
       "    </tr>\n",
       "    <tr>\n",
       "      <th>17</th>\n",
       "      <td>d_1974.03.26_doc_XXXI-44</td>\n",
       "      <td>5049</td>\n",
       "      <td>0.466800</td>\n",
       "      <td>1978-01-15</td>\n",
       "      <td>http://www.fgv.br/cpdoc/acervo/arquivo-pessoal...</td>\n",
       "      <td>\\n\\n \\n\\n   \\n\\nwm\\n\"mg . .\\na\" rio âecreto\\n...</td>\n",
       "      <td>6152</td>\n",
       "      <td>[itaipu, rio, cota, operacao, energia, constru...</td>\n",
       "      <td>[Antonio Azeredo da Silveira, Costa Cavalcanti...</td>\n",
       "      <td>1978</td>\n",
       "    </tr>\n",
       "    <tr>\n",
       "      <th>18</th>\n",
       "      <td>bp_1977.09.13_doc_I-14</td>\n",
       "      <td>5049</td>\n",
       "      <td>0.455080</td>\n",
       "      <td>1977-04-15</td>\n",
       "      <td>http://www.fgv.br/cpdoc/acervo/arquivo-pessoal...</td>\n",
       "      <td>/\\n\\n \\n\\n \\n\\n \\n\\na\\n\\n \\n\\n!\\n\\n \\n\\n  o:\"i...</td>\n",
       "      <td>1690</td>\n",
       "      <td>[itaipu, rio, corpus, cota, construcao, parana...</td>\n",
       "      <td>[]</td>\n",
       "      <td>1977</td>\n",
       "    </tr>\n",
       "    <tr>\n",
       "      <th>19</th>\n",
       "      <td>bp_1977.03.10_doc_III-18</td>\n",
       "      <td>5049</td>\n",
       "      <td>0.452564</td>\n",
       "      <td>1977-11-15</td>\n",
       "      <td>http://www.fgv.br/cpdoc/acervo/arquivo-pessoal...</td>\n",
       "      <td>\\n\\nwma-03.40\\njg?\\n(é. /, () h\\n\\n confidenc...</td>\n",
       "      <td>409</td>\n",
       "      <td>[itaipu, rio, corpus, cota, operacao, construc...</td>\n",
       "      <td>[]</td>\n",
       "      <td>1977</td>\n",
       "    </tr>\n",
       "  </tbody>\n",
       "</table>\n",
       "</div>"
      ],
      "text/plain": [
       "                      doc_id  topic_id  topic_score       date  \\\n",
       "15     bp_1977.03.10_doc_V-3      5049     0.471688 1978-01-15   \n",
       "16    bp_1977.09.13_doc_II-2      5049     0.469907 1977-04-15   \n",
       "17  d_1974.03.26_doc_XXXI-44      5049     0.466800 1978-01-15   \n",
       "18    bp_1977.09.13_doc_I-14      5049     0.455080 1977-04-15   \n",
       "19  bp_1977.03.10_doc_III-18      5049     0.452564 1977-11-15   \n",
       "\n",
       "                                                  pdf  \\\n",
       "15  http://www.fgv.br/cpdoc/acervo/arquivo-pessoal...   \n",
       "16  http://www.fgv.br/cpdoc/acervo/arquivo-pessoal...   \n",
       "17  http://www.fgv.br/cpdoc/acervo/arquivo-pessoal...   \n",
       "18  http://www.fgv.br/cpdoc/acervo/arquivo-pessoal...   \n",
       "19  http://www.fgv.br/cpdoc/acervo/arquivo-pessoal...   \n",
       "\n",
       "                                                 body  length  \\\n",
       "15  . \"* aas_ manoa-to\\n/ . _ - . . awm)\\n\\nsala-1...    6339   \n",
       "16  - informação no? 332/76 - estudo sobre a fixaç...    2444   \n",
       "17   \\n\\n \\n\\n   \\n\\nwm\\n\"mg . .\\na\" rio âecreto\\n...    6152   \n",
       "18  /\\n\\n \\n\\n \\n\\n \\n\\na\\n\\n \\n\\n!\\n\\n \\n\\n  o:\"i...    1690   \n",
       "19   \\n\\nwma-03.40\\njg?\\n(é. /, () h\\n\\n confidenc...     409   \n",
       "\n",
       "                                               tokens  \\\n",
       "15  [itaipu, rio, cota, operacao, energia, constru...   \n",
       "16  [itaipu, rio, corpus, cota, operacao, energia,...   \n",
       "17  [itaipu, rio, cota, operacao, energia, constru...   \n",
       "18  [itaipu, rio, corpus, cota, construcao, parana...   \n",
       "19  [itaipu, rio, corpus, cota, operacao, construc...   \n",
       "\n",
       "                                                names  year  \n",
       "15  [Antonio Azeredo da Silveira, Costa Cavalcanti...  1978  \n",
       "16                                                 []  1977  \n",
       "17  [Antonio Azeredo da Silveira, Costa Cavalcanti...  1978  \n",
       "18                                                 []  1977  \n",
       "19                                                 []  1977  "
      ]
     },
     "execution_count": 138,
     "metadata": {},
     "output_type": "execute_result"
    }
   ],
   "source": [
    "topic_vis_dict[49].tail()"
   ]
  },
  {
   "cell_type": "markdown",
   "metadata": {},
   "source": [
    "# pickle file"
   ]
  },
  {
   "cell_type": "code",
   "execution_count": 21,
   "metadata": {},
   "outputs": [],
   "source": [
    "topics_dict_file = '../outputs/topics_dict.pkl'"
   ]
  },
  {
   "cell_type": "markdown",
   "metadata": {},
   "source": [
    "pickle for general data already saved. To overwrite:\n",
    "```python\n",
    "pickle.dump(topic_vis_dict, open(topics_dict_file, 'wb'))\n",
    "```"
   ]
  },
  {
   "cell_type": "code",
   "execution_count": 23,
   "metadata": {},
   "outputs": [],
   "source": [
    "with open(topics_dict_file, 'rb') as f:\n",
    "    topic_vis_dict = pickle.load(f)"
   ]
  },
  {
   "cell_type": "markdown",
   "metadata": {},
   "source": [
    "# Visualization of metadata\n",
    "obs: produced file might be useless"
   ]
  },
  {
   "cell_type": "code",
   "execution_count": 24,
   "metadata": {},
   "outputs": [
    {
     "name": "stderr",
     "output_type": "stream",
     "text": [
      "C:\\Users\\mar85\\Anaconda3\\lib\\site-packages\\pandas\\core\\frame.py:7123: FutureWarning: Sorting because non-concatenation axis is not aligned. A future version\n",
      "of pandas will change to not sort by default.\n",
      "\n",
      "To accept the future behavior, pass 'sort=False'.\n",
      "\n",
      "To retain the current behavior and silence the warning, pass 'sort=True'.\n",
      "\n",
      "  sort=sort,\n"
     ]
    }
   ],
   "source": [
    "topics_metadata = pd.DataFrame(columns=['mean_score', 'mean_length'])\n",
    "count=0\n",
    "for key, df in topic_vis_dict.items():\n",
    "    score_mean = df['topic_score'].mean()\n",
    "    length_mean = df['length'].mean()\n",
    "    row = pd.DataFrame([[key, score_mean, length_mean]], columns=['key', 'mean_score', 'mean_length'], index=[count])\n",
    "    topics_metadata = topics_metadata.append(row)\n",
    "    count+=1"
   ]
  },
  {
   "cell_type": "code",
   "execution_count": 25,
   "metadata": {},
   "outputs": [
    {
     "data": {
      "text/html": [
       "<div>\n",
       "<style scoped>\n",
       "    .dataframe tbody tr th:only-of-type {\n",
       "        vertical-align: middle;\n",
       "    }\n",
       "\n",
       "    .dataframe tbody tr th {\n",
       "        vertical-align: top;\n",
       "    }\n",
       "\n",
       "    .dataframe thead th {\n",
       "        text-align: right;\n",
       "    }\n",
       "</style>\n",
       "<table border=\"1\" class=\"dataframe\">\n",
       "  <thead>\n",
       "    <tr style=\"text-align: right;\">\n",
       "      <th></th>\n",
       "      <th>key</th>\n",
       "      <th>mean_length</th>\n",
       "      <th>mean_score</th>\n",
       "    </tr>\n",
       "  </thead>\n",
       "  <tbody>\n",
       "    <tr>\n",
       "      <td>0</td>\n",
       "      <td>0.0</td>\n",
       "      <td>536.65</td>\n",
       "      <td>0.642834</td>\n",
       "    </tr>\n",
       "    <tr>\n",
       "      <td>1</td>\n",
       "      <td>1.0</td>\n",
       "      <td>158.00</td>\n",
       "      <td>0.139644</td>\n",
       "    </tr>\n",
       "  </tbody>\n",
       "</table>\n",
       "</div>"
      ],
      "text/plain": [
       "   key  mean_length  mean_score\n",
       "0  0.0       536.65    0.642834\n",
       "1  1.0       158.00    0.139644"
      ]
     },
     "execution_count": 25,
     "metadata": {},
     "output_type": "execute_result"
    }
   ],
   "source": [
    "topics_metadata.head(2)"
   ]
  },
  {
   "cell_type": "code",
   "execution_count": 26,
   "metadata": {},
   "outputs": [],
   "source": [
    "topics_metadata_json = []\n",
    "for index, row in topics_metadata.iterrows():\n",
    "    temp_dict = {'key': row['key'], 'mean_length': row['mean_length'], 'mean_score': row['mean_score']}\n",
    "    topics_metadata_json.append(temp_dict)"
   ]
  },
  {
   "cell_type": "code",
   "execution_count": 27,
   "metadata": {},
   "outputs": [
    {
     "data": {
      "text/plain": [
       "[{'key': 0.0, 'mean_length': 536.65, 'mean_score': 0.6428341000000001},\n",
       " {'key': 1.0, 'mean_length': 158.0, 'mean_score': 0.13964398499999997}]"
      ]
     },
     "execution_count": 27,
     "metadata": {},
     "output_type": "execute_result"
    }
   ],
   "source": [
    "topics_metadata_json[:2]"
   ]
  },
  {
   "cell_type": "code",
   "execution_count": 163,
   "metadata": {},
   "outputs": [],
   "source": [
    "json.dump(topics_metadata_json, open('../outputs/topics_metadata.json', 'w'))"
   ]
  },
  {
   "cell_type": "markdown",
   "metadata": {},
   "source": [
    "# Visualization of a specific topic"
   ]
  },
  {
   "cell_type": "markdown",
   "metadata": {},
   "source": [
    "list split  in pandas: https://mikulskibartosz.name/how-to-split-a-list-inside-a-dataframe-cell-into-rows-in-pandas-9849d8ff2401"
   ]
  },
  {
   "cell_type": "code",
   "execution_count": 28,
   "metadata": {},
   "outputs": [
    {
     "data": {
      "text/html": [
       "<div>\n",
       "<style scoped>\n",
       "    .dataframe tbody tr th:only-of-type {\n",
       "        vertical-align: middle;\n",
       "    }\n",
       "\n",
       "    .dataframe tbody tr th {\n",
       "        vertical-align: top;\n",
       "    }\n",
       "\n",
       "    .dataframe thead th {\n",
       "        text-align: right;\n",
       "    }\n",
       "</style>\n",
       "<table border=\"1\" class=\"dataframe\">\n",
       "  <thead>\n",
       "    <tr style=\"text-align: right;\">\n",
       "      <th></th>\n",
       "      <th>doc_id</th>\n",
       "      <th>topic_id</th>\n",
       "      <th>topic_score</th>\n",
       "      <th>pdf</th>\n",
       "      <th>body</th>\n",
       "      <th>length</th>\n",
       "      <th>tokens</th>\n",
       "      <th>names</th>\n",
       "      <th>year</th>\n",
       "      <th>doc</th>\n",
       "      <th>date</th>\n",
       "    </tr>\n",
       "  </thead>\n",
       "  <tbody>\n",
       "    <tr>\n",
       "      <td>15</td>\n",
       "      <td>pn_1974.08.15_doc_III-31</td>\n",
       "      <td>5007</td>\n",
       "      <td>0.303900</td>\n",
       "      <td>http://www.fgv.br/cpdoc/acervo/arquivo-pessoal...</td>\n",
       "      <td>secreto-excâusãvo\\n\\nsubsídios para as consult...</td>\n",
       "      <td>4549</td>\n",
       "      <td>[nuclear, acordo, energia, nucleares, brasil, ...</td>\n",
       "      <td>[James Earl (Jimmy) Carter, Helmut Schmidt, Cy...</td>\n",
       "      <td>1978</td>\n",
       "      <td>doc_III-31</td>\n",
       "      <td>1978-01-15</td>\n",
       "    </tr>\n",
       "    <tr>\n",
       "      <td>16</td>\n",
       "      <td>pn_1976.12.28_doc_29</td>\n",
       "      <td>5007</td>\n",
       "      <td>0.300885</td>\n",
       "      <td>http://www.fgv.br/cpdoc/acervo/arquivo-pessoal...</td>\n",
       "      <td>telegrama recebido '\\n\\naaaa [97034 . é?\\no\" '...</td>\n",
       "      <td>845</td>\n",
       "      <td>[nuclear, acordo, energia, nucleares, brasil, ...</td>\n",
       "      <td>[James Earl (Jimmy) Carter]</td>\n",
       "      <td>1978</td>\n",
       "      <td>doc_29</td>\n",
       "      <td>1978-01-15</td>\n",
       "    </tr>\n",
       "    <tr>\n",
       "      <td>17</td>\n",
       "      <td>pn_1974.08.15_doc_II-1</td>\n",
       "      <td>5007</td>\n",
       "      <td>0.290109</td>\n",
       "      <td>http://www.fgv.br/cpdoc/acervo/arquivo-pessoal...</td>\n",
       "      <td>\\n\\nmmm\\n\\n\"a. . .. , . ..\\n\\n' o acordo nucl...</td>\n",
       "      <td>1672</td>\n",
       "      <td>[nuclear, acordo, energia, nucleares, brasil, ...</td>\n",
       "      <td>[James Earl (Jimmy) Carter]</td>\n",
       "      <td>1976</td>\n",
       "      <td>doc_II-1</td>\n",
       "      <td>1976-01-15</td>\n",
       "    </tr>\n",
       "    <tr>\n",
       "      <td>18</td>\n",
       "      <td>pn_1976.12.28_doc_16</td>\n",
       "      <td>5007</td>\n",
       "      <td>0.286767</td>\n",
       "      <td>http://www.fgv.br/cpdoc/acervo/arquivo-pessoal...</td>\n",
       "      <td>antonio la'. aiii-1315230 da sxmrâxm\\njáwówa i...</td>\n",
       "      <td>330</td>\n",
       "      <td>[acordo, energia, brasil, uranio, rfa, salvagu...</td>\n",
       "      <td>[Antonio Azeredo da Silveira]</td>\n",
       "      <td>1978</td>\n",
       "      <td>doc_16</td>\n",
       "      <td>1978-01-06</td>\n",
       "    </tr>\n",
       "    <tr>\n",
       "      <td>19</td>\n",
       "      <td>d_1974.04.23_doc_XXI-12</td>\n",
       "      <td>5007</td>\n",
       "      <td>0.285340</td>\n",
       "      <td>http://www.fgv.br/cpdoc/acervo/arquivo-pessoal...</td>\n",
       "      <td>\\n\\n \\n\\nlembrete n? 011\\n\\npolítica nuclear ...</td>\n",
       "      <td>1590</td>\n",
       "      <td>[nuclear, acordo, energia, nucleares, brasil, ...</td>\n",
       "      <td>[James Earl (Jimmy) Carter]</td>\n",
       "      <td>1979</td>\n",
       "      <td>doc_XXI-12</td>\n",
       "      <td>1979-06-15</td>\n",
       "    </tr>\n",
       "  </tbody>\n",
       "</table>\n",
       "</div>"
      ],
      "text/plain": [
       "                      doc_id  topic_id  topic_score  \\\n",
       "15  pn_1974.08.15_doc_III-31      5007     0.303900   \n",
       "16      pn_1976.12.28_doc_29      5007     0.300885   \n",
       "17    pn_1974.08.15_doc_II-1      5007     0.290109   \n",
       "18      pn_1976.12.28_doc_16      5007     0.286767   \n",
       "19   d_1974.04.23_doc_XXI-12      5007     0.285340   \n",
       "\n",
       "                                                  pdf  \\\n",
       "15  http://www.fgv.br/cpdoc/acervo/arquivo-pessoal...   \n",
       "16  http://www.fgv.br/cpdoc/acervo/arquivo-pessoal...   \n",
       "17  http://www.fgv.br/cpdoc/acervo/arquivo-pessoal...   \n",
       "18  http://www.fgv.br/cpdoc/acervo/arquivo-pessoal...   \n",
       "19  http://www.fgv.br/cpdoc/acervo/arquivo-pessoal...   \n",
       "\n",
       "                                                 body  length  \\\n",
       "15  secreto-excâusãvo\\n\\nsubsídios para as consult...    4549   \n",
       "16  telegrama recebido '\\n\\naaaa [97034 . é?\\no\" '...     845   \n",
       "17   \\n\\nmmm\\n\\n\"a. . .. , . ..\\n\\n' o acordo nucl...    1672   \n",
       "18  antonio la'. aiii-1315230 da sxmrâxm\\njáwówa i...     330   \n",
       "19   \\n\\n \\n\\nlembrete n? 011\\n\\npolítica nuclear ...    1590   \n",
       "\n",
       "                                               tokens  \\\n",
       "15  [nuclear, acordo, energia, nucleares, brasil, ...   \n",
       "16  [nuclear, acordo, energia, nucleares, brasil, ...   \n",
       "17  [nuclear, acordo, energia, nucleares, brasil, ...   \n",
       "18  [acordo, energia, brasil, uranio, rfa, salvagu...   \n",
       "19  [nuclear, acordo, energia, nucleares, brasil, ...   \n",
       "\n",
       "                                                names  year         doc  \\\n",
       "15  [James Earl (Jimmy) Carter, Helmut Schmidt, Cy...  1978  doc_III-31   \n",
       "16                        [James Earl (Jimmy) Carter]  1978      doc_29   \n",
       "17                        [James Earl (Jimmy) Carter]  1976    doc_II-1   \n",
       "18                      [Antonio Azeredo da Silveira]  1978      doc_16   \n",
       "19                        [James Earl (Jimmy) Carter]  1979  doc_XXI-12   \n",
       "\n",
       "         date  \n",
       "15 1978-01-15  \n",
       "16 1978-01-15  \n",
       "17 1976-01-15  \n",
       "18 1978-01-06  \n",
       "19 1979-06-15  "
      ]
     },
     "execution_count": 28,
     "metadata": {},
     "output_type": "execute_result"
    }
   ],
   "source": [
    "nuclear_brazil_df = topic_vis_dict[7]\n",
    "nuclear_brazil_df['doc'] = nuclear_brazil_df['doc_id'].apply(lambda text: re.sub('.*(doc.*)', r'\\1', text))\n",
    "cols = nuclear_brazil_df.columns.tolist()\n",
    "cols = cols[:3] + cols[4:] + cols[3:4]\n",
    "nuclear_brazil_df = nuclear_brazil_df[cols]\n",
    "nuclear_brazil_df.tail()"
   ]
  },
  {
   "cell_type": "markdown",
   "metadata": {},
   "source": [
    "# build main data for each topic"
   ]
  },
  {
   "cell_type": "code",
   "execution_count": 29,
   "metadata": {},
   "outputs": [],
   "source": [
    "# topics = [7, 49]\n",
    "topics = range(100)"
   ]
  },
  {
   "cell_type": "raw",
   "metadata": {},
   "source": [
    "for i,topic in enumerate(topics):\n",
    "    print(i, topic)"
   ]
  },
  {
   "cell_type": "code",
   "execution_count": null,
   "metadata": {},
   "outputs": [],
   "source": [
    "dict_topics_json = {}\n",
    "for topic in topics:\n",
    "#     change topic name (lowercase, hiphenize)\n",
    "#     topic = topic.lower()\n",
    "#     topic = re.sub('[\\:\\,]', '', topic)\n",
    "#     topic = re.sub('(^\\w+ \\w+).*', r'\\1', topic)\n",
    "#     topic = re.sub('\\s', r'_', topic)\n",
    "#     print(topic)\n",
    "    \n",
    "    #rename docs\n",
    "    dict_topics_json[topic] = topic_vis_dict[topic]\n",
    "    dict_topics_json[topic]['doc'] = dict_topics_json[topic]['doc_id'].apply(lambda text: re.sub('.*(doc.*)', r'\\1', text))\n",
    "    \n",
    "    #places date column at the end of df\n",
    "    cols = dict_topics_json[topic].columns.tolist()\n",
    "    cols = cols[:3] + cols[4:] + cols[3:4] \n",
    "    dict_topics_json[topic] = dict_topics_json[topic][cols]\n",
    "    \n",
    "    topic_transposed = dict_topics_json[topic] \\\n",
    "        .drop([\"body\", \"topic_id\"], axis = 1) \\\n",
    "        .rename(columns={\"pdf\": \"url\"}) \\\n",
    "        .transpose()\n",
    "    \n",
    "    # build json of main data\n",
    "    topic_json = topic_transposed.to_json(orient='columns')\n",
    "    topic_json = re.sub('\"\\d+\":', '', topic_json)\n",
    "    topic_json = re.sub(\"^{\", \"[\", topic_json)\n",
    "    topic_json = re.sub(\"}$\", \"]\", topic_json)\n",
    "    topic_json = json.loads(topic_json)\n",
    "    \n",
    "    # save json\n",
    "    json_file = 'topic_{}.json'.format(str(topic))\n",
    "    file_path = os.path.join(outputs, json_file)\n",
    "    json.dump(topic_json, open(file_path, 'w'))"
   ]
  },
  {
   "cell_type": "markdown",
   "metadata": {},
   "source": [
    "# define function to melt dataframes"
   ]
  },
  {
   "cell_type": "code",
   "execution_count": 30,
   "metadata": {},
   "outputs": [],
   "source": [
    "def get_melted_df(df,variable):\n",
    "    cols_to_drop = set(df.columns) - set(['doc_id'])\n",
    "    topic = df[variable].apply(pd.Series) \\\n",
    "        .merge(df, left_index = True, right_index = True) \\\n",
    "        .drop(cols_to_drop, axis = 1) \\\n",
    "        .melt(id_vars = ['doc_id'], value_name = variable) \\\n",
    "        .drop(\"variable\", axis = 1) \\\n",
    "        .dropna()\n",
    "    return topic"
   ]
  },
  {
   "cell_type": "markdown",
   "metadata": {},
   "source": [
    "# generate json files related to persons\n",
    "Get connections between docs and persons. Those represent the edges of a graph."
   ]
  },
  {
   "cell_type": "code",
   "execution_count": 81,
   "metadata": {
    "scrolled": true
   },
   "outputs": [],
   "source": [
    "for topic,i in zip(topics, range(1,len(topics)+1)):\n",
    "    #build list of docs for each person\n",
    "    melted_df = get_melted_df(topic_vis_dict[topic], 'names')\n",
    "    melted_df = melted_df.groupby(['names'])['doc_id'].apply(list)\n",
    "    melted_df = pd.DataFrame({'name':melted_df.index, 'docs':melted_df.values})\n",
    "    \n",
    "    # build json of list of names\n",
    "    names_list = []\n",
    "    for index, row in melted_df.iterrows():\n",
    "        name = row['name']\n",
    "        name_count = math.log(int(person_doc_count.loc[person_doc_count['name'] == name]['person_count']),1.5)\n",
    "        docs = row['docs']\n",
    "        \n",
    "        temp_dict = {'name': name, 'count': name_count, 'docs': docs}\n",
    "        names_list.append(temp_dict)\n",
    "        \n",
    "    # save json\n",
    "    file_path = outputs+'names_list_{}.json'.format(str(i))\n",
    "    json.dump(names_list, open(file_path, 'w'))"
   ]
  },
  {
   "cell_type": "markdown",
   "metadata": {},
   "source": [
    "# generate json files related to tokens\n",
    "Get connections between docs and tokens. Those represent the edges of a graph."
   ]
  },
  {
   "cell_type": "code",
   "execution_count": 97,
   "metadata": {},
   "outputs": [],
   "source": [
    "for topic,i in zip(topics, range(1,len(topics)+1)):\n",
    "    #build list of docs for each token\n",
    "    melted_df = get_melted_df(topic_vis_dict[topic], 'tokens')\n",
    "    melted_df = melted_df.groupby(['tokens'])['doc_id'].apply(list)\n",
    "    melted_df = pd.DataFrame({'token':melted_df.index, 'docs':melted_df.values})\n",
    "    \n",
    "    #get data from lda_model\n",
    "    for pair in main_topics:\n",
    "        if pair[0] == topic: topic_num = pair[1]\n",
    "    topic_tokens = lda_model.print_topics(-1, num_words=20)[topic_num]\n",
    "    topic_tokens = topic_tokens[1].split('+')\n",
    "    \n",
    "    #topic_tokens will be a list with elements such as: '0.085*\"nuclear\" ',\n",
    "    tokens_list = []\n",
    "    for pair in topic_tokens:\n",
    "        #get tokens and scores\n",
    "        token = re.sub('.*\\*\"(.*)\".*', r'\\1', pair)\n",
    "        token = remove_special_char(token)\n",
    "        score = re.sub(' *(.*)\\*.*', r'\\1', pair)\n",
    "        score = float(score)\n",
    "\n",
    "        #remove tokens irrelevantes/problematicos\n",
    "        if token == 'fins': continue\n",
    "\n",
    "        #get list of docs\n",
    "        docs = list(melted_df[melted_df['token'] == token]['docs'])[0]\n",
    "        \n",
    "        temp_dict = {'token': token, 'score': score, 'docs': docs}\n",
    "        tokens_list.append(temp_dict)\n",
    "    file_path = outputs+'tokens_list_{}.json'.format(str(i))\n",
    "    json.dump(tokens_list, open(file_path, 'w'))"
   ]
  },
  {
   "cell_type": "code",
   "execution_count": null,
   "metadata": {},
   "outputs": [],
   "source": []
  }
 ],
 "metadata": {
  "kernelspec": {
   "display_name": "Python 3",
   "language": "python",
   "name": "python3"
  },
  "language_info": {
   "codemirror_mode": {
    "name": "ipython",
    "version": 3
   },
   "file_extension": ".py",
   "mimetype": "text/x-python",
   "name": "python",
   "nbconvert_exporter": "python",
   "pygments_lexer": "ipython3",
   "version": "3.7.4"
  }
 },
 "nbformat": 4,
 "nbformat_minor": 2
}
