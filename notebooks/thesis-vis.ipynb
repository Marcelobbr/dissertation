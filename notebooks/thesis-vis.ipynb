{
 "cells": [
  {
   "cell_type": "markdown",
   "metadata": {},
   "source": [
    "Database operations to build the structure for visualization"
   ]
  },
  {
   "cell_type": "markdown",
   "metadata": {},
   "source": [
    "I will need 4 groups of data:\n",
    "* topics (aggregator)\n",
    "* docs\n",
    "* words\n",
    "* people"
   ]
  },
  {
   "cell_type": "code",
   "execution_count": 1,
   "metadata": {},
   "outputs": [],
   "source": [
    "import pandas as pd\n",
    "import json\n",
    "import pickle\n",
    "import re\n",
    "import math\n",
    "import gensim\n",
    "from collections import Counter"
   ]
  },
  {
   "cell_type": "code",
   "execution_count": 2,
   "metadata": {},
   "outputs": [],
   "source": [
    "outputs = '../outputs/'"
   ]
  },
  {
   "cell_type": "code",
   "execution_count": 3,
   "metadata": {},
   "outputs": [],
   "source": [
    "file_tables = '../outputs/tables_dict.pkl'\n",
    "cpdoc_tables = pickle.load(open(file_tables, 'rb'))"
   ]
  },
  {
   "cell_type": "markdown",
   "metadata": {},
   "source": [
    "tests"
   ]
  },
  {
   "cell_type": "code",
   "execution_count": 391,
   "metadata": {},
   "outputs": [],
   "source": [
    "file_tables_v2 = '../outputs/tables_dict-version201906.pkl'\n",
    "cpdoc_tables_v2 = pickle.load(open(file_tables, 'rb'))"
   ]
  },
  {
   "cell_type": "code",
   "execution_count": null,
   "metadata": {},
   "outputs": [],
   "source": [
    "for table in cpdoc_tables:\n",
    "    print('table:', table, 'length:', len(cpdoc_tables[table]))"
   ]
  },
  {
   "cell_type": "raw",
   "metadata": {},
   "source": [
    "for table in cpdoc_tables:\n",
    "    print('NEW TABLE', 'table:', table, '\\r\\n', cpdoc_tables[table].head())"
   ]
  },
  {
   "cell_type": "raw",
   "metadata": {},
   "source": [
    "for table in cpdoc_tables_v2:\n",
    "    print('NEW TABLE', 'table:', table, '\\r\\n', cpdoc_tables_v2[table].head())"
   ]
  },
  {
   "cell_type": "markdown",
   "metadata": {},
   "source": [
    "tests end"
   ]
  },
  {
   "cell_type": "code",
   "execution_count": 203,
   "metadata": {},
   "outputs": [
    {
     "data": {
      "text/plain": [
       "['person_doc ',\n",
       " 'top_persons',\n",
       " 'persons',\n",
       " 'top_countries',\n",
       " 'docs',\n",
       " 'top_topics',\n",
       " 'doc_counts ',\n",
       " 'countries',\n",
       " 'top_classifications',\n",
       " 'topic_doc',\n",
       " 'topics',\n",
       " 'country_doc']"
      ]
     },
     "execution_count": 203,
     "metadata": {},
     "output_type": "execute_result"
    }
   ],
   "source": [
    "list(cpdoc_tables)"
   ]
  },
  {
   "cell_type": "markdown",
   "metadata": {},
   "source": [
    "# docs and topics"
   ]
  },
  {
   "cell_type": "code",
   "execution_count": 204,
   "metadata": {
    "scrolled": true
   },
   "outputs": [
    {
     "data": {
      "text/html": [
       "<div>\n",
       "<style scoped>\n",
       "    .dataframe tbody tr th:only-of-type {\n",
       "        vertical-align: middle;\n",
       "    }\n",
       "\n",
       "    .dataframe tbody tr th {\n",
       "        vertical-align: top;\n",
       "    }\n",
       "\n",
       "    .dataframe thead th {\n",
       "        text-align: right;\n",
       "    }\n",
       "</style>\n",
       "<table border=\"1\" class=\"dataframe\">\n",
       "  <thead>\n",
       "    <tr style=\"text-align: right;\">\n",
       "      <th></th>\n",
       "      <th>doc_id</th>\n",
       "      <th>topic_id</th>\n",
       "      <th>topic_score</th>\n",
       "      <th>date</th>\n",
       "    </tr>\n",
       "  </thead>\n",
       "  <tbody>\n",
       "    <tr>\n",
       "      <th>0</th>\n",
       "      <td>ag_1973.11.20_doc_I-100</td>\n",
       "      <td>5009</td>\n",
       "      <td>0.167579</td>\n",
       "      <td>1974-02-22</td>\n",
       "    </tr>\n",
       "    <tr>\n",
       "      <th>1</th>\n",
       "      <td>ag_1973.11.20_doc_I-100</td>\n",
       "      <td>5010</td>\n",
       "      <td>0.040318</td>\n",
       "      <td>1974-02-22</td>\n",
       "    </tr>\n",
       "    <tr>\n",
       "      <th>2</th>\n",
       "      <td>ag_1973.11.20_doc_I-100</td>\n",
       "      <td>5040</td>\n",
       "      <td>0.092381</td>\n",
       "      <td>1974-02-22</td>\n",
       "    </tr>\n",
       "    <tr>\n",
       "      <th>3</th>\n",
       "      <td>ag_1973.11.20_doc_I-100</td>\n",
       "      <td>5041</td>\n",
       "      <td>0.090368</td>\n",
       "      <td>1974-02-22</td>\n",
       "    </tr>\n",
       "    <tr>\n",
       "      <th>4</th>\n",
       "      <td>ag_1973.11.20_doc_I-100</td>\n",
       "      <td>5051</td>\n",
       "      <td>0.029285</td>\n",
       "      <td>1974-02-22</td>\n",
       "    </tr>\n",
       "  </tbody>\n",
       "</table>\n",
       "</div>"
      ],
      "text/plain": [
       "                    doc_id  topic_id  topic_score       date\n",
       "0  ag_1973.11.20_doc_I-100      5009     0.167579 1974-02-22\n",
       "1  ag_1973.11.20_doc_I-100      5010     0.040318 1974-02-22\n",
       "2  ag_1973.11.20_doc_I-100      5040     0.092381 1974-02-22\n",
       "3  ag_1973.11.20_doc_I-100      5041     0.090368 1974-02-22\n",
       "4  ag_1973.11.20_doc_I-100      5051     0.029285 1974-02-22"
      ]
     },
     "execution_count": 204,
     "metadata": {},
     "output_type": "execute_result"
    }
   ],
   "source": [
    "topic_doc = cpdoc_tables['topic_doc']\n",
    "topic_doc.head()"
   ]
  },
  {
   "cell_type": "markdown",
   "metadata": {},
   "source": [
    "# docs and persons"
   ]
  },
  {
   "cell_type": "code",
   "execution_count": 205,
   "metadata": {},
   "outputs": [],
   "source": [
    "persons = cpdoc_tables['persons']\n",
    "persons = persons.rename(index=str, columns={\"id\": \"person_id\"})"
   ]
  },
  {
   "cell_type": "code",
   "execution_count": 206,
   "metadata": {},
   "outputs": [],
   "source": [
    "person_doc = cpdoc_tables['person_doc ']\n",
    "person_doc = pd.merge(person_doc, persons, on='person_id', how='inner')\n",
    "person_doc = person_doc.drop(columns=['date', 'source', 'birth_year', 'death_year', 'description'])\n",
    "person_doc = person_doc.replace('(.*),(.*),.*', r'\\1,\\2', regex=True)\n",
    "person_doc = person_doc.replace('(.*), (.*)', r'\\2 \\1', regex=True)"
   ]
  },
  {
   "cell_type": "code",
   "execution_count": 207,
   "metadata": {},
   "outputs": [],
   "source": [
    "#remove special characters\n",
    "person_doc = person_doc.name.apply(pd.Series) \\\n",
    "    .replace('[“”]', '', regex=True) \\\n",
    "    .replace('[áàãâ]', 'a', regex=True) \\\n",
    "    .replace('[óòõô]', 'o', regex=True) \\\n",
    "    .replace('[éèê]', 'e', regex=True) \\\n",
    "    .replace('[íì]', 'i', regex=True) \\\n",
    "    .replace('[úù]', 'u', regex=True) \\\n",
    "    .replace('ç', 'c', regex=True) \\\n",
    "    .merge(person_doc, left_index = True, right_index = True) \\\n",
    "    .drop(\"name\", axis=1) \\\n",
    "    .rename(columns={0: \"name\"})"
   ]
  },
  {
   "cell_type": "code",
   "execution_count": 208,
   "metadata": {
    "scrolled": true
   },
   "outputs": [
    {
     "data": {
      "text/html": [
       "<div>\n",
       "<style scoped>\n",
       "    .dataframe tbody tr th:only-of-type {\n",
       "        vertical-align: middle;\n",
       "    }\n",
       "\n",
       "    .dataframe tbody tr th {\n",
       "        vertical-align: top;\n",
       "    }\n",
       "\n",
       "    .dataframe thead th {\n",
       "        text-align: right;\n",
       "    }\n",
       "</style>\n",
       "<table border=\"1\" class=\"dataframe\">\n",
       "  <thead>\n",
       "    <tr style=\"text-align: right;\">\n",
       "      <th></th>\n",
       "      <th>name</th>\n",
       "      <th>person_id</th>\n",
       "      <th>doc_id</th>\n",
       "      <th>person_count</th>\n",
       "    </tr>\n",
       "  </thead>\n",
       "  <tbody>\n",
       "    <tr>\n",
       "      <th>0</th>\n",
       "      <td>Dean Gooderham Acheson</td>\n",
       "      <td>100070</td>\n",
       "      <td>ag_1977.07.00_doc_I-4</td>\n",
       "      <td>1</td>\n",
       "    </tr>\n",
       "    <tr>\n",
       "      <th>1</th>\n",
       "      <td>John Quincy Adams</td>\n",
       "      <td>100097</td>\n",
       "      <td>be_1974.03.15_doc_XI-2</td>\n",
       "      <td>1</td>\n",
       "    </tr>\n",
       "    <tr>\n",
       "      <th>2</th>\n",
       "      <td>Konrad Adenauer</td>\n",
       "      <td>100118</td>\n",
       "      <td>be_1974.03.15_doc_X-21</td>\n",
       "      <td>1</td>\n",
       "    </tr>\n",
       "    <tr>\n",
       "      <th>3</th>\n",
       "      <td>Konrad Adenauer</td>\n",
       "      <td>100118</td>\n",
       "      <td>be_1977.06.01_doc_II-28</td>\n",
       "      <td>1</td>\n",
       "    </tr>\n",
       "    <tr>\n",
       "      <th>4</th>\n",
       "      <td>Konrad Adenauer</td>\n",
       "      <td>100118</td>\n",
       "      <td>pn_1974.08.15_doc_I-3</td>\n",
       "      <td>1</td>\n",
       "    </tr>\n",
       "  </tbody>\n",
       "</table>\n",
       "</div>"
      ],
      "text/plain": [
       "                     name person_id                   doc_id  person_count\n",
       "0  Dean Gooderham Acheson    100070    ag_1977.07.00_doc_I-4             1\n",
       "1       John Quincy Adams    100097   be_1974.03.15_doc_XI-2             1\n",
       "2         Konrad Adenauer    100118   be_1974.03.15_doc_X-21             1\n",
       "3         Konrad Adenauer    100118  be_1977.06.01_doc_II-28             1\n",
       "4         Konrad Adenauer    100118    pn_1974.08.15_doc_I-3             1"
      ]
     },
     "execution_count": 208,
     "metadata": {},
     "output_type": "execute_result"
    }
   ],
   "source": [
    "person_doc.head()"
   ]
  },
  {
   "cell_type": "code",
   "execution_count": 354,
   "metadata": {},
   "outputs": [],
   "source": [
    "person_doc_count = pd.DataFrame(person_doc.groupby(['name'])['person_count'].agg('count')) #.apply(sum)\n",
    "person_doc_count = person_doc_count.reset_index()"
   ]
  },
  {
   "cell_type": "markdown",
   "metadata": {},
   "source": [
    "# docs and tokens"
   ]
  },
  {
   "cell_type": "code",
   "execution_count": 209,
   "metadata": {},
   "outputs": [
    {
     "data": {
      "text/html": [
       "<div>\n",
       "<style scoped>\n",
       "    .dataframe tbody tr th:only-of-type {\n",
       "        vertical-align: middle;\n",
       "    }\n",
       "\n",
       "    .dataframe tbody tr th {\n",
       "        vertical-align: top;\n",
       "    }\n",
       "\n",
       "    .dataframe thead th {\n",
       "        text-align: right;\n",
       "    }\n",
       "</style>\n",
       "<table border=\"1\" class=\"dataframe\">\n",
       "  <thead>\n",
       "    <tr style=\"text-align: right;\">\n",
       "      <th></th>\n",
       "      <th>doc_id</th>\n",
       "      <th>title</th>\n",
       "      <th>pdf</th>\n",
       "      <th>body</th>\n",
       "      <th>length</th>\n",
       "    </tr>\n",
       "  </thead>\n",
       "  <tbody>\n",
       "    <tr>\n",
       "      <th>0</th>\n",
       "      <td>ag_1973.11.20_doc_I-1</td>\n",
       "      <td>Documentos felicitando Azeredo da Silveira pel...</td>\n",
       "      <td>http://www.fgv.br/cpdoc/acervo/arquivo-pessoal...</td>\n",
       "      <td>\\n\\njr, /h ' \"&amp; m$ hb'h'qo\\n&amp; la'?\\n\\n, é %%3...</td>\n",
       "      <td>261</td>\n",
       "    </tr>\n",
       "    <tr>\n",
       "      <th>1</th>\n",
       "      <td>ag_1973.11.20_doc_I-100</td>\n",
       "      <td>Documentos felicitando Azeredo da Silveira pel...</td>\n",
       "      <td>http://www.fgv.br/cpdoc/acervo/arquivo-pessoal...</td>\n",
       "      <td>mjm h\\n\\n. . . ' \" . ww and\\n&amp; !\\nzczc tea363 ...</td>\n",
       "      <td>173</td>\n",
       "    </tr>\n",
       "    <tr>\n",
       "      <th>2</th>\n",
       "      <td>ag_1973.11.20_doc_I-101</td>\n",
       "      <td>Documentos felicitando Azeredo da Silveira pel...</td>\n",
       "      <td>http://www.fgv.br/cpdoc/acervo/arquivo-pessoal...</td>\n",
       "      <td>\\n  \\n        \\n\\n \\n\\n \\n\\n114\":\\n\\n \\n\\n ...</td>\n",
       "      <td>72</td>\n",
       "    </tr>\n",
       "    <tr>\n",
       "      <th>3</th>\n",
       "      <td>ag_1973.11.20_doc_I-102</td>\n",
       "      <td>Documentos felicitando Azeredo da Silveira pel...</td>\n",
       "      <td>http://www.fgv.br/cpdoc/acervo/arquivo-pessoal...</td>\n",
       "      <td>\\n\\n\" \", \"m-nmfvww mmm/\"ar? &amp;\", wa \" \"***-**\"...</td>\n",
       "      <td>131</td>\n",
       "    </tr>\n",
       "    <tr>\n",
       "      <th>4</th>\n",
       "      <td>ag_1973.11.20_doc_I-103</td>\n",
       "      <td>Documentos felicitando Azeredo da Silveira pel...</td>\n",
       "      <td>http://www.fgv.br/cpdoc/acervo/arquivo-pessoal...</td>\n",
       "      <td>\\n\\n \\n\\nmi*/gm\\n%adazw/sõ'\\n\\n%% &amp;&amp; %%%&amp;\\n\\n...</td>\n",
       "      <td>295</td>\n",
       "    </tr>\n",
       "  </tbody>\n",
       "</table>\n",
       "</div>"
      ],
      "text/plain": [
       "                    doc_id                                              title  \\\n",
       "0    ag_1973.11.20_doc_I-1  Documentos felicitando Azeredo da Silveira pel...   \n",
       "1  ag_1973.11.20_doc_I-100  Documentos felicitando Azeredo da Silveira pel...   \n",
       "2  ag_1973.11.20_doc_I-101  Documentos felicitando Azeredo da Silveira pel...   \n",
       "3  ag_1973.11.20_doc_I-102  Documentos felicitando Azeredo da Silveira pel...   \n",
       "4  ag_1973.11.20_doc_I-103  Documentos felicitando Azeredo da Silveira pel...   \n",
       "\n",
       "                                                 pdf  \\\n",
       "0  http://www.fgv.br/cpdoc/acervo/arquivo-pessoal...   \n",
       "1  http://www.fgv.br/cpdoc/acervo/arquivo-pessoal...   \n",
       "2  http://www.fgv.br/cpdoc/acervo/arquivo-pessoal...   \n",
       "3  http://www.fgv.br/cpdoc/acervo/arquivo-pessoal...   \n",
       "4  http://www.fgv.br/cpdoc/acervo/arquivo-pessoal...   \n",
       "\n",
       "                                                body  length  \n",
       "0   \\n\\njr, /h ' \"& m$ hb'h'qo\\n& la'?\\n\\n, é %%3...     261  \n",
       "1  mjm h\\n\\n. . . ' \" . ww and\\n& !\\nzczc tea363 ...     173  \n",
       "2     \\n  \\n        \\n\\n \\n\\n \\n\\n114\":\\n\\n \\n\\n ...      72  \n",
       "3   \\n\\n\" \", \"m-nmfvww mmm/\"ar? &\", wa \" \"***-**\"...     131  \n",
       "4   \\n\\n \\n\\nmi*/gm\\n%adazw/sõ'\\n\\n%% && %%%&\\n\\n...     295  "
      ]
     },
     "execution_count": 209,
     "metadata": {},
     "output_type": "execute_result"
    }
   ],
   "source": [
    "docs = cpdoc_tables['docs'][['id', 'title', 'pdf', 'body']]\n",
    "docs = docs.rename(index=str, columns={\"id\": \"doc_id\"})\n",
    "docs['length'] = docs['body'].apply(lambda x: len(x.split()))\n",
    "docs.head()"
   ]
  },
  {
   "cell_type": "markdown",
   "metadata": {},
   "source": [
    "# words and topics"
   ]
  },
  {
   "cell_type": "code",
   "execution_count": 210,
   "metadata": {},
   "outputs": [
    {
     "name": "stdout",
     "output_type": "stream",
     "text": [
      "home OR fgv OR broken? \n",
      "computer is not defined\n"
     ]
    }
   ],
   "source": [
    "computer = input(\"home OR fgv OR broken? \") \n",
    "if computer == 'home': outer_inputs = 'D:/'\n",
    "elif computer == 'broken': outer_inputs = 'C:/Users/marcelo.old-note/Documents/'\n",
    "else: print('computer is not defined')"
   ]
  },
  {
   "cell_type": "code",
   "execution_count": 211,
   "metadata": {},
   "outputs": [],
   "source": [
    "file_lda_model = outer_inputs+'azeredo_files/model_lda_100_rs_00.pkl'\n",
    "lda_model = pickle.load(open(file_lda_model, 'rb'))"
   ]
  },
  {
   "cell_type": "code",
   "execution_count": 212,
   "metadata": {},
   "outputs": [],
   "source": [
    "def remove_special_char(text):\n",
    "    text = re.sub('[áàãâ]', 'a', text)\n",
    "    text = re.sub('[óòõô]', 'o', text)\n",
    "    text = re.sub('[éèê]', 'e', text)\n",
    "    text = re.sub('[íì]', 'i', text)\n",
    "    text = re.sub('[úù]', 'u', text)\n",
    "    text = re.sub('ç', 'c', text)\n",
    "    return text"
   ]
  },
  {
   "cell_type": "raw",
   "metadata": {},
   "source": [
    "def retrieve_tokens(text, token_score):\n",
    "    text = text.split()\n",
    "    text_counter = dict(Counter(text))\n",
    "    main_tokens = list(set(token_score['tokens']) & set(text_counter))\n",
    "    main_tokens_df = pd.DataFrame(text_counter, index=[0])[main_tokens] \\\n",
    "        .transpose() \\\n",
    "        .sort_values(by=[0], ascending = False) \\\n",
    "        .head()\n",
    "    main_tokens = list(main_tokens_df.index)\n",
    "    main_tokens = [remove_special_char(x) for x in main_tokens]\n",
    "    return main_tokens"
   ]
  },
  {
   "cell_type": "code",
   "execution_count": null,
   "metadata": {},
   "outputs": [],
   "source": [
    "#old version without sorting and selecting only 5 main tokens\n",
    "def retrieve_tokens(text, token_score):\n",
    "    main_tokens = []\n",
    "    for token in token_score['tokens']:\n",
    "        if token in text:\n",
    "            token = remove_special_char(token) # refatorar (acaba repetindo mesma limpeza muitas vezes). ou talvez seja melhor assim para nao limpar texto inteiro desnecessariamente...\n",
    "            main_tokens.append(token)\n",
    "    return main_tokens"
   ]
  },
  {
   "cell_type": "markdown",
   "metadata": {},
   "source": [
    "# build vis table\n",
    "Topic: Nuclear Brazil"
   ]
  },
  {
   "cell_type": "code",
   "execution_count": 220,
   "metadata": {},
   "outputs": [],
   "source": [
    "main_topics = [['International Cooperation for Development', 99], ['Geisel foreign policy: ideas and action', 61], \n",
    "               ['Brazilian government and private investment', 39], ['UN system', 63], \n",
    "               ['International Economic Relations of Brazil', 56], ['United States of America', 89], \n",
    "               ['Latin America and Caribbean', 4], ['Itaipu plant: technical discussions', 49], ['Nuclear Brazil', 7], \n",
    "               ['Brazil, Africa and decolonization', 45]]"
   ]
  },
  {
   "cell_type": "code",
   "execution_count": 221,
   "metadata": {},
   "outputs": [],
   "source": [
    "def build_vis_table(keyword, topic_doc):\n",
    "    for pair in main_topics:\n",
    "        if pair[0] == keyword: topic_num = pair[1]    \n",
    "    if len(str(topic_num)) == 1: topic_id = '500'+str(topic_num)\n",
    "    else: topic_id = '50'+str(topic_num)\n",
    "    topic_id = int(topic_id)\n",
    "        \n",
    "    topic_tokens = lda_model.print_topics(-1, num_words=20)[topic_num]\n",
    "    #topic_tokens[1]\n",
    "    \n",
    "    tokens = []\n",
    "    scores = []\n",
    "    for i in topic_tokens[1].split('+'):\n",
    "        token = re.sub('.*\\*\"(.*)\".*', r'\\1', i)\n",
    "        score = re.sub(' *(.*)\\*.*', r'\\1', i)\n",
    "        score = float(score)\n",
    "        tokens.append(token)\n",
    "        scores.append(score)\n",
    "    token_score_dict = {'tokens': tokens, 'scores': scores}\n",
    "    \n",
    "    token_score = pd.DataFrame(token_score_dict)\n",
    "    #print(token_score.head())\n",
    "    \n",
    "    docs['tokens'] = docs['body'].apply(lambda text: retrieve_tokens(text, token_score))\n",
    "    \n",
    "    #docs.head()\n",
    "    \n",
    "    #filter\n",
    "    topic_doc = topic_doc.loc[topic_doc['topic_id'] == topic_id].sort_values(by=['topic_score'], ascending=False)\n",
    "    topic_doc = topic_doc.head(20)\n",
    "    \n",
    "    #merge topics and tokens\n",
    "    topic_doc = pd.merge(topic_doc, docs, on='doc_id', how='inner')\n",
    "    topic_doc = topic_doc.drop(columns=['date', 'title'])\n",
    "    \n",
    "    #merge topics and persons\n",
    "    \n",
    "    array = list(topic_doc['doc_id'])\n",
    "    person_doc_filtered = person_doc.loc[person_doc['doc_id'].isin(array)]\n",
    "    \n",
    "    #merge topics and persons\n",
    "    #name_count = [row['name'] + '; ' + str(row['person_count']) for index, row in person_doc_filtered.iterrows()]\n",
    "    #person_doc_filtered['name_count'] = name_count\n",
    "    name = [row['name'] for index, row in person_doc_filtered.iterrows()]\n",
    "    person_doc_filtered['name'] = name\n",
    "    \n",
    "    person_doc_filtered = person_doc_filtered.groupby(['doc_id'])['name'].apply(list)\n",
    "    person_doc_filtered = pd.DataFrame({'doc_id':person_doc_filtered.index, 'name':person_doc_filtered.values})\n",
    "    \n",
    "    topic_doc = pd.merge(topic_doc, person_doc_filtered, on='doc_id', how='outer')\n",
    "    topic_doc['name'] = topic_doc['name'] #.fillna(' ')\n",
    "    for row in topic_doc.loc[topic_doc.name.isnull(), 'name'].index:\n",
    "        topic_doc.at[row, 'name'] = []\n",
    "    \n",
    "    return topic_doc"
   ]
  },
  {
   "cell_type": "code",
   "execution_count": 222,
   "metadata": {},
   "outputs": [],
   "source": [
    "topic_vis_dict = {}"
   ]
  },
  {
   "cell_type": "code",
   "execution_count": 224,
   "metadata": {},
   "outputs": [
    {
     "name": "stderr",
     "output_type": "stream",
     "text": [
      "D:\\Users\\Marcelo\\Anaconda3\\lib\\site-packages\\ipykernel_launcher.py:45: SettingWithCopyWarning: \n",
      "A value is trying to be set on a copy of a slice from a DataFrame.\n",
      "Try using .loc[row_indexer,col_indexer] = value instead\n",
      "\n",
      "See the caveats in the documentation: http://pandas.pydata.org/pandas-docs/stable/indexing.html#indexing-view-versus-copy\n"
     ]
    }
   ],
   "source": [
    "for pair in main_topics:\n",
    "    keyword = pair[0]\n",
    "    topic_vis_dict[keyword] = build_vis_table(keyword, topic_doc)"
   ]
  },
  {
   "cell_type": "code",
   "execution_count": 225,
   "metadata": {},
   "outputs": [
    {
     "data": {
      "text/plain": [
       "dict_keys(['International Cooperation for Development', 'Geisel foreign policy: ideas and action', 'Brazilian government and private investment', 'UN system', 'International Economic Relations of Brazil', 'United States of America', 'Latin America and Caribbean', 'Itaipu plant: technical discussions', 'Nuclear Brazil', 'Brazil, Africa and decolonization'])"
      ]
     },
     "execution_count": 225,
     "metadata": {},
     "output_type": "execute_result"
    }
   ],
   "source": [
    "topic_vis_dict.keys()"
   ]
  },
  {
   "cell_type": "code",
   "execution_count": 226,
   "metadata": {},
   "outputs": [
    {
     "data": {
      "text/html": [
       "<div>\n",
       "<style scoped>\n",
       "    .dataframe tbody tr th:only-of-type {\n",
       "        vertical-align: middle;\n",
       "    }\n",
       "\n",
       "    .dataframe tbody tr th {\n",
       "        vertical-align: top;\n",
       "    }\n",
       "\n",
       "    .dataframe thead th {\n",
       "        text-align: right;\n",
       "    }\n",
       "</style>\n",
       "<table border=\"1\" class=\"dataframe\">\n",
       "  <thead>\n",
       "    <tr style=\"text-align: right;\">\n",
       "      <th></th>\n",
       "      <th>doc_id</th>\n",
       "      <th>topic_id</th>\n",
       "      <th>topic_score</th>\n",
       "      <th>pdf</th>\n",
       "      <th>body</th>\n",
       "      <th>length</th>\n",
       "      <th>tokens</th>\n",
       "      <th>name</th>\n",
       "    </tr>\n",
       "  </thead>\n",
       "  <tbody>\n",
       "    <tr>\n",
       "      <th>15</th>\n",
       "      <td>pn_1974.08.15_doc_III-31</td>\n",
       "      <td>5007</td>\n",
       "      <td>0.303900</td>\n",
       "      <td>http://www.fgv.br/cpdoc/acervo/arquivo-pessoal...</td>\n",
       "      <td>secreto-excâusãvo\\n\\nsubsídios para as consult...</td>\n",
       "      <td>4549</td>\n",
       "      <td>[brasil, armas, nuclear, acordo, nucleares]</td>\n",
       "      <td>[James Earl (Jimmy) Carter, Helmut Schmidt, Cy...</td>\n",
       "    </tr>\n",
       "    <tr>\n",
       "      <th>16</th>\n",
       "      <td>pn_1976.12.28_doc_29</td>\n",
       "      <td>5007</td>\n",
       "      <td>0.300885</td>\n",
       "      <td>http://www.fgv.br/cpdoc/acervo/arquivo-pessoal...</td>\n",
       "      <td>telegrama recebido '\\n\\naaaa [97034 . é?\\no\" '...</td>\n",
       "      <td>845</td>\n",
       "      <td>[brasil, armas, acordo, tratado, uranio]</td>\n",
       "      <td>[James Earl (Jimmy) Carter]</td>\n",
       "    </tr>\n",
       "    <tr>\n",
       "      <th>17</th>\n",
       "      <td>pn_1974.08.15_doc_II-1</td>\n",
       "      <td>5007</td>\n",
       "      <td>0.290109</td>\n",
       "      <td>http://www.fgv.br/cpdoc/acervo/arquivo-pessoal...</td>\n",
       "      <td>\\n\\nmmm\\n\\n\"a. . .. , . ..\\n\\n' o acordo nucl...</td>\n",
       "      <td>1672</td>\n",
       "      <td>[nuclear, brasil, fins, energia, acordo]</td>\n",
       "      <td>[James Earl (Jimmy) Carter]</td>\n",
       "    </tr>\n",
       "    <tr>\n",
       "      <th>18</th>\n",
       "      <td>pn_1976.12.28_doc_16</td>\n",
       "      <td>5007</td>\n",
       "      <td>0.286767</td>\n",
       "      <td>http://www.fgv.br/cpdoc/acervo/arquivo-pessoal...</td>\n",
       "      <td>antonio la'. aiii-1315230 da sxmrâxm\\njáwówa i...</td>\n",
       "      <td>330</td>\n",
       "      <td>[brasil, combustivel, aiea, acordo, salvaguardas]</td>\n",
       "      <td>[Antonio Azeredo da Silveira]</td>\n",
       "    </tr>\n",
       "    <tr>\n",
       "      <th>19</th>\n",
       "      <td>d_1974.04.23_doc_XXI-12</td>\n",
       "      <td>5007</td>\n",
       "      <td>0.285340</td>\n",
       "      <td>http://www.fgv.br/cpdoc/acervo/arquivo-pessoal...</td>\n",
       "      <td>\\n\\n \\n\\nlembrete n? 011\\n\\npolítica nuclear ...</td>\n",
       "      <td>1590</td>\n",
       "      <td>[nuclear, brasil, fins, acordo, energia]</td>\n",
       "      <td>[James Earl (Jimmy) Carter]</td>\n",
       "    </tr>\n",
       "  </tbody>\n",
       "</table>\n",
       "</div>"
      ],
      "text/plain": [
       "                      doc_id  topic_id  topic_score  \\\n",
       "15  pn_1974.08.15_doc_III-31      5007     0.303900   \n",
       "16      pn_1976.12.28_doc_29      5007     0.300885   \n",
       "17    pn_1974.08.15_doc_II-1      5007     0.290109   \n",
       "18      pn_1976.12.28_doc_16      5007     0.286767   \n",
       "19   d_1974.04.23_doc_XXI-12      5007     0.285340   \n",
       "\n",
       "                                                  pdf  \\\n",
       "15  http://www.fgv.br/cpdoc/acervo/arquivo-pessoal...   \n",
       "16  http://www.fgv.br/cpdoc/acervo/arquivo-pessoal...   \n",
       "17  http://www.fgv.br/cpdoc/acervo/arquivo-pessoal...   \n",
       "18  http://www.fgv.br/cpdoc/acervo/arquivo-pessoal...   \n",
       "19  http://www.fgv.br/cpdoc/acervo/arquivo-pessoal...   \n",
       "\n",
       "                                                 body  length  \\\n",
       "15  secreto-excâusãvo\\n\\nsubsídios para as consult...    4549   \n",
       "16  telegrama recebido '\\n\\naaaa [97034 . é?\\no\" '...     845   \n",
       "17   \\n\\nmmm\\n\\n\"a. . .. , . ..\\n\\n' o acordo nucl...    1672   \n",
       "18  antonio la'. aiii-1315230 da sxmrâxm\\njáwówa i...     330   \n",
       "19   \\n\\n \\n\\nlembrete n? 011\\n\\npolítica nuclear ...    1590   \n",
       "\n",
       "                                               tokens  \\\n",
       "15        [brasil, armas, nuclear, acordo, nucleares]   \n",
       "16           [brasil, armas, acordo, tratado, uranio]   \n",
       "17           [nuclear, brasil, fins, energia, acordo]   \n",
       "18  [brasil, combustivel, aiea, acordo, salvaguardas]   \n",
       "19           [nuclear, brasil, fins, acordo, energia]   \n",
       "\n",
       "                                                 name  \n",
       "15  [James Earl (Jimmy) Carter, Helmut Schmidt, Cy...  \n",
       "16                        [James Earl (Jimmy) Carter]  \n",
       "17                        [James Earl (Jimmy) Carter]  \n",
       "18                      [Antonio Azeredo da Silveira]  \n",
       "19                        [James Earl (Jimmy) Carter]  "
      ]
     },
     "execution_count": 226,
     "metadata": {},
     "output_type": "execute_result"
    }
   ],
   "source": [
    "topic_vis_dict['Nuclear Brazil'].tail()"
   ]
  },
  {
   "cell_type": "code",
   "execution_count": 229,
   "metadata": {
    "scrolled": true
   },
   "outputs": [
    {
     "data": {
      "text/html": [
       "<div>\n",
       "<style scoped>\n",
       "    .dataframe tbody tr th:only-of-type {\n",
       "        vertical-align: middle;\n",
       "    }\n",
       "\n",
       "    .dataframe tbody tr th {\n",
       "        vertical-align: top;\n",
       "    }\n",
       "\n",
       "    .dataframe thead th {\n",
       "        text-align: right;\n",
       "    }\n",
       "</style>\n",
       "<table border=\"1\" class=\"dataframe\">\n",
       "  <thead>\n",
       "    <tr style=\"text-align: right;\">\n",
       "      <th></th>\n",
       "      <th>doc_id</th>\n",
       "      <th>topic_id</th>\n",
       "      <th>topic_score</th>\n",
       "      <th>pdf</th>\n",
       "      <th>body</th>\n",
       "      <th>length</th>\n",
       "      <th>tokens</th>\n",
       "      <th>name</th>\n",
       "    </tr>\n",
       "  </thead>\n",
       "  <tbody>\n",
       "    <tr>\n",
       "      <th>15</th>\n",
       "      <td>bp_1977.03.10_doc_V-3</td>\n",
       "      <td>5049</td>\n",
       "      <td>0.471688</td>\n",
       "      <td>http://www.fgv.br/cpdoc/acervo/arquivo-pessoal...</td>\n",
       "      <td>. \"* aas_ manoa-to\\n/ . _ - . . awm)\\n\\nsala-1...</td>\n",
       "      <td>6339</td>\n",
       "      <td>[rio, barragem, construcao, itaipu, energia]</td>\n",
       "      <td>[Antonio Azeredo da Silveira, Costa Cavalcanti...</td>\n",
       "    </tr>\n",
       "    <tr>\n",
       "      <th>16</th>\n",
       "      <td>bp_1977.09.13_doc_II-2</td>\n",
       "      <td>5049</td>\n",
       "      <td>0.469907</td>\n",
       "      <td>http://www.fgv.br/cpdoc/acervo/arquivo-pessoal...</td>\n",
       "      <td>- informação no? 332/76 - estudo sobre a fixaç...</td>\n",
       "      <td>2444</td>\n",
       "      <td>[cota, itaipu, corpus, energia, operacao]</td>\n",
       "      <td>[]</td>\n",
       "    </tr>\n",
       "    <tr>\n",
       "      <th>17</th>\n",
       "      <td>d_1974.03.26_doc_XXXI-44</td>\n",
       "      <td>5049</td>\n",
       "      <td>0.466800</td>\n",
       "      <td>http://www.fgv.br/cpdoc/acervo/arquivo-pessoal...</td>\n",
       "      <td>\\n\\n \\n\\n   \\n\\nwm\\n\"mg . .\\na\" rio âecreto\\n...</td>\n",
       "      <td>6152</td>\n",
       "      <td>[rio, barragem, construcao, itaipu, energia]</td>\n",
       "      <td>[Antonio Azeredo da Silveira, Costa Cavalcanti...</td>\n",
       "    </tr>\n",
       "    <tr>\n",
       "      <th>18</th>\n",
       "      <td>bp_1977.09.13_doc_I-14</td>\n",
       "      <td>5049</td>\n",
       "      <td>0.455080</td>\n",
       "      <td>http://www.fgv.br/cpdoc/acervo/arquivo-pessoal...</td>\n",
       "      <td>/\\n\\n \\n\\n \\n\\n \\n\\na\\n\\n \\n\\n!\\n\\n \\n\\n  o:\"i...</td>\n",
       "      <td>1690</td>\n",
       "      <td>[rio, corpus, iguacu, cota, parana]</td>\n",
       "      <td>[]</td>\n",
       "    </tr>\n",
       "    <tr>\n",
       "      <th>19</th>\n",
       "      <td>bp_1977.03.10_doc_III-18</td>\n",
       "      <td>5049</td>\n",
       "      <td>0.452564</td>\n",
       "      <td>http://www.fgv.br/cpdoc/acervo/arquivo-pessoal...</td>\n",
       "      <td>\\n\\nwma-03.40\\njg?\\n(é. /, () h\\n\\n confidenc...</td>\n",
       "      <td>409</td>\n",
       "      <td>[nivel, cota, itaipu, operacao, corpus]</td>\n",
       "      <td>[]</td>\n",
       "    </tr>\n",
       "  </tbody>\n",
       "</table>\n",
       "</div>"
      ],
      "text/plain": [
       "                      doc_id  topic_id  topic_score  \\\n",
       "15     bp_1977.03.10_doc_V-3      5049     0.471688   \n",
       "16    bp_1977.09.13_doc_II-2      5049     0.469907   \n",
       "17  d_1974.03.26_doc_XXXI-44      5049     0.466800   \n",
       "18    bp_1977.09.13_doc_I-14      5049     0.455080   \n",
       "19  bp_1977.03.10_doc_III-18      5049     0.452564   \n",
       "\n",
       "                                                  pdf  \\\n",
       "15  http://www.fgv.br/cpdoc/acervo/arquivo-pessoal...   \n",
       "16  http://www.fgv.br/cpdoc/acervo/arquivo-pessoal...   \n",
       "17  http://www.fgv.br/cpdoc/acervo/arquivo-pessoal...   \n",
       "18  http://www.fgv.br/cpdoc/acervo/arquivo-pessoal...   \n",
       "19  http://www.fgv.br/cpdoc/acervo/arquivo-pessoal...   \n",
       "\n",
       "                                                 body  length  \\\n",
       "15  . \"* aas_ manoa-to\\n/ . _ - . . awm)\\n\\nsala-1...    6339   \n",
       "16  - informação no? 332/76 - estudo sobre a fixaç...    2444   \n",
       "17   \\n\\n \\n\\n   \\n\\nwm\\n\"mg . .\\na\" rio âecreto\\n...    6152   \n",
       "18  /\\n\\n \\n\\n \\n\\n \\n\\na\\n\\n \\n\\n!\\n\\n \\n\\n  o:\"i...    1690   \n",
       "19   \\n\\nwma-03.40\\njg?\\n(é. /, () h\\n\\n confidenc...     409   \n",
       "\n",
       "                                          tokens  \\\n",
       "15  [rio, barragem, construcao, itaipu, energia]   \n",
       "16     [cota, itaipu, corpus, energia, operacao]   \n",
       "17  [rio, barragem, construcao, itaipu, energia]   \n",
       "18           [rio, corpus, iguacu, cota, parana]   \n",
       "19       [nivel, cota, itaipu, operacao, corpus]   \n",
       "\n",
       "                                                 name  \n",
       "15  [Antonio Azeredo da Silveira, Costa Cavalcanti...  \n",
       "16                                                 []  \n",
       "17  [Antonio Azeredo da Silveira, Costa Cavalcanti...  \n",
       "18                                                 []  \n",
       "19                                                 []  "
      ]
     },
     "execution_count": 229,
     "metadata": {},
     "output_type": "execute_result"
    }
   ],
   "source": [
    "topic_vis_dict['Itaipu plant: technical discussions'].tail()"
   ]
  },
  {
   "cell_type": "markdown",
   "metadata": {},
   "source": [
    "# pickle file"
   ]
  },
  {
   "cell_type": "code",
   "execution_count": 5,
   "metadata": {},
   "outputs": [],
   "source": [
    "topics_dict_file = '../outputs/topics_dict.pkl'"
   ]
  },
  {
   "cell_type": "markdown",
   "metadata": {},
   "source": [
    "pickle saved for general data already saved. To overwrite:\n",
    "```python\n",
    "pickle.dump(topic_vis_dict, open(topics_dict_file, 'wb'))\n",
    "```"
   ]
  },
  {
   "cell_type": "code",
   "execution_count": 6,
   "metadata": {},
   "outputs": [],
   "source": [
    "topic_vis_dict = pickle.load(open(topics_dict_file, 'rb'))"
   ]
  },
  {
   "cell_type": "markdown",
   "metadata": {},
   "source": [
    "# Visualization of metadata"
   ]
  },
  {
   "cell_type": "code",
   "execution_count": 19,
   "metadata": {},
   "outputs": [
    {
     "name": "stderr",
     "output_type": "stream",
     "text": [
      "D:\\Users\\Marcelo\\Anaconda3\\lib\\site-packages\\pandas\\core\\frame.py:6211: FutureWarning: Sorting because non-concatenation axis is not aligned. A future version\n",
      "of pandas will change to not sort by default.\n",
      "\n",
      "To accept the future behavior, pass 'sort=False'.\n",
      "\n",
      "To retain the current behavior and silence the warning, pass 'sort=True'.\n",
      "\n",
      "  sort=sort)\n"
     ]
    }
   ],
   "source": [
    "topics_metadata = pd.DataFrame(columns=['mean_score', 'mean_length'])\n",
    "count=0\n",
    "for key, df in topic_vis_dict.items():\n",
    "    score_mean = df['topic_score'].mean()\n",
    "    length_mean = df['length'].mean()\n",
    "    row = pd.DataFrame([[key, score_mean, length_mean]], columns=['key', 'mean_score', 'mean_length'], index=[count])\n",
    "    #row = pd.DataFrame([[score_mean, length_mean]], columns=['mean_score', 'mean_length'], index=[key])\n",
    "    topics_metadata = topics_metadata.append(row)\n",
    "    count+=1"
   ]
  },
  {
   "cell_type": "code",
   "execution_count": 20,
   "metadata": {},
   "outputs": [
    {
     "data": {
      "text/html": [
       "<div>\n",
       "<style scoped>\n",
       "    .dataframe tbody tr th:only-of-type {\n",
       "        vertical-align: middle;\n",
       "    }\n",
       "\n",
       "    .dataframe tbody tr th {\n",
       "        vertical-align: top;\n",
       "    }\n",
       "\n",
       "    .dataframe thead th {\n",
       "        text-align: right;\n",
       "    }\n",
       "</style>\n",
       "<table border=\"1\" class=\"dataframe\">\n",
       "  <thead>\n",
       "    <tr style=\"text-align: right;\">\n",
       "      <th></th>\n",
       "      <th>key</th>\n",
       "      <th>mean_length</th>\n",
       "      <th>mean_score</th>\n",
       "    </tr>\n",
       "  </thead>\n",
       "  <tbody>\n",
       "    <tr>\n",
       "      <th>0</th>\n",
       "      <td>International Cooperation for Development</td>\n",
       "      <td>750.70</td>\n",
       "      <td>0.520749</td>\n",
       "    </tr>\n",
       "    <tr>\n",
       "      <th>1</th>\n",
       "      <td>Geisel foreign policy: ideas and action</td>\n",
       "      <td>1490.25</td>\n",
       "      <td>0.371362</td>\n",
       "    </tr>\n",
       "    <tr>\n",
       "      <th>2</th>\n",
       "      <td>Brazilian government and private investment</td>\n",
       "      <td>412.45</td>\n",
       "      <td>0.458986</td>\n",
       "    </tr>\n",
       "    <tr>\n",
       "      <th>3</th>\n",
       "      <td>UN system</td>\n",
       "      <td>4872.10</td>\n",
       "      <td>0.463308</td>\n",
       "    </tr>\n",
       "    <tr>\n",
       "      <th>4</th>\n",
       "      <td>International Economic Relations of Brazil</td>\n",
       "      <td>2686.35</td>\n",
       "      <td>0.489968</td>\n",
       "    </tr>\n",
       "    <tr>\n",
       "      <th>5</th>\n",
       "      <td>United States of America</td>\n",
       "      <td>228.80</td>\n",
       "      <td>0.354077</td>\n",
       "    </tr>\n",
       "    <tr>\n",
       "      <th>6</th>\n",
       "      <td>Latin America and Caribbean</td>\n",
       "      <td>527.60</td>\n",
       "      <td>0.331226</td>\n",
       "    </tr>\n",
       "    <tr>\n",
       "      <th>7</th>\n",
       "      <td>Itaipu plant: technical discussions</td>\n",
       "      <td>2697.70</td>\n",
       "      <td>0.541888</td>\n",
       "    </tr>\n",
       "    <tr>\n",
       "      <th>8</th>\n",
       "      <td>Nuclear Brazil</td>\n",
       "      <td>3074.60</td>\n",
       "      <td>0.378028</td>\n",
       "    </tr>\n",
       "    <tr>\n",
       "      <th>9</th>\n",
       "      <td>Brazil, Africa and decolonization</td>\n",
       "      <td>2180.60</td>\n",
       "      <td>0.152870</td>\n",
       "    </tr>\n",
       "  </tbody>\n",
       "</table>\n",
       "</div>"
      ],
      "text/plain": [
       "                                           key  mean_length  mean_score\n",
       "0    International Cooperation for Development       750.70    0.520749\n",
       "1      Geisel foreign policy: ideas and action      1490.25    0.371362\n",
       "2  Brazilian government and private investment       412.45    0.458986\n",
       "3                                    UN system      4872.10    0.463308\n",
       "4   International Economic Relations of Brazil      2686.35    0.489968\n",
       "5                     United States of America       228.80    0.354077\n",
       "6                  Latin America and Caribbean       527.60    0.331226\n",
       "7          Itaipu plant: technical discussions      2697.70    0.541888\n",
       "8                               Nuclear Brazil      3074.60    0.378028\n",
       "9            Brazil, Africa and decolonization      2180.60    0.152870"
      ]
     },
     "execution_count": 20,
     "metadata": {},
     "output_type": "execute_result"
    }
   ],
   "source": [
    "topics_metadata"
   ]
  },
  {
   "cell_type": "code",
   "execution_count": 21,
   "metadata": {},
   "outputs": [],
   "source": [
    "topics_metadata = topics_metadata.transpose()\n",
    "#pd.DataFrame(topics_metadata)"
   ]
  },
  {
   "cell_type": "code",
   "execution_count": 22,
   "metadata": {},
   "outputs": [
    {
     "data": {
      "text/html": [
       "<div>\n",
       "<style scoped>\n",
       "    .dataframe tbody tr th:only-of-type {\n",
       "        vertical-align: middle;\n",
       "    }\n",
       "\n",
       "    .dataframe tbody tr th {\n",
       "        vertical-align: top;\n",
       "    }\n",
       "\n",
       "    .dataframe thead th {\n",
       "        text-align: right;\n",
       "    }\n",
       "</style>\n",
       "<table border=\"1\" class=\"dataframe\">\n",
       "  <thead>\n",
       "    <tr style=\"text-align: right;\">\n",
       "      <th></th>\n",
       "      <th>0</th>\n",
       "      <th>1</th>\n",
       "      <th>2</th>\n",
       "      <th>3</th>\n",
       "      <th>4</th>\n",
       "      <th>5</th>\n",
       "      <th>6</th>\n",
       "      <th>7</th>\n",
       "      <th>8</th>\n",
       "      <th>9</th>\n",
       "    </tr>\n",
       "  </thead>\n",
       "  <tbody>\n",
       "    <tr>\n",
       "      <th>key</th>\n",
       "      <td>International Cooperation for Development</td>\n",
       "      <td>Geisel foreign policy: ideas and action</td>\n",
       "      <td>Brazilian government and private investment</td>\n",
       "      <td>UN system</td>\n",
       "      <td>International Economic Relations of Brazil</td>\n",
       "      <td>United States of America</td>\n",
       "      <td>Latin America and Caribbean</td>\n",
       "      <td>Itaipu plant: technical discussions</td>\n",
       "      <td>Nuclear Brazil</td>\n",
       "      <td>Brazil, Africa and decolonization</td>\n",
       "    </tr>\n",
       "    <tr>\n",
       "      <th>mean_length</th>\n",
       "      <td>750.7</td>\n",
       "      <td>1490.25</td>\n",
       "      <td>412.45</td>\n",
       "      <td>4872.1</td>\n",
       "      <td>2686.35</td>\n",
       "      <td>228.8</td>\n",
       "      <td>527.6</td>\n",
       "      <td>2697.7</td>\n",
       "      <td>3074.6</td>\n",
       "      <td>2180.6</td>\n",
       "    </tr>\n",
       "    <tr>\n",
       "      <th>mean_score</th>\n",
       "      <td>0.520749</td>\n",
       "      <td>0.371362</td>\n",
       "      <td>0.458986</td>\n",
       "      <td>0.463308</td>\n",
       "      <td>0.489968</td>\n",
       "      <td>0.354077</td>\n",
       "      <td>0.331226</td>\n",
       "      <td>0.541888</td>\n",
       "      <td>0.378028</td>\n",
       "      <td>0.15287</td>\n",
       "    </tr>\n",
       "  </tbody>\n",
       "</table>\n",
       "</div>"
      ],
      "text/plain": [
       "                                                     0  \\\n",
       "key          International Cooperation for Development   \n",
       "mean_length                                      750.7   \n",
       "mean_score                                    0.520749   \n",
       "\n",
       "                                                   1  \\\n",
       "key          Geisel foreign policy: ideas and action   \n",
       "mean_length                                  1490.25   \n",
       "mean_score                                  0.371362   \n",
       "\n",
       "                                                       2          3  \\\n",
       "key          Brazilian government and private investment  UN system   \n",
       "mean_length                                       412.45     4872.1   \n",
       "mean_score                                      0.458986   0.463308   \n",
       "\n",
       "                                                      4  \\\n",
       "key          International Economic Relations of Brazil   \n",
       "mean_length                                     2686.35   \n",
       "mean_score                                     0.489968   \n",
       "\n",
       "                                    5                            6  \\\n",
       "key          United States of America  Latin America and Caribbean   \n",
       "mean_length                     228.8                        527.6   \n",
       "mean_score                   0.354077                     0.331226   \n",
       "\n",
       "                                               7               8  \\\n",
       "key          Itaipu plant: technical discussions  Nuclear Brazil   \n",
       "mean_length                               2697.7          3074.6   \n",
       "mean_score                              0.541888        0.378028   \n",
       "\n",
       "                                             9  \n",
       "key          Brazil, Africa and decolonization  \n",
       "mean_length                             2180.6  \n",
       "mean_score                             0.15287  "
      ]
     },
     "execution_count": 22,
     "metadata": {},
     "output_type": "execute_result"
    }
   ],
   "source": [
    "topics_metadata"
   ]
  },
  {
   "cell_type": "code",
   "execution_count": 23,
   "metadata": {},
   "outputs": [],
   "source": [
    "topics_metadata_json = topics_metadata.to_json(orient='columns')"
   ]
  },
  {
   "cell_type": "code",
   "execution_count": 24,
   "metadata": {},
   "outputs": [
    {
     "data": {
      "text/plain": [
       "'{\"0\":{\"key\":\"International Cooperation for Development\",\"mean_length\":750.7,\"mean_score\":0.52074945},\"1\":{\"key\":\"Geisel foreign policy: ideas and action\",\"mean_length\":1490.25,\"mean_score\":0.3713615},\"2\":{\"key\":\"Brazilian government and private investment\",\"mean_length\":412.45,\"mean_score\":0.4589863},\"3\":{\"key\":\"UN system\",\"mean_length\":4872.1,\"mean_score\":0.4633078},\"4\":{\"key\":\"International Economic Relations of Brazil\",\"mean_length\":2686.35,\"mean_score\":0.48996795},\"5\":{\"key\":\"United States of America\",\"mean_length\":228.8,\"mean_score\":0.3540775},\"6\":{\"key\":\"Latin America and Caribbean\",\"mean_length\":527.6,\"mean_score\":0.331226},\"7\":{\"key\":\"Itaipu plant: technical discussions\",\"mean_length\":2697.7,\"mean_score\":0.5418882},\"8\":{\"key\":\"Nuclear Brazil\",\"mean_length\":3074.6,\"mean_score\":0.3780281},\"9\":{\"key\":\"Brazil, Africa and decolonization\",\"mean_length\":2180.6,\"mean_score\":0.1528704}}'"
      ]
     },
     "execution_count": 24,
     "metadata": {},
     "output_type": "execute_result"
    }
   ],
   "source": [
    "topics_metadata_json"
   ]
  },
  {
   "cell_type": "code",
   "execution_count": null,
   "metadata": {},
   "outputs": [],
   "source": [
    "json.dump(topics_metadata_json, open('topics_metadata.json', 'w'))"
   ]
  },
  {
   "cell_type": "markdown",
   "metadata": {},
   "source": [
    "# Visualization of a specific topic"
   ]
  },
  {
   "cell_type": "markdown",
   "metadata": {},
   "source": [
    "list split  in pandas: https://mikulskibartosz.name/how-to-split-a-list-inside-a-dataframe-cell-into-rows-in-pandas-9849d8ff2401"
   ]
  },
  {
   "cell_type": "code",
   "execution_count": 7,
   "metadata": {},
   "outputs": [
    {
     "data": {
      "text/html": [
       "<div>\n",
       "<style scoped>\n",
       "    .dataframe tbody tr th:only-of-type {\n",
       "        vertical-align: middle;\n",
       "    }\n",
       "\n",
       "    .dataframe tbody tr th {\n",
       "        vertical-align: top;\n",
       "    }\n",
       "\n",
       "    .dataframe thead th {\n",
       "        text-align: right;\n",
       "    }\n",
       "</style>\n",
       "<table border=\"1\" class=\"dataframe\">\n",
       "  <thead>\n",
       "    <tr style=\"text-align: right;\">\n",
       "      <th></th>\n",
       "      <th>doc_id</th>\n",
       "      <th>topic_id</th>\n",
       "      <th>topic_score</th>\n",
       "      <th>body</th>\n",
       "      <th>length</th>\n",
       "      <th>tokens</th>\n",
       "      <th>name</th>\n",
       "      <th>doc</th>\n",
       "      <th>pdf</th>\n",
       "    </tr>\n",
       "  </thead>\n",
       "  <tbody>\n",
       "    <tr>\n",
       "      <th>15</th>\n",
       "      <td>pn_1974.08.15_doc_III-31</td>\n",
       "      <td>5007</td>\n",
       "      <td>0.303900</td>\n",
       "      <td>secreto-excâusãvo\\n\\nsubsídios para as consult...</td>\n",
       "      <td>4549</td>\n",
       "      <td>[brasil, armas, nuclear, acordo, nucleares]</td>\n",
       "      <td>[James Earl (Jimmy) Carter, Helmut Schmidt, Cy...</td>\n",
       "      <td>doc_III-31</td>\n",
       "      <td>http://www.fgv.br/cpdoc/acervo/arquivo-pessoal...</td>\n",
       "    </tr>\n",
       "    <tr>\n",
       "      <th>16</th>\n",
       "      <td>pn_1976.12.28_doc_29</td>\n",
       "      <td>5007</td>\n",
       "      <td>0.300885</td>\n",
       "      <td>telegrama recebido '\\n\\naaaa [97034 . é?\\no\" '...</td>\n",
       "      <td>845</td>\n",
       "      <td>[brasil, armas, acordo, tratado, uranio]</td>\n",
       "      <td>[James Earl (Jimmy) Carter]</td>\n",
       "      <td>doc_29</td>\n",
       "      <td>http://www.fgv.br/cpdoc/acervo/arquivo-pessoal...</td>\n",
       "    </tr>\n",
       "    <tr>\n",
       "      <th>17</th>\n",
       "      <td>pn_1974.08.15_doc_II-1</td>\n",
       "      <td>5007</td>\n",
       "      <td>0.290109</td>\n",
       "      <td>\\n\\nmmm\\n\\n\"a. . .. , . ..\\n\\n' o acordo nucl...</td>\n",
       "      <td>1672</td>\n",
       "      <td>[nuclear, brasil, fins, energia, acordo]</td>\n",
       "      <td>[James Earl (Jimmy) Carter]</td>\n",
       "      <td>doc_II-1</td>\n",
       "      <td>http://www.fgv.br/cpdoc/acervo/arquivo-pessoal...</td>\n",
       "    </tr>\n",
       "    <tr>\n",
       "      <th>18</th>\n",
       "      <td>pn_1976.12.28_doc_16</td>\n",
       "      <td>5007</td>\n",
       "      <td>0.286767</td>\n",
       "      <td>antonio la'. aiii-1315230 da sxmrâxm\\njáwówa i...</td>\n",
       "      <td>330</td>\n",
       "      <td>[brasil, combustivel, aiea, acordo, salvaguardas]</td>\n",
       "      <td>[Antonio Azeredo da Silveira]</td>\n",
       "      <td>doc_16</td>\n",
       "      <td>http://www.fgv.br/cpdoc/acervo/arquivo-pessoal...</td>\n",
       "    </tr>\n",
       "    <tr>\n",
       "      <th>19</th>\n",
       "      <td>d_1974.04.23_doc_XXI-12</td>\n",
       "      <td>5007</td>\n",
       "      <td>0.285340</td>\n",
       "      <td>\\n\\n \\n\\nlembrete n? 011\\n\\npolítica nuclear ...</td>\n",
       "      <td>1590</td>\n",
       "      <td>[nuclear, brasil, fins, acordo, energia]</td>\n",
       "      <td>[James Earl (Jimmy) Carter]</td>\n",
       "      <td>doc_XXI-12</td>\n",
       "      <td>http://www.fgv.br/cpdoc/acervo/arquivo-pessoal...</td>\n",
       "    </tr>\n",
       "  </tbody>\n",
       "</table>\n",
       "</div>"
      ],
      "text/plain": [
       "                      doc_id  topic_id  topic_score  \\\n",
       "15  pn_1974.08.15_doc_III-31      5007     0.303900   \n",
       "16      pn_1976.12.28_doc_29      5007     0.300885   \n",
       "17    pn_1974.08.15_doc_II-1      5007     0.290109   \n",
       "18      pn_1976.12.28_doc_16      5007     0.286767   \n",
       "19   d_1974.04.23_doc_XXI-12      5007     0.285340   \n",
       "\n",
       "                                                 body  length  \\\n",
       "15  secreto-excâusãvo\\n\\nsubsídios para as consult...    4549   \n",
       "16  telegrama recebido '\\n\\naaaa [97034 . é?\\no\" '...     845   \n",
       "17   \\n\\nmmm\\n\\n\"a. . .. , . ..\\n\\n' o acordo nucl...    1672   \n",
       "18  antonio la'. aiii-1315230 da sxmrâxm\\njáwówa i...     330   \n",
       "19   \\n\\n \\n\\nlembrete n? 011\\n\\npolítica nuclear ...    1590   \n",
       "\n",
       "                                               tokens  \\\n",
       "15        [brasil, armas, nuclear, acordo, nucleares]   \n",
       "16           [brasil, armas, acordo, tratado, uranio]   \n",
       "17           [nuclear, brasil, fins, energia, acordo]   \n",
       "18  [brasil, combustivel, aiea, acordo, salvaguardas]   \n",
       "19           [nuclear, brasil, fins, acordo, energia]   \n",
       "\n",
       "                                                 name         doc  \\\n",
       "15  [James Earl (Jimmy) Carter, Helmut Schmidt, Cy...  doc_III-31   \n",
       "16                        [James Earl (Jimmy) Carter]      doc_29   \n",
       "17                        [James Earl (Jimmy) Carter]    doc_II-1   \n",
       "18                      [Antonio Azeredo da Silveira]      doc_16   \n",
       "19                        [James Earl (Jimmy) Carter]  doc_XXI-12   \n",
       "\n",
       "                                                  pdf  \n",
       "15  http://www.fgv.br/cpdoc/acervo/arquivo-pessoal...  \n",
       "16  http://www.fgv.br/cpdoc/acervo/arquivo-pessoal...  \n",
       "17  http://www.fgv.br/cpdoc/acervo/arquivo-pessoal...  \n",
       "18  http://www.fgv.br/cpdoc/acervo/arquivo-pessoal...  \n",
       "19  http://www.fgv.br/cpdoc/acervo/arquivo-pessoal...  "
      ]
     },
     "execution_count": 7,
     "metadata": {},
     "output_type": "execute_result"
    }
   ],
   "source": [
    "nuclear_brazil_df = topic_vis_dict['Nuclear Brazil']\n",
    "nuclear_brazil_df['doc'] = nuclear_brazil_df['doc_id'].apply(lambda text: re.sub('.*(doc.*)', r'\\1', text))\n",
    "cols = nuclear_brazil_df.columns.tolist()\n",
    "cols = cols[:3] + cols[4:] + cols[3:4]\n",
    "nuclear_brazil_df = nuclear_brazil_df[cols]\n",
    "nuclear_brazil_df.tail()"
   ]
  },
  {
   "cell_type": "markdown",
   "metadata": {},
   "source": [
    "format 1"
   ]
  },
  {
   "cell_type": "raw",
   "metadata": {},
   "source": [
    "#if you want to build a non relational data. This code repeats doc_id to correspond to multiple names\n",
    "topic1 = nuclear_brazil_df.name_count.apply(pd.Series) \\\n",
    "    .replace(';.*', '', regex=True) \\ # if used ';' to quantify name occurrence\n",
    "    .merge(nuclear_brazil_df, left_index = True, right_index = True) \\\n",
    "    .drop([\"name_count\", \"body\", \"tokens\", \"topic_id\"], axis = 1) \\\n",
    "    .melt(id_vars = ['doc_id', 'topic_score', 'length'], value_name = \"name\") \\\n",
    "    .drop(\"variable\", axis = 1) \\\n",
    "    .dropna()\n",
    "topic1.tail()"
   ]
  },
  {
   "cell_type": "markdown",
   "metadata": {},
   "source": [
    "format 2"
   ]
  },
  {
   "cell_type": "raw",
   "metadata": {},
   "source": [
    "topic1 = nuclear_brazil_df.drop([\"topic_id\", \"body\"], axis=1) \\\n",
    "    .set_index('doc_id')"
   ]
  },
  {
   "cell_type": "raw",
   "metadata": {},
   "source": [
    "topic1 = topic1.transpose()"
   ]
  },
  {
   "cell_type": "raw",
   "metadata": {},
   "source": [
    "topic1"
   ]
  },
  {
   "cell_type": "markdown",
   "metadata": {},
   "source": [
    "format 3"
   ]
  },
  {
   "cell_type": "code",
   "execution_count": 8,
   "metadata": {},
   "outputs": [
    {
     "data": {
      "text/html": [
       "<div>\n",
       "<style scoped>\n",
       "    .dataframe tbody tr th:only-of-type {\n",
       "        vertical-align: middle;\n",
       "    }\n",
       "\n",
       "    .dataframe tbody tr th {\n",
       "        vertical-align: top;\n",
       "    }\n",
       "\n",
       "    .dataframe thead th {\n",
       "        text-align: right;\n",
       "    }\n",
       "</style>\n",
       "<table border=\"1\" class=\"dataframe\">\n",
       "  <thead>\n",
       "    <tr style=\"text-align: right;\">\n",
       "      <th></th>\n",
       "      <th>0</th>\n",
       "      <th>1</th>\n",
       "      <th>2</th>\n",
       "      <th>3</th>\n",
       "      <th>4</th>\n",
       "      <th>5</th>\n",
       "      <th>6</th>\n",
       "      <th>7</th>\n",
       "      <th>8</th>\n",
       "      <th>9</th>\n",
       "      <th>10</th>\n",
       "      <th>11</th>\n",
       "      <th>12</th>\n",
       "      <th>13</th>\n",
       "      <th>14</th>\n",
       "      <th>15</th>\n",
       "      <th>16</th>\n",
       "      <th>17</th>\n",
       "      <th>18</th>\n",
       "      <th>19</th>\n",
       "    </tr>\n",
       "  </thead>\n",
       "  <tbody>\n",
       "    <tr>\n",
       "      <th>length</th>\n",
       "      <td>7465</td>\n",
       "      <td>3766</td>\n",
       "      <td>1915</td>\n",
       "      <td>3909</td>\n",
       "      <td>4839</td>\n",
       "      <td>1047</td>\n",
       "      <td>1090</td>\n",
       "      <td>10688</td>\n",
       "      <td>9392</td>\n",
       "      <td>384</td>\n",
       "      <td>6106</td>\n",
       "      <td>286</td>\n",
       "      <td>210</td>\n",
       "      <td>1158</td>\n",
       "      <td>251</td>\n",
       "      <td>4549</td>\n",
       "      <td>845</td>\n",
       "      <td>1672</td>\n",
       "      <td>330</td>\n",
       "      <td>1590</td>\n",
       "    </tr>\n",
       "    <tr>\n",
       "      <th>tokens</th>\n",
       "      <td>[armas, nucleares, nuclear, brasil, tratado]</td>\n",
       "      <td>[brasil, armas, nucleares, nuclear, energia]</td>\n",
       "      <td>[armas, tratado, brasil, nucleares, nuclear]</td>\n",
       "      <td>[brasil, nuclear, nucleares, energia, armas]</td>\n",
       "      <td>[nuclear, brasil, armas, nucleares, energia]</td>\n",
       "      <td>[armas, nucleares, brasil, proliferacao, tratado]</td>\n",
       "      <td>[armas, tratado, brasil, salvaguardas, nucleares]</td>\n",
       "      <td>[nuclear, armas, brasil, nucleares, acordo]</td>\n",
       "      <td>[nuclear, brasil, armas, nucleares, energia]</td>\n",
       "      <td>[armas, brasil, nucleares, tecnologia, fins]</td>\n",
       "      <td>[nuclear, armas, brasil, nucleares, tratado]</td>\n",
       "      <td>[nuclear, tecnologia, brasil, alemanha, prolif...</td>\n",
       "      <td>[tecnologia, programa, cooperacao, uranio, com...</td>\n",
       "      <td>[brasil, nuclear, energia, fins, tecnologia]</td>\n",
       "      <td>[nucleares, tratado, armas, nuclear]</td>\n",
       "      <td>[brasil, armas, nuclear, acordo, nucleares]</td>\n",
       "      <td>[brasil, armas, acordo, tratado, uranio]</td>\n",
       "      <td>[nuclear, brasil, fins, energia, acordo]</td>\n",
       "      <td>[brasil, combustivel, aiea, acordo, salvaguardas]</td>\n",
       "      <td>[nuclear, brasil, fins, acordo, energia]</td>\n",
       "    </tr>\n",
       "    <tr>\n",
       "      <th>name</th>\n",
       "      <td>[]</td>\n",
       "      <td>[]</td>\n",
       "      <td>[]</td>\n",
       "      <td>[]</td>\n",
       "      <td>[]</td>\n",
       "      <td>[]</td>\n",
       "      <td>[]</td>\n",
       "      <td>[James Earl (Jimmy) Carter, John Hugh Crimmins]</td>\n",
       "      <td>[]</td>\n",
       "      <td>[]</td>\n",
       "      <td>[]</td>\n",
       "      <td>[James Earl (Jimmy) Carter]</td>\n",
       "      <td>[]</td>\n",
       "      <td>[Antonio Azeredo da Silveira]</td>\n",
       "      <td>[]</td>\n",
       "      <td>[James Earl (Jimmy) Carter, Helmut Schmidt, Cy...</td>\n",
       "      <td>[James Earl (Jimmy) Carter]</td>\n",
       "      <td>[James Earl (Jimmy) Carter]</td>\n",
       "      <td>[Antonio Azeredo da Silveira]</td>\n",
       "      <td>[James Earl (Jimmy) Carter]</td>\n",
       "    </tr>\n",
       "    <tr>\n",
       "      <th>doc</th>\n",
       "      <td>doc_4</td>\n",
       "      <td>doc_5</td>\n",
       "      <td>doc_II-11</td>\n",
       "      <td>doc_6</td>\n",
       "      <td>doc_II-1</td>\n",
       "      <td>doc_II-27</td>\n",
       "      <td>doc_II-8</td>\n",
       "      <td>doc_XXIII-31</td>\n",
       "      <td>doc_8</td>\n",
       "      <td>doc_II-22</td>\n",
       "      <td>doc_7</td>\n",
       "      <td>doc_I-23</td>\n",
       "      <td>doc_II-2</td>\n",
       "      <td>doc_XXII-25</td>\n",
       "      <td>doc_6</td>\n",
       "      <td>doc_III-31</td>\n",
       "      <td>doc_29</td>\n",
       "      <td>doc_II-1</td>\n",
       "      <td>doc_16</td>\n",
       "      <td>doc_XXI-12</td>\n",
       "    </tr>\n",
       "    <tr>\n",
       "      <th>url</th>\n",
       "      <td>http://www.fgv.br/cpdoc/acervo/arquivo-pessoal...</td>\n",
       "      <td>http://www.fgv.br/cpdoc/acervo/arquivo-pessoal...</td>\n",
       "      <td>http://www.fgv.br/cpdoc/acervo/arquivo-pessoal...</td>\n",
       "      <td>http://www.fgv.br/cpdoc/acervo/arquivo-pessoal...</td>\n",
       "      <td>http://www.fgv.br/cpdoc/acervo/arquivo-pessoal...</td>\n",
       "      <td>http://www.fgv.br/cpdoc/acervo/arquivo-pessoal...</td>\n",
       "      <td>http://www.fgv.br/cpdoc/acervo/arquivo-pessoal...</td>\n",
       "      <td>http://www.fgv.br/cpdoc/acervo/arquivo-pessoal...</td>\n",
       "      <td>http://www.fgv.br/cpdoc/acervo/arquivo-pessoal...</td>\n",
       "      <td>http://www.fgv.br/cpdoc/acervo/arquivo-pessoal...</td>\n",
       "      <td>http://www.fgv.br/cpdoc/acervo/arquivo-pessoal...</td>\n",
       "      <td>http://www.fgv.br/cpdoc/acervo/arquivo-pessoal...</td>\n",
       "      <td>http://www.fgv.br/cpdoc/acervo/arquivo-pessoal...</td>\n",
       "      <td>http://www.fgv.br/cpdoc/acervo/arquivo-pessoal...</td>\n",
       "      <td>http://www.fgv.br/cpdoc/acervo/arquivo-pessoal...</td>\n",
       "      <td>http://www.fgv.br/cpdoc/acervo/arquivo-pessoal...</td>\n",
       "      <td>http://www.fgv.br/cpdoc/acervo/arquivo-pessoal...</td>\n",
       "      <td>http://www.fgv.br/cpdoc/acervo/arquivo-pessoal...</td>\n",
       "      <td>http://www.fgv.br/cpdoc/acervo/arquivo-pessoal...</td>\n",
       "      <td>http://www.fgv.br/cpdoc/acervo/arquivo-pessoal...</td>\n",
       "    </tr>\n",
       "  </tbody>\n",
       "</table>\n",
       "</div>"
      ],
      "text/plain": [
       "                                                       0   \\\n",
       "length                                               7465   \n",
       "tokens       [armas, nucleares, nuclear, brasil, tratado]   \n",
       "name                                                   []   \n",
       "doc                                                 doc_4   \n",
       "url     http://www.fgv.br/cpdoc/acervo/arquivo-pessoal...   \n",
       "\n",
       "                                                       1   \\\n",
       "length                                               3766   \n",
       "tokens       [brasil, armas, nucleares, nuclear, energia]   \n",
       "name                                                   []   \n",
       "doc                                                 doc_5   \n",
       "url     http://www.fgv.br/cpdoc/acervo/arquivo-pessoal...   \n",
       "\n",
       "                                                       2   \\\n",
       "length                                               1915   \n",
       "tokens       [armas, tratado, brasil, nucleares, nuclear]   \n",
       "name                                                   []   \n",
       "doc                                             doc_II-11   \n",
       "url     http://www.fgv.br/cpdoc/acervo/arquivo-pessoal...   \n",
       "\n",
       "                                                       3   \\\n",
       "length                                               3909   \n",
       "tokens       [brasil, nuclear, nucleares, energia, armas]   \n",
       "name                                                   []   \n",
       "doc                                                 doc_6   \n",
       "url     http://www.fgv.br/cpdoc/acervo/arquivo-pessoal...   \n",
       "\n",
       "                                                       4   \\\n",
       "length                                               4839   \n",
       "tokens       [nuclear, brasil, armas, nucleares, energia]   \n",
       "name                                                   []   \n",
       "doc                                              doc_II-1   \n",
       "url     http://www.fgv.br/cpdoc/acervo/arquivo-pessoal...   \n",
       "\n",
       "                                                       5   \\\n",
       "length                                               1047   \n",
       "tokens  [armas, nucleares, brasil, proliferacao, tratado]   \n",
       "name                                                   []   \n",
       "doc                                             doc_II-27   \n",
       "url     http://www.fgv.br/cpdoc/acervo/arquivo-pessoal...   \n",
       "\n",
       "                                                       6   \\\n",
       "length                                               1090   \n",
       "tokens  [armas, tratado, brasil, salvaguardas, nucleares]   \n",
       "name                                                   []   \n",
       "doc                                              doc_II-8   \n",
       "url     http://www.fgv.br/cpdoc/acervo/arquivo-pessoal...   \n",
       "\n",
       "                                                       7   \\\n",
       "length                                              10688   \n",
       "tokens        [nuclear, armas, brasil, nucleares, acordo]   \n",
       "name      [James Earl (Jimmy) Carter, John Hugh Crimmins]   \n",
       "doc                                          doc_XXIII-31   \n",
       "url     http://www.fgv.br/cpdoc/acervo/arquivo-pessoal...   \n",
       "\n",
       "                                                       8   \\\n",
       "length                                               9392   \n",
       "tokens       [nuclear, brasil, armas, nucleares, energia]   \n",
       "name                                                   []   \n",
       "doc                                                 doc_8   \n",
       "url     http://www.fgv.br/cpdoc/acervo/arquivo-pessoal...   \n",
       "\n",
       "                                                       9   \\\n",
       "length                                                384   \n",
       "tokens       [armas, brasil, nucleares, tecnologia, fins]   \n",
       "name                                                   []   \n",
       "doc                                             doc_II-22   \n",
       "url     http://www.fgv.br/cpdoc/acervo/arquivo-pessoal...   \n",
       "\n",
       "                                                       10  \\\n",
       "length                                               6106   \n",
       "tokens       [nuclear, armas, brasil, nucleares, tratado]   \n",
       "name                                                   []   \n",
       "doc                                                 doc_7   \n",
       "url     http://www.fgv.br/cpdoc/acervo/arquivo-pessoal...   \n",
       "\n",
       "                                                       11  \\\n",
       "length                                                286   \n",
       "tokens  [nuclear, tecnologia, brasil, alemanha, prolif...   \n",
       "name                          [James Earl (Jimmy) Carter]   \n",
       "doc                                              doc_I-23   \n",
       "url     http://www.fgv.br/cpdoc/acervo/arquivo-pessoal...   \n",
       "\n",
       "                                                       12  \\\n",
       "length                                                210   \n",
       "tokens  [tecnologia, programa, cooperacao, uranio, com...   \n",
       "name                                                   []   \n",
       "doc                                              doc_II-2   \n",
       "url     http://www.fgv.br/cpdoc/acervo/arquivo-pessoal...   \n",
       "\n",
       "                                                       13  \\\n",
       "length                                               1158   \n",
       "tokens       [brasil, nuclear, energia, fins, tecnologia]   \n",
       "name                        [Antonio Azeredo da Silveira]   \n",
       "doc                                           doc_XXII-25   \n",
       "url     http://www.fgv.br/cpdoc/acervo/arquivo-pessoal...   \n",
       "\n",
       "                                                       14  \\\n",
       "length                                                251   \n",
       "tokens               [nucleares, tratado, armas, nuclear]   \n",
       "name                                                   []   \n",
       "doc                                                 doc_6   \n",
       "url     http://www.fgv.br/cpdoc/acervo/arquivo-pessoal...   \n",
       "\n",
       "                                                       15  \\\n",
       "length                                               4549   \n",
       "tokens        [brasil, armas, nuclear, acordo, nucleares]   \n",
       "name    [James Earl (Jimmy) Carter, Helmut Schmidt, Cy...   \n",
       "doc                                            doc_III-31   \n",
       "url     http://www.fgv.br/cpdoc/acervo/arquivo-pessoal...   \n",
       "\n",
       "                                                       16  \\\n",
       "length                                                845   \n",
       "tokens           [brasil, armas, acordo, tratado, uranio]   \n",
       "name                          [James Earl (Jimmy) Carter]   \n",
       "doc                                                doc_29   \n",
       "url     http://www.fgv.br/cpdoc/acervo/arquivo-pessoal...   \n",
       "\n",
       "                                                       17  \\\n",
       "length                                               1672   \n",
       "tokens           [nuclear, brasil, fins, energia, acordo]   \n",
       "name                          [James Earl (Jimmy) Carter]   \n",
       "doc                                              doc_II-1   \n",
       "url     http://www.fgv.br/cpdoc/acervo/arquivo-pessoal...   \n",
       "\n",
       "                                                       18  \\\n",
       "length                                                330   \n",
       "tokens  [brasil, combustivel, aiea, acordo, salvaguardas]   \n",
       "name                        [Antonio Azeredo da Silveira]   \n",
       "doc                                                doc_16   \n",
       "url     http://www.fgv.br/cpdoc/acervo/arquivo-pessoal...   \n",
       "\n",
       "                                                       19  \n",
       "length                                               1590  \n",
       "tokens           [nuclear, brasil, fins, acordo, energia]  \n",
       "name                          [James Earl (Jimmy) Carter]  \n",
       "doc                                            doc_XXI-12  \n",
       "url     http://www.fgv.br/cpdoc/acervo/arquivo-pessoal...  "
      ]
     },
     "execution_count": 8,
     "metadata": {},
     "output_type": "execute_result"
    }
   ],
   "source": [
    "topic1 = nuclear_brazil_df \\\n",
    "    .drop([\"body\", \"topic_id\"], axis = 1) \\\n",
    "    .rename(columns={\"pdf\": \"url\"})\n",
    "topic1 = topic1.transpose()\n",
    "topic1.tail()"
   ]
  },
  {
   "cell_type": "markdown",
   "metadata": {},
   "source": [
    "### save json file"
   ]
  },
  {
   "cell_type": "code",
   "execution_count": 9,
   "metadata": {},
   "outputs": [
    {
     "data": {
      "text/plain": [
       "{'doc_id': 'pn_1975.04.25_doc_4',\n",
       " 'topic_score': 0.545832,\n",
       " 'length': 7465,\n",
       " 'tokens': ['armas', 'nucleares', 'nuclear', 'brasil', 'tratado'],\n",
       " 'name': [],\n",
       " 'doc': 'doc_4',\n",
       " 'url': 'http://www.fgv.br/cpdoc/acervo/arquivo-pessoal/AAS/textual/documentos-referentes-ao-programa-nuclear-brasileiro-durante-a-gestao-de-azeredo-da-silveira-como-ministro-das-relacoes-exteriores-tratando-de-div'}"
      ]
     },
     "execution_count": 9,
     "metadata": {},
     "output_type": "execute_result"
    }
   ],
   "source": [
    "topic1_json = topic1.to_json(orient='columns')\n",
    "topic1_json = re.sub('\"\\d+\":', '', topic1_json)\n",
    "topic1_json = re.sub(\"^{\", \"[\", topic1_json)\n",
    "topic1_json = re.sub(\"}$\", \"]\", topic1_json)\n",
    "topic1_json = json.loads(topic1_json)\n",
    "topic1_json[0]"
   ]
  },
  {
   "cell_type": "code",
   "execution_count": 10,
   "metadata": {},
   "outputs": [],
   "source": [
    "file_path = outputs+'topic1.json'\n",
    "json.dump(topic1_json, open(file_path, 'w'))"
   ]
  },
  {
   "cell_type": "markdown",
   "metadata": {},
   "source": [
    "# Source-target on docs and persons"
   ]
  },
  {
   "cell_type": "code",
   "execution_count": 5,
   "metadata": {},
   "outputs": [
    {
     "data": {
      "text/html": [
       "<div>\n",
       "<style scoped>\n",
       "    .dataframe tbody tr th:only-of-type {\n",
       "        vertical-align: middle;\n",
       "    }\n",
       "\n",
       "    .dataframe tbody tr th {\n",
       "        vertical-align: top;\n",
       "    }\n",
       "\n",
       "    .dataframe thead th {\n",
       "        text-align: right;\n",
       "    }\n",
       "</style>\n",
       "<table border=\"1\" class=\"dataframe\">\n",
       "  <thead>\n",
       "    <tr style=\"text-align: right;\">\n",
       "      <th></th>\n",
       "      <th>doc_id</th>\n",
       "      <th>topic_id</th>\n",
       "      <th>topic_score</th>\n",
       "      <th>pdf</th>\n",
       "      <th>body</th>\n",
       "      <th>length</th>\n",
       "      <th>tokens</th>\n",
       "      <th>name</th>\n",
       "    </tr>\n",
       "  </thead>\n",
       "  <tbody>\n",
       "    <tr>\n",
       "      <th>15</th>\n",
       "      <td>pn_1974.08.15_doc_III-31</td>\n",
       "      <td>5007</td>\n",
       "      <td>0.303900</td>\n",
       "      <td>http://www.fgv.br/cpdoc/acervo/arquivo-pessoal...</td>\n",
       "      <td>secreto-excâusãvo\\n\\nsubsídios para as consult...</td>\n",
       "      <td>4549</td>\n",
       "      <td>[brasil, armas, nuclear, acordo, nucleares]</td>\n",
       "      <td>[James Earl (Jimmy) Carter, Helmut Schmidt, Cy...</td>\n",
       "    </tr>\n",
       "    <tr>\n",
       "      <th>16</th>\n",
       "      <td>pn_1976.12.28_doc_29</td>\n",
       "      <td>5007</td>\n",
       "      <td>0.300885</td>\n",
       "      <td>http://www.fgv.br/cpdoc/acervo/arquivo-pessoal...</td>\n",
       "      <td>telegrama recebido '\\n\\naaaa [97034 . é?\\no\" '...</td>\n",
       "      <td>845</td>\n",
       "      <td>[brasil, armas, acordo, tratado, uranio]</td>\n",
       "      <td>[James Earl (Jimmy) Carter]</td>\n",
       "    </tr>\n",
       "    <tr>\n",
       "      <th>17</th>\n",
       "      <td>pn_1974.08.15_doc_II-1</td>\n",
       "      <td>5007</td>\n",
       "      <td>0.290109</td>\n",
       "      <td>http://www.fgv.br/cpdoc/acervo/arquivo-pessoal...</td>\n",
       "      <td>\\n\\nmmm\\n\\n\"a. . .. , . ..\\n\\n' o acordo nucl...</td>\n",
       "      <td>1672</td>\n",
       "      <td>[nuclear, brasil, fins, energia, acordo]</td>\n",
       "      <td>[James Earl (Jimmy) Carter]</td>\n",
       "    </tr>\n",
       "    <tr>\n",
       "      <th>18</th>\n",
       "      <td>pn_1976.12.28_doc_16</td>\n",
       "      <td>5007</td>\n",
       "      <td>0.286767</td>\n",
       "      <td>http://www.fgv.br/cpdoc/acervo/arquivo-pessoal...</td>\n",
       "      <td>antonio la'. aiii-1315230 da sxmrâxm\\njáwówa i...</td>\n",
       "      <td>330</td>\n",
       "      <td>[brasil, combustivel, aiea, acordo, salvaguardas]</td>\n",
       "      <td>[Antonio Azeredo da Silveira]</td>\n",
       "    </tr>\n",
       "    <tr>\n",
       "      <th>19</th>\n",
       "      <td>d_1974.04.23_doc_XXI-12</td>\n",
       "      <td>5007</td>\n",
       "      <td>0.285340</td>\n",
       "      <td>http://www.fgv.br/cpdoc/acervo/arquivo-pessoal...</td>\n",
       "      <td>\\n\\n \\n\\nlembrete n? 011\\n\\npolítica nuclear ...</td>\n",
       "      <td>1590</td>\n",
       "      <td>[nuclear, brasil, fins, acordo, energia]</td>\n",
       "      <td>[James Earl (Jimmy) Carter]</td>\n",
       "    </tr>\n",
       "  </tbody>\n",
       "</table>\n",
       "</div>"
      ],
      "text/plain": [
       "                      doc_id  topic_id  topic_score  \\\n",
       "15  pn_1974.08.15_doc_III-31      5007     0.303900   \n",
       "16      pn_1976.12.28_doc_29      5007     0.300885   \n",
       "17    pn_1974.08.15_doc_II-1      5007     0.290109   \n",
       "18      pn_1976.12.28_doc_16      5007     0.286767   \n",
       "19   d_1974.04.23_doc_XXI-12      5007     0.285340   \n",
       "\n",
       "                                                  pdf  \\\n",
       "15  http://www.fgv.br/cpdoc/acervo/arquivo-pessoal...   \n",
       "16  http://www.fgv.br/cpdoc/acervo/arquivo-pessoal...   \n",
       "17  http://www.fgv.br/cpdoc/acervo/arquivo-pessoal...   \n",
       "18  http://www.fgv.br/cpdoc/acervo/arquivo-pessoal...   \n",
       "19  http://www.fgv.br/cpdoc/acervo/arquivo-pessoal...   \n",
       "\n",
       "                                                 body  length  \\\n",
       "15  secreto-excâusãvo\\n\\nsubsídios para as consult...    4549   \n",
       "16  telegrama recebido '\\n\\naaaa [97034 . é?\\no\" '...     845   \n",
       "17   \\n\\nmmm\\n\\n\"a. . .. , . ..\\n\\n' o acordo nucl...    1672   \n",
       "18  antonio la'. aiii-1315230 da sxmrâxm\\njáwówa i...     330   \n",
       "19   \\n\\n \\n\\nlembrete n? 011\\n\\npolítica nuclear ...    1590   \n",
       "\n",
       "                                               tokens  \\\n",
       "15        [brasil, armas, nuclear, acordo, nucleares]   \n",
       "16           [brasil, armas, acordo, tratado, uranio]   \n",
       "17           [nuclear, brasil, fins, energia, acordo]   \n",
       "18  [brasil, combustivel, aiea, acordo, salvaguardas]   \n",
       "19           [nuclear, brasil, fins, acordo, energia]   \n",
       "\n",
       "                                                 name  \n",
       "15  [James Earl (Jimmy) Carter, Helmut Schmidt, Cy...  \n",
       "16                        [James Earl (Jimmy) Carter]  \n",
       "17                        [James Earl (Jimmy) Carter]  \n",
       "18                      [Antonio Azeredo da Silveira]  \n",
       "19                        [James Earl (Jimmy) Carter]  "
      ]
     },
     "execution_count": 5,
     "metadata": {},
     "output_type": "execute_result"
    }
   ],
   "source": [
    "nuclear_brazil_df = topic_vis_dict['Nuclear Brazil']\n",
    "nuclear_brazil_df.tail()"
   ]
  },
  {
   "cell_type": "markdown",
   "metadata": {},
   "source": [
    "format 1"
   ]
  },
  {
   "cell_type": "code",
   "execution_count": 7,
   "metadata": {},
   "outputs": [],
   "source": [
    "#if you want to build a non relational data. This code repeats doc_id to correspond to multiple names\n",
    "#.replace(';.*', '', regex=True) \\ # if used ';' to quantify name occurrence\n",
    "topic1 = nuclear_brazil_df.name.apply(pd.Series) \\\n",
    "    .merge(nuclear_brazil_df, left_index = True, right_index = True) \\\n",
    "    .drop([\"name\", \"body\", \"tokens\", \"topic_id\", 'topic_score', 'length', 'pdf'], axis = 1) \\\n",
    "    .melt(id_vars = ['doc_id'], value_name = \"name\") \\\n",
    "    .drop(\"variable\", axis = 1) \\\n",
    "    .dropna()"
   ]
  },
  {
   "cell_type": "code",
   "execution_count": 8,
   "metadata": {},
   "outputs": [
    {
     "data": {
      "text/html": [
       "<div>\n",
       "<style scoped>\n",
       "    .dataframe tbody tr th:only-of-type {\n",
       "        vertical-align: middle;\n",
       "    }\n",
       "\n",
       "    .dataframe tbody tr th {\n",
       "        vertical-align: top;\n",
       "    }\n",
       "\n",
       "    .dataframe thead th {\n",
       "        text-align: right;\n",
       "    }\n",
       "</style>\n",
       "<table border=\"1\" class=\"dataframe\">\n",
       "  <thead>\n",
       "    <tr style=\"text-align: right;\">\n",
       "      <th></th>\n",
       "      <th>doc_id</th>\n",
       "      <th>name</th>\n",
       "    </tr>\n",
       "  </thead>\n",
       "  <tbody>\n",
       "    <tr>\n",
       "      <th>7</th>\n",
       "      <td>d_1974.03.26_doc_XXIII-31</td>\n",
       "      <td>James Earl (Jimmy) Carter</td>\n",
       "    </tr>\n",
       "    <tr>\n",
       "      <th>11</th>\n",
       "      <td>pn_1974.08.15_doc_I-23</td>\n",
       "      <td>James Earl (Jimmy) Carter</td>\n",
       "    </tr>\n",
       "    <tr>\n",
       "      <th>13</th>\n",
       "      <td>d_1974.03.26_doc_XXII-25</td>\n",
       "      <td>Antonio Azeredo da Silveira</td>\n",
       "    </tr>\n",
       "    <tr>\n",
       "      <th>15</th>\n",
       "      <td>pn_1974.08.15_doc_III-31</td>\n",
       "      <td>James Earl (Jimmy) Carter</td>\n",
       "    </tr>\n",
       "    <tr>\n",
       "      <th>16</th>\n",
       "      <td>pn_1976.12.28_doc_29</td>\n",
       "      <td>James Earl (Jimmy) Carter</td>\n",
       "    </tr>\n",
       "    <tr>\n",
       "      <th>17</th>\n",
       "      <td>pn_1974.08.15_doc_II-1</td>\n",
       "      <td>James Earl (Jimmy) Carter</td>\n",
       "    </tr>\n",
       "    <tr>\n",
       "      <th>18</th>\n",
       "      <td>pn_1976.12.28_doc_16</td>\n",
       "      <td>Antonio Azeredo da Silveira</td>\n",
       "    </tr>\n",
       "    <tr>\n",
       "      <th>19</th>\n",
       "      <td>d_1974.04.23_doc_XXI-12</td>\n",
       "      <td>James Earl (Jimmy) Carter</td>\n",
       "    </tr>\n",
       "    <tr>\n",
       "      <th>27</th>\n",
       "      <td>d_1974.03.26_doc_XXIII-31</td>\n",
       "      <td>John Hugh Crimmins</td>\n",
       "    </tr>\n",
       "    <tr>\n",
       "      <th>35</th>\n",
       "      <td>pn_1974.08.15_doc_III-31</td>\n",
       "      <td>Helmut Schmidt</td>\n",
       "    </tr>\n",
       "    <tr>\n",
       "      <th>55</th>\n",
       "      <td>pn_1974.08.15_doc_III-31</td>\n",
       "      <td>Cyrus Vance</td>\n",
       "    </tr>\n",
       "  </tbody>\n",
       "</table>\n",
       "</div>"
      ],
      "text/plain": [
       "                       doc_id                         name\n",
       "7   d_1974.03.26_doc_XXIII-31    James Earl (Jimmy) Carter\n",
       "11     pn_1974.08.15_doc_I-23    James Earl (Jimmy) Carter\n",
       "13   d_1974.03.26_doc_XXII-25  Antonio Azeredo da Silveira\n",
       "15   pn_1974.08.15_doc_III-31    James Earl (Jimmy) Carter\n",
       "16       pn_1976.12.28_doc_29    James Earl (Jimmy) Carter\n",
       "17     pn_1974.08.15_doc_II-1    James Earl (Jimmy) Carter\n",
       "18       pn_1976.12.28_doc_16  Antonio Azeredo da Silveira\n",
       "19    d_1974.04.23_doc_XXI-12    James Earl (Jimmy) Carter\n",
       "27  d_1974.03.26_doc_XXIII-31           John Hugh Crimmins\n",
       "35   pn_1974.08.15_doc_III-31               Helmut Schmidt\n",
       "55   pn_1974.08.15_doc_III-31                  Cyrus Vance"
      ]
     },
     "execution_count": 8,
     "metadata": {},
     "output_type": "execute_result"
    }
   ],
   "source": [
    "topic1"
   ]
  },
  {
   "cell_type": "code",
   "execution_count": 310,
   "metadata": {},
   "outputs": [],
   "source": [
    "doc_names_source_targets = []\n",
    "for index, row in topic1.iterrows():\n",
    "    temp_dict = {'source': row['doc_id'], 'target': row['name']}\n",
    "    doc_names_source_targets.append(temp_dict)"
   ]
  },
  {
   "cell_type": "code",
   "execution_count": 311,
   "metadata": {},
   "outputs": [
    {
     "data": {
      "text/plain": [
       "[{'source': 'd_1974.03.26_doc_XXIII-31',\n",
       "  'target': 'James Earl (Jimmy) Carter'},\n",
       " {'source': 'pn_1974.08.15_doc_I-23', 'target': 'James Earl (Jimmy) Carter'},\n",
       " {'source': 'd_1974.03.26_doc_XXII-25',\n",
       "  'target': 'Antonio Azeredo da Silveira'},\n",
       " {'source': 'pn_1974.08.15_doc_III-31', 'target': 'James Earl (Jimmy) Carter'},\n",
       " {'source': 'pn_1976.12.28_doc_29', 'target': 'James Earl (Jimmy) Carter'},\n",
       " {'source': 'pn_1974.08.15_doc_II-1', 'target': 'James Earl (Jimmy) Carter'},\n",
       " {'source': 'pn_1976.12.28_doc_16', 'target': 'Antonio Azeredo da Silveira'},\n",
       " {'source': 'd_1974.04.23_doc_XXI-12', 'target': 'James Earl (Jimmy) Carter'},\n",
       " {'source': 'd_1974.03.26_doc_XXIII-31', 'target': 'John Hugh Crimmins'},\n",
       " {'source': 'pn_1974.08.15_doc_III-31', 'target': 'Helmut Schmidt'},\n",
       " {'source': 'pn_1974.08.15_doc_III-31', 'target': 'Cyrus Vance'}]"
      ]
     },
     "execution_count": 311,
     "metadata": {},
     "output_type": "execute_result"
    }
   ],
   "source": [
    "doc_names_source_targets"
   ]
  },
  {
   "cell_type": "code",
   "execution_count": 107,
   "metadata": {},
   "outputs": [],
   "source": [
    "file_path = outputs+'doc_names_source_targets.json'\n",
    "json.dump(doc_names_source_targets, open(file_path, 'w'))"
   ]
  },
  {
   "cell_type": "markdown",
   "metadata": {},
   "source": [
    "# persons list"
   ]
  },
  {
   "cell_type": "code",
   "execution_count": 313,
   "metadata": {},
   "outputs": [
    {
     "data": {
      "text/plain": [
       "['James Earl (Jimmy) Carter',\n",
       " 'Antonio Azeredo da Silveira',\n",
       " 'John Hugh Crimmins',\n",
       " 'Helmut Schmidt',\n",
       " 'Cyrus Vance']"
      ]
     },
     "execution_count": 313,
     "metadata": {},
     "output_type": "execute_result"
    }
   ],
   "source": [
    "list(topic1.name.unique())"
   ]
  },
  {
   "cell_type": "code",
   "execution_count": 386,
   "metadata": {},
   "outputs": [],
   "source": [
    "names_list = []\n",
    "for name in list(topic1.name.unique()):\n",
    "    name_count = math.log(int(person_doc_count.loc[person_doc_count['name'] == name]['person_count']),1.5)\n",
    "    temp_dict = {'name': name, 'count': name_count}\n",
    "    names_list.append(temp_dict)"
   ]
  },
  {
   "cell_type": "code",
   "execution_count": 389,
   "metadata": {},
   "outputs": [
    {
     "data": {
      "text/plain": [
       "[{'name': 'James Earl (Jimmy) Carter', 'count': 15.507767337860294},\n",
       " {'name': 'Antonio Azeredo da Silveira', 'count': 19.6887445579689},\n",
       " {'name': 'John Hugh Crimmins', 'count': 12.94075363634189},\n",
       " {'name': 'Helmut Schmidt', 'count': 8.69707517144841},\n",
       " {'name': 'Cyrus Vance', 'count': 12.274135660257478}]"
      ]
     },
     "execution_count": 389,
     "metadata": {},
     "output_type": "execute_result"
    }
   ],
   "source": [
    "names_list"
   ]
  },
  {
   "cell_type": "code",
   "execution_count": 375,
   "metadata": {},
   "outputs": [
    {
     "data": {
      "text/plain": [
       "1.000190606490346"
      ]
     },
     "execution_count": 375,
     "metadata": {},
     "output_type": "execute_result"
    }
   ],
   "source": [
    "math.log(2.7188)"
   ]
  },
  {
   "cell_type": "code",
   "execution_count": 380,
   "metadata": {},
   "outputs": [
    {
     "data": {
      "text/plain": [
       "0.6931471805599453"
      ]
     },
     "execution_count": 380,
     "metadata": {},
     "output_type": "execute_result"
    }
   ],
   "source": [
    "math.log(2)"
   ]
  },
  {
   "cell_type": "code",
   "execution_count": 381,
   "metadata": {},
   "outputs": [
    {
     "data": {
      "text/plain": [
       "2.302585092994046"
      ]
     },
     "execution_count": 381,
     "metadata": {},
     "output_type": "execute_result"
    }
   ],
   "source": [
    "math.log(10)"
   ]
  },
  {
   "cell_type": "code",
   "execution_count": 388,
   "metadata": {},
   "outputs": [],
   "source": [
    "file_path = outputs+'names_list.json'\n",
    "json.dump(names_list, open(file_path, 'w'))"
   ]
  },
  {
   "cell_type": "markdown",
   "metadata": {},
   "source": [
    "# Source-target on docs and tokens"
   ]
  },
  {
   "cell_type": "code",
   "execution_count": 235,
   "metadata": {},
   "outputs": [
    {
     "data": {
      "text/html": [
       "<div>\n",
       "<style scoped>\n",
       "    .dataframe tbody tr th:only-of-type {\n",
       "        vertical-align: middle;\n",
       "    }\n",
       "\n",
       "    .dataframe tbody tr th {\n",
       "        vertical-align: top;\n",
       "    }\n",
       "\n",
       "    .dataframe thead th {\n",
       "        text-align: right;\n",
       "    }\n",
       "</style>\n",
       "<table border=\"1\" class=\"dataframe\">\n",
       "  <thead>\n",
       "    <tr style=\"text-align: right;\">\n",
       "      <th></th>\n",
       "      <th>doc_id</th>\n",
       "      <th>topic_id</th>\n",
       "      <th>topic_score</th>\n",
       "      <th>pdf</th>\n",
       "      <th>body</th>\n",
       "      <th>length</th>\n",
       "      <th>tokens</th>\n",
       "      <th>name</th>\n",
       "      <th>doc</th>\n",
       "    </tr>\n",
       "  </thead>\n",
       "  <tbody>\n",
       "    <tr>\n",
       "      <th>15</th>\n",
       "      <td>pn_1974.08.15_doc_III-31</td>\n",
       "      <td>5007</td>\n",
       "      <td>0.303900</td>\n",
       "      <td>http://www.fgv.br/cpdoc/acervo/arquivo-pessoal...</td>\n",
       "      <td>secreto-excâusãvo\\n\\nsubsídios para as consult...</td>\n",
       "      <td>4549</td>\n",
       "      <td>[brasil, armas, nuclear, acordo, nucleares]</td>\n",
       "      <td>[James Earl (Jimmy) Carter, Helmut Schmidt, Cy...</td>\n",
       "      <td>doc_III-31</td>\n",
       "    </tr>\n",
       "    <tr>\n",
       "      <th>16</th>\n",
       "      <td>pn_1976.12.28_doc_29</td>\n",
       "      <td>5007</td>\n",
       "      <td>0.300885</td>\n",
       "      <td>http://www.fgv.br/cpdoc/acervo/arquivo-pessoal...</td>\n",
       "      <td>telegrama recebido '\\n\\naaaa [97034 . é?\\no\" '...</td>\n",
       "      <td>845</td>\n",
       "      <td>[brasil, armas, acordo, tratado, uranio]</td>\n",
       "      <td>[James Earl (Jimmy) Carter]</td>\n",
       "      <td>doc_29</td>\n",
       "    </tr>\n",
       "    <tr>\n",
       "      <th>17</th>\n",
       "      <td>pn_1974.08.15_doc_II-1</td>\n",
       "      <td>5007</td>\n",
       "      <td>0.290109</td>\n",
       "      <td>http://www.fgv.br/cpdoc/acervo/arquivo-pessoal...</td>\n",
       "      <td>\\n\\nmmm\\n\\n\"a. . .. , . ..\\n\\n' o acordo nucl...</td>\n",
       "      <td>1672</td>\n",
       "      <td>[nuclear, brasil, fins, energia, acordo]</td>\n",
       "      <td>[James Earl (Jimmy) Carter]</td>\n",
       "      <td>doc_II-1</td>\n",
       "    </tr>\n",
       "    <tr>\n",
       "      <th>18</th>\n",
       "      <td>pn_1976.12.28_doc_16</td>\n",
       "      <td>5007</td>\n",
       "      <td>0.286767</td>\n",
       "      <td>http://www.fgv.br/cpdoc/acervo/arquivo-pessoal...</td>\n",
       "      <td>antonio la'. aiii-1315230 da sxmrâxm\\njáwówa i...</td>\n",
       "      <td>330</td>\n",
       "      <td>[brasil, combustivel, aiea, acordo, salvaguardas]</td>\n",
       "      <td>[Antonio Azeredo da Silveira]</td>\n",
       "      <td>doc_16</td>\n",
       "    </tr>\n",
       "    <tr>\n",
       "      <th>19</th>\n",
       "      <td>d_1974.04.23_doc_XXI-12</td>\n",
       "      <td>5007</td>\n",
       "      <td>0.285340</td>\n",
       "      <td>http://www.fgv.br/cpdoc/acervo/arquivo-pessoal...</td>\n",
       "      <td>\\n\\n \\n\\nlembrete n? 011\\n\\npolítica nuclear ...</td>\n",
       "      <td>1590</td>\n",
       "      <td>[nuclear, brasil, fins, acordo, energia]</td>\n",
       "      <td>[James Earl (Jimmy) Carter]</td>\n",
       "      <td>doc_XXI-12</td>\n",
       "    </tr>\n",
       "  </tbody>\n",
       "</table>\n",
       "</div>"
      ],
      "text/plain": [
       "                      doc_id  topic_id  topic_score  \\\n",
       "15  pn_1974.08.15_doc_III-31      5007     0.303900   \n",
       "16      pn_1976.12.28_doc_29      5007     0.300885   \n",
       "17    pn_1974.08.15_doc_II-1      5007     0.290109   \n",
       "18      pn_1976.12.28_doc_16      5007     0.286767   \n",
       "19   d_1974.04.23_doc_XXI-12      5007     0.285340   \n",
       "\n",
       "                                                  pdf  \\\n",
       "15  http://www.fgv.br/cpdoc/acervo/arquivo-pessoal...   \n",
       "16  http://www.fgv.br/cpdoc/acervo/arquivo-pessoal...   \n",
       "17  http://www.fgv.br/cpdoc/acervo/arquivo-pessoal...   \n",
       "18  http://www.fgv.br/cpdoc/acervo/arquivo-pessoal...   \n",
       "19  http://www.fgv.br/cpdoc/acervo/arquivo-pessoal...   \n",
       "\n",
       "                                                 body  length  \\\n",
       "15  secreto-excâusãvo\\n\\nsubsídios para as consult...    4549   \n",
       "16  telegrama recebido '\\n\\naaaa [97034 . é?\\no\" '...     845   \n",
       "17   \\n\\nmmm\\n\\n\"a. . .. , . ..\\n\\n' o acordo nucl...    1672   \n",
       "18  antonio la'. aiii-1315230 da sxmrâxm\\njáwówa i...     330   \n",
       "19   \\n\\n \\n\\nlembrete n? 011\\n\\npolítica nuclear ...    1590   \n",
       "\n",
       "                                               tokens  \\\n",
       "15        [brasil, armas, nuclear, acordo, nucleares]   \n",
       "16           [brasil, armas, acordo, tratado, uranio]   \n",
       "17           [nuclear, brasil, fins, energia, acordo]   \n",
       "18  [brasil, combustivel, aiea, acordo, salvaguardas]   \n",
       "19           [nuclear, brasil, fins, acordo, energia]   \n",
       "\n",
       "                                                 name         doc  \n",
       "15  [James Earl (Jimmy) Carter, Helmut Schmidt, Cy...  doc_III-31  \n",
       "16                        [James Earl (Jimmy) Carter]      doc_29  \n",
       "17                        [James Earl (Jimmy) Carter]    doc_II-1  \n",
       "18                      [Antonio Azeredo da Silveira]      doc_16  \n",
       "19                        [James Earl (Jimmy) Carter]  doc_XXI-12  "
      ]
     },
     "execution_count": 235,
     "metadata": {},
     "output_type": "execute_result"
    }
   ],
   "source": [
    "nuclear_brazil_df = topic_vis_dict['Nuclear Brazil']\n",
    "nuclear_brazil_df['doc'] = nuclear_brazil_df['doc_id'].apply(lambda text: re.sub('.*(doc.*)', r'\\1', text))\n",
    "nuclear_brazil_df.tail()"
   ]
  },
  {
   "cell_type": "markdown",
   "metadata": {},
   "source": [
    "format 1"
   ]
  },
  {
   "cell_type": "raw",
   "metadata": {},
   "source": [
    "nuclear_brazil_df.tokens"
   ]
  },
  {
   "cell_type": "code",
   "execution_count": 11,
   "metadata": {},
   "outputs": [],
   "source": [
    "#if you want to build a non relational data. This code repeats doc_id to correspond to multiple names\n",
    "#.replace(';.*', '', regex=True) \\ # if used ';' to quantify name occurrence\n",
    "topic1 = nuclear_brazil_df.tokens.apply(pd.Series) \\\n",
    "    .merge(nuclear_brazil_df, left_index = True, right_index = True) \\\n",
    "    .drop([\"name\", \"body\", \"tokens\", \"topic_id\", 'topic_score', 'length', 'doc', 'pdf'], axis = 1) \\\n",
    "    .melt(id_vars = ['doc_id'], value_name = \"tokens\") \\\n",
    "    .drop(\"variable\", axis = 1) \\\n",
    "    .dropna()"
   ]
  },
  {
   "cell_type": "code",
   "execution_count": 13,
   "metadata": {},
   "outputs": [],
   "source": [
    "doc_tokens_source_targets = []\n",
    "for index, row in topic1.iterrows():\n",
    "    temp_dict = {'source': row['doc_id'], 'target': row['tokens']}\n",
    "    doc_tokens_source_targets.append(temp_dict)"
   ]
  },
  {
   "cell_type": "code",
   "execution_count": 239,
   "metadata": {},
   "outputs": [],
   "source": [
    "file_path = outputs+'doc_tokens_source_targets.json'\n",
    "json.dump(doc_tokens_source_targets, open(file_path, 'w'))"
   ]
  },
  {
   "cell_type": "markdown",
   "metadata": {},
   "source": [
    "# tokens list"
   ]
  },
  {
   "cell_type": "raw",
   "metadata": {},
   "source": [
    "tokens_list = []\n",
    "tokens_temp = list(topic1.tokens.unique())\n",
    "tokens_temp.remove('fins')\n",
    "for v in tokens_temp:\n",
    "    temp_dict = {'token': v}\n",
    "    tokens_list.append(temp_dict)"
   ]
  },
  {
   "cell_type": "code",
   "execution_count": 266,
   "metadata": {},
   "outputs": [
    {
     "data": {
      "text/plain": [
       "['0.085*\"nuclear\" ',\n",
       " ' 0.036*\"acordo\" ',\n",
       " ' 0.035*\"energia\" ',\n",
       " ' 0.030*\"nucleares\" ',\n",
       " ' 0.023*\"brasil\" ',\n",
       " ' 0.020*\"urânio\" ',\n",
       " ' 0.020*\"armas\" ',\n",
       " ' 0.017*\"tecnologia\" ',\n",
       " ' 0.016*\"rfa\" ',\n",
       " ' 0.014*\"tratado\" ',\n",
       " ' 0.014*\"cooperação\" ',\n",
       " ' 0.012*\"salvaguardas\" ',\n",
       " ' 0.011*\"programa\" ',\n",
       " ' 0.010*\"aiea\" ',\n",
       " ' 0.009*\"combustível\" ',\n",
       " ' 0.008*\"proliferação\" ',\n",
       " ' 0.007*\"reatores\" ',\n",
       " ' 0.007*\"alemanha\" ',\n",
       " ' 0.007*\"atômica\" ',\n",
       " ' 0.007*\"fins\"']"
      ]
     },
     "execution_count": 266,
     "metadata": {},
     "output_type": "execute_result"
    }
   ],
   "source": [
    "for pair in main_topics:\n",
    "    if pair[0] == 'Nuclear Brazil': topic_num = pair[1]\n",
    "topic_tokens = lda_model.print_topics(-1, num_words=20)[topic_num]\n",
    "topic_tokens = topic_tokens[1].split('+')\n",
    "topic_tokens"
   ]
  },
  {
   "cell_type": "code",
   "execution_count": 272,
   "metadata": {},
   "outputs": [],
   "source": [
    "tokens_list = []\n",
    "for i in topic_tokens:\n",
    "    token = re.sub('.*\\*\"(.*)\".*', r'\\1', i)\n",
    "    token = remove_special_char(token)\n",
    "    score = re.sub(' *(.*)\\*.*', r'\\1', i)\n",
    "    score = float(score)\n",
    "    \n",
    "    #remove tokens irrelevantes\n",
    "    if token == 'fins': continue\n",
    "        \n",
    "    temp_dict = {'token': token, 'score': score}\n",
    "    tokens_list.append(temp_dict)"
   ]
  },
  {
   "cell_type": "code",
   "execution_count": 274,
   "metadata": {},
   "outputs": [],
   "source": [
    "file_path = outputs+'tokens_list.json'\n",
    "json.dump(tokens_list, open(file_path, 'w'))"
   ]
  },
  {
   "cell_type": "code",
   "execution_count": null,
   "metadata": {},
   "outputs": [],
   "source": []
  }
 ],
 "metadata": {
  "kernelspec": {
   "display_name": "Python 3",
   "language": "python",
   "name": "python3"
  },
  "language_info": {
   "codemirror_mode": {
    "name": "ipython",
    "version": 3
   },
   "file_extension": ".py",
   "mimetype": "text/x-python",
   "name": "python",
   "nbconvert_exporter": "python",
   "pygments_lexer": "ipython3",
   "version": "3.7.5"
  }
 },
 "nbformat": 4,
 "nbformat_minor": 2
}
