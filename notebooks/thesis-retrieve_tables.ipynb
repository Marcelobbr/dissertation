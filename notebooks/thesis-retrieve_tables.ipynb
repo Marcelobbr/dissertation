{
 "cells": [
  {
   "cell_type": "markdown",
   "metadata": {},
   "source": [
    "### doc_topics\n",
    "ESTABELECE RELAÇÕES ENTRE DOCUMENTOS E TÓPICOS NA BASE DE DADOS NO MYSQL. TRABALHAMOS COM O ACERVO **ANTONIO AZEREDO DA SILVEIRA, MINISTÉRIO DAS RELAÇÕES EXTERIORES**."
   ]
  },
  {
   "cell_type": "code",
   "execution_count": 25,
   "metadata": {},
   "outputs": [],
   "source": [
    "#import nltk\n",
    "import os\n",
    "#import codecs\n",
    "#import string\n",
    "#import matplotlib.pyplot as plt\n",
    "#import matplotlib as mpl\n",
    "#from gensim import corpora, models, similarities #Latent Dirichlet Allocation implementation with Gensim\n",
    "#import pyLDAvis\n",
    "#import pyLDAvis.gensim\n",
    "#from IPython.display import clear_output\n",
    "\n",
    "import getpass\n",
    "#from sshtunnel import SSHTunnelForwarder\n",
    "import pymysql\n",
    "import pandas as pd\n",
    "import pickle"
   ]
  },
  {
   "cell_type": "markdown",
   "metadata": {},
   "source": [
    "### set user-specific variables\n",
    "Verifies what operational system is being used and creates user-specific variables. Renato = Linux ; Marcelo = nt (Windows)\n",
    "\n",
    "Also sets working folders"
   ]
  },
  {
   "cell_type": "raw",
   "metadata": {
    "collapsed": true
   },
   "source": [
    "if os.name == 'nt':\n",
    "    encoding_type = 'utf-8'\n",
    "    ssh_priv_key = 'C:/Users/marcelo.ribeiro/Dropbox/A-Marcelo/Educação-Trabalho/2016-CPDOC/Remoto/marcelo_priv_rsa'\n",
    "    ssh_user='marcelobribeiro'\n",
    "    sql_user='marcelobribeiro'\n",
    "    outputs = 'C:/Users/marcelo.ribeiro/Dropbox/A-Marcelo/Educação-Trabalho/2016-CPDOC/Azeredo Papers/Processamento/text-learning-tools/outputs/'\n",
    "    file_lda = 'C:/Users/marcelo.ribeiro/Desktop/pickles/model_lda_100_rs_00.pkl'\n",
    "else:\n",
    "    encoding_type = 'ISO-8859-1'\n",
    "    ssh_priv_key = '/home/rsouza/.ssh/id_rsa'\n",
    "    ssh_user='rsouza'\n",
    "    sql_user='rsouza'\n",
    "    outputs = '../outputs/'\n",
    "    file_lda = outputs+'model_lda_100_rs_00.pkl'"
   ]
  },
  {
   "cell_type": "markdown",
   "metadata": {},
   "source": [
    "#### generates the distribution of topics for each new document\n",
    "Creates a database with data about correlation score between topics and documents.\n",
    "\n",
    "Notes:\n",
    "* The documents are selected from the MySQL data base with some filters: main_language = portuguese, phrase estimated readability > 40%.\n",
    "* 'pt' = portuguese language. \n",
    "* In case of documents which weren't possible to detect readability, for being too short (lesse than 10 total sentences), we used the number -1 for their readability definition."
   ]
  },
  {
   "cell_type": "code",
   "execution_count": 31,
   "metadata": {},
   "outputs": [
    {
     "name": "stdout",
     "output_type": "stream",
     "text": [
      "········\n"
     ]
    }
   ],
   "source": [
    "#pass_sshkey = getpass.getpass()\n",
    "pass_mysql = getpass.getpass()\n",
    "    \n",
    "conn = pymysql.connect(host='history-lab.org', \n",
    "                       #port=server.local_bind_port, \n",
    "                       user='de_reader',\n",
    "                       passwd=pass_mysql,\n",
    "                       db='declassification_cpdoc',\n",
    "                       use_unicode=True, \n",
    "                       charset=\"utf8\")\n",
    "cur = conn.cursor()\n",
    "'''''''''''''''''''''''''''''''''''''''''''''''''''''''''''''''''''''''''''''\n",
    "\n",
    "'''''''''''''''''''''''''''''''''''''''''''''''''''''''''''''''''''''''''''''\n",
    "#cur.execute(\"SHOW DATABASES\")\n",
    "\n",
    "cur.execute(\"SHOW TABLES\")\n",
    "tables = cur.fetchall()  "
   ]
  },
  {
   "cell_type": "code",
   "execution_count": 30,
   "metadata": {},
   "outputs": [],
   "source": [
    "vis_tables = ['person_doc ', 'top_persons',  'persons',  'top_countries',  'docs',  'top_topics',  'doc_counts ',\n",
    " 'countries',  'top_classifications',  'topic_doc',  'topics', 'country_doc']"
   ]
  },
  {
   "cell_type": "code",
   "execution_count": 32,
   "metadata": {},
   "outputs": [],
   "source": [
    "tables_dics = {}\n",
    "for table in vis_tables:\n",
    "    df = pd.read_sql_query('SELECT * FROM {}'.format(table), conn)\n",
    "    tables_dics[table] = df"
   ]
  },
  {
   "cell_type": "code",
   "execution_count": 39,
   "metadata": {},
   "outputs": [],
   "source": [
    "file_tables = '../outputs/tables_dict-version201906.pkl'\n",
    "pickle.dump(tables_dics, open(file_tables, 'wb'))"
   ]
  },
  {
   "cell_type": "code",
   "execution_count": null,
   "metadata": {},
   "outputs": [],
   "source": []
  }
 ],
 "metadata": {
  "anaconda-cloud": {},
  "kernelspec": {
   "display_name": "Python 3",
   "language": "python",
   "name": "python3"
  },
  "language_info": {
   "codemirror_mode": {
    "name": "ipython",
    "version": 3
   },
   "file_extension": ".py",
   "mimetype": "text/x-python",
   "name": "python",
   "nbconvert_exporter": "python",
   "pygments_lexer": "ipython3",
   "version": "3.7.1"
  }
 },
 "nbformat": 4,
 "nbformat_minor": 1
}
