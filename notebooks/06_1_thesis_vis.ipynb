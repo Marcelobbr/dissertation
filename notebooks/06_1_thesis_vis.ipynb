{
 "cells": [
  {
   "cell_type": "markdown",
   "metadata": {},
   "source": [
    "Database operations to build the structure for visualization"
   ]
  },
  {
   "cell_type": "markdown",
   "metadata": {},
   "source": [
    "I will need 4 groups of data:\n",
    "* topics (aggregator)\n",
    "* docs\n",
    "* words\n",
    "* people"
   ]
  },
  {
   "cell_type": "code",
   "execution_count": 1,
   "metadata": {},
   "outputs": [],
   "source": [
    "import os\n",
    "import sys\n",
    "import pandas as pd\n",
    "import sqlite3\n",
    "import json\n",
    "import pickle\n",
    "import re\n",
    "import math\n",
    "import gensim\n",
    "from collections import Counter"
   ]
  },
  {
   "cell_type": "code",
   "execution_count": 2,
   "metadata": {},
   "outputs": [],
   "source": [
    "sys.path.append(os.path.join('..', 'src'))\n",
    "from utils import remove_special_char\n",
    "from d06_vis.data_ops import retrieve_tokens, build_vis_table, get_melted_df\n",
    "\n",
    "# %load_ext autoreload\n",
    "# %autoreload 2\n",
    "# import importlib\n",
    "# importlib.reload(utils)\n",
    "# importlib.reload(data_ops)"
   ]
  },
  {
   "cell_type": "code",
   "execution_count": 3,
   "metadata": {},
   "outputs": [],
   "source": [
    "inputs = os.path.join(\"..\", \"data\")\n",
    "topic_models = os.path.join(\"..\", \"data\", \"04_model\")\n",
    "outputs = os.path.join('..','data', '06_outputs')\n",
    "tmp = os.path.join('..','data', 'tmp')"
   ]
  },
  {
   "cell_type": "raw",
   "metadata": {},
   "source": [
    "remove_special_char('nmão')"
   ]
  },
  {
   "cell_type": "markdown",
   "metadata": {},
   "source": [
    "# get data source"
   ]
  },
  {
   "cell_type": "code",
   "execution_count": 6,
   "metadata": {},
   "outputs": [],
   "source": [
    "sql_db = os.path.join(inputs, 'cpdoc_as.sqlite')\n",
    "conn = sqlite3.connect(sql_db)\n",
    "cur = conn.cursor()\n",
    "\n",
    "topic_doc = pd.read_sql_query(\"SELECT * FROM topic_doc\", conn) # loading from pkl below\n",
    "docs = pd.read_sql_query(\"SELECT * FROM docs\", conn)\n",
    "persons = pd.read_sql_query(\"SELECT * FROM persons\", conn)\n",
    "person_doc = pd.read_sql_query(\"SELECT * FROM person_doc\", conn)\n",
    "topics_table = pd.read_sql_query(\"SELECT * FROM topics\", conn)"
   ]
  },
  {
   "cell_type": "raw",
   "metadata": {},
   "source": [
    "topic_doc = topic_doc.sort_values(['topic_id', 'topic_score'], ascending=[True, False])\n",
    "print(len(topic_doc))\n",
    "topic_doc.head()"
   ]
  },
  {
   "cell_type": "markdown",
   "metadata": {},
   "source": [
    "# topics"
   ]
  },
  {
   "cell_type": "code",
   "execution_count": 7,
   "metadata": {},
   "outputs": [],
   "source": [
    "topics_list = topics_table['old_id'].to_list()"
   ]
  },
  {
   "cell_type": "markdown",
   "metadata": {},
   "source": [
    "# docs and topics"
   ]
  },
  {
   "cell_type": "code",
   "execution_count": 8,
   "metadata": {
    "scrolled": true
   },
   "outputs": [
    {
     "name": "stdout",
     "output_type": "stream",
     "text": [
      "114506\n"
     ]
    },
    {
     "data": {
      "text/html": [
       "<div>\n",
       "<style scoped>\n",
       "    .dataframe tbody tr th:only-of-type {\n",
       "        vertical-align: middle;\n",
       "    }\n",
       "\n",
       "    .dataframe tbody tr th {\n",
       "        vertical-align: top;\n",
       "    }\n",
       "\n",
       "    .dataframe thead th {\n",
       "        text-align: right;\n",
       "    }\n",
       "</style>\n",
       "<table border=\"1\" class=\"dataframe\">\n",
       "  <thead>\n",
       "    <tr style=\"text-align: right;\">\n",
       "      <th></th>\n",
       "      <th>doc_id</th>\n",
       "      <th>topic_id</th>\n",
       "      <th>topic_score</th>\n",
       "    </tr>\n",
       "  </thead>\n",
       "  <tbody>\n",
       "    <tr>\n",
       "      <th>38413</th>\n",
       "      <td>bp_1974.06.04_doc_I-8</td>\n",
       "      <td>0</td>\n",
       "      <td>0.802069</td>\n",
       "    </tr>\n",
       "    <tr>\n",
       "      <th>9793</th>\n",
       "      <td>ag_1974.01.22_doc_III-55</td>\n",
       "      <td>0</td>\n",
       "      <td>0.710157</td>\n",
       "    </tr>\n",
       "    <tr>\n",
       "      <th>100937</th>\n",
       "      <td>rb_1974.04.17_doc_I-25</td>\n",
       "      <td>0</td>\n",
       "      <td>0.695800</td>\n",
       "    </tr>\n",
       "    <tr>\n",
       "      <th>105733</th>\n",
       "      <td>rb_1974.05.23_doc_III-11</td>\n",
       "      <td>0</td>\n",
       "      <td>0.689142</td>\n",
       "    </tr>\n",
       "    <tr>\n",
       "      <th>105899</th>\n",
       "      <td>rb_1974.05.23_doc_III-22</td>\n",
       "      <td>0</td>\n",
       "      <td>0.685668</td>\n",
       "    </tr>\n",
       "  </tbody>\n",
       "</table>\n",
       "</div>"
      ],
      "text/plain": [
       "                          doc_id  topic_id  topic_score\n",
       "38413      bp_1974.06.04_doc_I-8         0     0.802069\n",
       "9793    ag_1974.01.22_doc_III-55         0     0.710157\n",
       "100937    rb_1974.04.17_doc_I-25         0     0.695800\n",
       "105733  rb_1974.05.23_doc_III-11         0     0.689142\n",
       "105899  rb_1974.05.23_doc_III-22         0     0.685668"
      ]
     },
     "execution_count": 8,
     "metadata": {},
     "output_type": "execute_result"
    }
   ],
   "source": [
    "topic_doc = topic_doc.sort_values(['topic_id', 'topic_score'], ascending=[True, False])\n",
    "print(len(topic_doc))\n",
    "topic_doc.head()"
   ]
  },
  {
   "cell_type": "markdown",
   "metadata": {},
   "source": [
    "# docs and persons"
   ]
  },
  {
   "cell_type": "code",
   "execution_count": 9,
   "metadata": {},
   "outputs": [],
   "source": [
    "# persons.rename(columns={\"person_name\": \"name\"}, inplace=True)\n",
    "persons.rename(index=str, columns={\"id\": \"person_id\", \"person_name\": \"name\"}, inplace=True)"
   ]
  },
  {
   "cell_type": "raw",
   "metadata": {},
   "source": [
    "persons = cpdoc_tables['persons']\n",
    "persons.rename(index=str, columns={\"id\": \"person_id\"}, inplace=True)"
   ]
  },
  {
   "cell_type": "code",
   "execution_count": 10,
   "metadata": {},
   "outputs": [],
   "source": [
    "# person_doc = cpdoc_tables['person_doc ']\n",
    "person_doc = pd.merge(person_doc, persons, on='person_id', how='inner')\n",
    "person_doc = person_doc[['person_id', 'doc_id', 'person_count', 'name']]\n",
    "person_doc = person_doc.replace('(.*),(.*),.*', r'\\1,\\2', regex=True)\n",
    "person_doc = person_doc.replace('(.*), (.*)', r'\\2 \\1', regex=True)"
   ]
  },
  {
   "cell_type": "code",
   "execution_count": 11,
   "metadata": {},
   "outputs": [],
   "source": [
    "#remove special characters\n",
    "person_doc = person_doc.name.apply(pd.Series) \\\n",
    "    .replace('[“”]', '', regex=True) \\\n",
    "    .replace('[áàãâ]', 'a', regex=True) \\\n",
    "    .replace('[óòõô]', 'o', regex=True) \\\n",
    "    .replace('[éèê]', 'e', regex=True) \\\n",
    "    .replace('[íì]', 'i', regex=True) \\\n",
    "    .replace('[úù]', 'u', regex=True) \\\n",
    "    .replace('ç', 'c', regex=True) \\\n",
    "    .merge(person_doc, left_index = True, right_index = True) \\\n",
    "    .drop(\"name\", axis=1) \\\n",
    "    .rename(columns={0: \"name\"})"
   ]
  },
  {
   "cell_type": "code",
   "execution_count": 12,
   "metadata": {
    "scrolled": true
   },
   "outputs": [
    {
     "data": {
      "text/html": [
       "<div>\n",
       "<style scoped>\n",
       "    .dataframe tbody tr th:only-of-type {\n",
       "        vertical-align: middle;\n",
       "    }\n",
       "\n",
       "    .dataframe tbody tr th {\n",
       "        vertical-align: top;\n",
       "    }\n",
       "\n",
       "    .dataframe thead th {\n",
       "        text-align: right;\n",
       "    }\n",
       "</style>\n",
       "<table border=\"1\" class=\"dataframe\">\n",
       "  <thead>\n",
       "    <tr style=\"text-align: right;\">\n",
       "      <th></th>\n",
       "      <th>name</th>\n",
       "      <th>person_id</th>\n",
       "      <th>doc_id</th>\n",
       "      <th>person_count</th>\n",
       "    </tr>\n",
       "  </thead>\n",
       "  <tbody>\n",
       "    <tr>\n",
       "      <th>0</th>\n",
       "      <td>Antonio Azeredo Da Silveira</td>\n",
       "      <td>500084</td>\n",
       "      <td>ag_1973.11.20_doc_I-8</td>\n",
       "      <td>1</td>\n",
       "    </tr>\n",
       "    <tr>\n",
       "      <th>1</th>\n",
       "      <td>Antonio Azeredo Da Silveira</td>\n",
       "      <td>500084</td>\n",
       "      <td>ag_1973.11.20_doc_I-9</td>\n",
       "      <td>1</td>\n",
       "    </tr>\n",
       "    <tr>\n",
       "      <th>2</th>\n",
       "      <td>Antonio Azeredo Da Silveira</td>\n",
       "      <td>500084</td>\n",
       "      <td>ag_1973.11.20_doc_I-13</td>\n",
       "      <td>1</td>\n",
       "    </tr>\n",
       "    <tr>\n",
       "      <th>3</th>\n",
       "      <td>Antonio Azeredo Da Silveira</td>\n",
       "      <td>500084</td>\n",
       "      <td>ag_1973.11.20_doc_I-22</td>\n",
       "      <td>1</td>\n",
       "    </tr>\n",
       "    <tr>\n",
       "      <th>4</th>\n",
       "      <td>Antonio Azeredo Da Silveira</td>\n",
       "      <td>500084</td>\n",
       "      <td>ag_1973.11.20_doc_I-23</td>\n",
       "      <td>1</td>\n",
       "    </tr>\n",
       "  </tbody>\n",
       "</table>\n",
       "</div>"
      ],
      "text/plain": [
       "                          name person_id                  doc_id  person_count\n",
       "0  Antonio Azeredo Da Silveira    500084   ag_1973.11.20_doc_I-8             1\n",
       "1  Antonio Azeredo Da Silveira    500084   ag_1973.11.20_doc_I-9             1\n",
       "2  Antonio Azeredo Da Silveira    500084  ag_1973.11.20_doc_I-13             1\n",
       "3  Antonio Azeredo Da Silveira    500084  ag_1973.11.20_doc_I-22             1\n",
       "4  Antonio Azeredo Da Silveira    500084  ag_1973.11.20_doc_I-23             1"
      ]
     },
     "execution_count": 12,
     "metadata": {},
     "output_type": "execute_result"
    }
   ],
   "source": [
    "person_doc.head()"
   ]
  },
  {
   "cell_type": "code",
   "execution_count": 13,
   "metadata": {},
   "outputs": [],
   "source": [
    "person_doc_count = pd.DataFrame(person_doc.groupby(['name'])['person_count'].agg('count')) #.apply(sum)\n",
    "person_doc_count = person_doc_count.reset_index()"
   ]
  },
  {
   "cell_type": "markdown",
   "metadata": {},
   "source": [
    "# docs and tokens"
   ]
  },
  {
   "cell_type": "code",
   "execution_count": 14,
   "metadata": {},
   "outputs": [
    {
     "data": {
      "text/html": [
       "<div>\n",
       "<style scoped>\n",
       "    .dataframe tbody tr th:only-of-type {\n",
       "        vertical-align: middle;\n",
       "    }\n",
       "\n",
       "    .dataframe tbody tr th {\n",
       "        vertical-align: top;\n",
       "    }\n",
       "\n",
       "    .dataframe thead th {\n",
       "        text-align: right;\n",
       "    }\n",
       "</style>\n",
       "<table border=\"1\" class=\"dataframe\">\n",
       "  <thead>\n",
       "    <tr style=\"text-align: right;\">\n",
       "      <th></th>\n",
       "      <th>id</th>\n",
       "      <th>main_language</th>\n",
       "      <th>readability</th>\n",
       "      <th>url</th>\n",
       "      <th>body</th>\n",
       "    </tr>\n",
       "  </thead>\n",
       "  <tbody>\n",
       "    <tr>\n",
       "      <th>0</th>\n",
       "      <td>ag_1973.11.20_doc_I-1</td>\n",
       "      <td>none</td>\n",
       "      <td>0.400000</td>\n",
       "      <td>http://www.fgv.br/cpdoc/acervo/arquivo-pessoal...</td>\n",
       "      <td>\\n\\njr, /h ' \"&amp; m$ hb'h'qo\\n&amp; la'?\\n\\n, é %%3...</td>\n",
       "    </tr>\n",
       "    <tr>\n",
       "      <th>1</th>\n",
       "      <td>ag_1973.11.20_doc_I-4</td>\n",
       "      <td>none</td>\n",
       "      <td>-1.000000</td>\n",
       "      <td>http://www.fgv.br/cpdoc/acervo/arquivo-pessoal...</td>\n",
       "      <td>\\n\\n\"**; %wwffwç (. sz\\nao?\\n\\nray\\n\\nmax meo...</td>\n",
       "    </tr>\n",
       "    <tr>\n",
       "      <th>2</th>\n",
       "      <td>ag_1973.11.20_doc_I-5</td>\n",
       "      <td>none</td>\n",
       "      <td>-1.000000</td>\n",
       "      <td>http://www.fgv.br/cpdoc/acervo/arquivo-pessoal...</td>\n",
       "      <td>am 1933 m 90\\n\\nw ij\"?\\n(\\n\\nt\\n\\ne\\nzi\\n\\nurd...</td>\n",
       "    </tr>\n",
       "    <tr>\n",
       "      <th>3</th>\n",
       "      <td>ag_1973.11.20_doc_I-7</td>\n",
       "      <td>pt</td>\n",
       "      <td>-1.000000</td>\n",
       "      <td>http://www.fgv.br/cpdoc/acervo/arquivo-pessoal...</td>\n",
       "      <td>ôôô/ma 44 w\\nwil\"\\n/ oe;\\n\\n  \\n\\ncentro de es...</td>\n",
       "    </tr>\n",
       "    <tr>\n",
       "      <th>4</th>\n",
       "      <td>ag_1973.11.20_doc_I-8</td>\n",
       "      <td>pt</td>\n",
       "      <td>0.615385</td>\n",
       "      <td>http://www.fgv.br/cpdoc/acervo/arquivo-pessoal...</td>\n",
       "      <td>\\n\\nxx&gt;4áiãfkk ;g*\\n\\nmv, ; (905\\n\\n \\n\\ntele...</td>\n",
       "    </tr>\n",
       "  </tbody>\n",
       "</table>\n",
       "</div>"
      ],
      "text/plain": [
       "                      id main_language  readability  \\\n",
       "0  ag_1973.11.20_doc_I-1          none     0.400000   \n",
       "1  ag_1973.11.20_doc_I-4          none    -1.000000   \n",
       "2  ag_1973.11.20_doc_I-5          none    -1.000000   \n",
       "3  ag_1973.11.20_doc_I-7            pt    -1.000000   \n",
       "4  ag_1973.11.20_doc_I-8            pt     0.615385   \n",
       "\n",
       "                                                 url  \\\n",
       "0  http://www.fgv.br/cpdoc/acervo/arquivo-pessoal...   \n",
       "1  http://www.fgv.br/cpdoc/acervo/arquivo-pessoal...   \n",
       "2  http://www.fgv.br/cpdoc/acervo/arquivo-pessoal...   \n",
       "3  http://www.fgv.br/cpdoc/acervo/arquivo-pessoal...   \n",
       "4  http://www.fgv.br/cpdoc/acervo/arquivo-pessoal...   \n",
       "\n",
       "                                                body  \n",
       "0   \\n\\njr, /h ' \"& m$ hb'h'qo\\n& la'?\\n\\n, é %%3...  \n",
       "1   \\n\\n\"**; %wwffwç (. sz\\nao?\\n\\nray\\n\\nmax meo...  \n",
       "2  am 1933 m 90\\n\\nw ij\"?\\n(\\n\\nt\\n\\ne\\nzi\\n\\nurd...  \n",
       "3  ôôô/ma 44 w\\nwil\"\\n/ oe;\\n\\n  \\n\\ncentro de es...  \n",
       "4   \\n\\nxx>4áiãfkk ;g*\\n\\nmv, ; (905\\n\\n \\n\\ntele...  "
      ]
     },
     "execution_count": 14,
     "metadata": {},
     "output_type": "execute_result"
    }
   ],
   "source": [
    "docs.head()"
   ]
  },
  {
   "cell_type": "code",
   "execution_count": 15,
   "metadata": {},
   "outputs": [
    {
     "data": {
      "text/html": [
       "<div>\n",
       "<style scoped>\n",
       "    .dataframe tbody tr th:only-of-type {\n",
       "        vertical-align: middle;\n",
       "    }\n",
       "\n",
       "    .dataframe tbody tr th {\n",
       "        vertical-align: top;\n",
       "    }\n",
       "\n",
       "    .dataframe thead th {\n",
       "        text-align: right;\n",
       "    }\n",
       "</style>\n",
       "<table border=\"1\" class=\"dataframe\">\n",
       "  <thead>\n",
       "    <tr style=\"text-align: right;\">\n",
       "      <th></th>\n",
       "      <th>doc_id</th>\n",
       "      <th>url</th>\n",
       "      <th>body</th>\n",
       "      <th>length</th>\n",
       "    </tr>\n",
       "  </thead>\n",
       "  <tbody>\n",
       "    <tr>\n",
       "      <th>0</th>\n",
       "      <td>ag_1973.11.20_doc_I-1</td>\n",
       "      <td>http://www.fgv.br/cpdoc/acervo/arquivo-pessoal...</td>\n",
       "      <td>\\n\\njr, /h ' \"&amp; m$ hb'h'qo\\n&amp; la'?\\n\\n, é %%3...</td>\n",
       "      <td>261</td>\n",
       "    </tr>\n",
       "    <tr>\n",
       "      <th>1</th>\n",
       "      <td>ag_1973.11.20_doc_I-4</td>\n",
       "      <td>http://www.fgv.br/cpdoc/acervo/arquivo-pessoal...</td>\n",
       "      <td>\\n\\n\"**; %wwffwç (. sz\\nao?\\n\\nray\\n\\nmax meo...</td>\n",
       "      <td>54</td>\n",
       "    </tr>\n",
       "    <tr>\n",
       "      <th>2</th>\n",
       "      <td>ag_1973.11.20_doc_I-5</td>\n",
       "      <td>http://www.fgv.br/cpdoc/acervo/arquivo-pessoal...</td>\n",
       "      <td>am 1933 m 90\\n\\nw ij\"?\\n(\\n\\nt\\n\\ne\\nzi\\n\\nurd...</td>\n",
       "      <td>64</td>\n",
       "    </tr>\n",
       "    <tr>\n",
       "      <th>3</th>\n",
       "      <td>ag_1973.11.20_doc_I-7</td>\n",
       "      <td>http://www.fgv.br/cpdoc/acervo/arquivo-pessoal...</td>\n",
       "      <td>ôôô/ma 44 w\\nwil\"\\n/ oe;\\n\\n  \\n\\ncentro de es...</td>\n",
       "      <td>75</td>\n",
       "    </tr>\n",
       "    <tr>\n",
       "      <th>4</th>\n",
       "      <td>ag_1973.11.20_doc_I-8</td>\n",
       "      <td>http://www.fgv.br/cpdoc/acervo/arquivo-pessoal...</td>\n",
       "      <td>\\n\\nxx&gt;4áiãfkk ;g*\\n\\nmv, ; (905\\n\\n \\n\\ntele...</td>\n",
       "      <td>202</td>\n",
       "    </tr>\n",
       "  </tbody>\n",
       "</table>\n",
       "</div>"
      ],
      "text/plain": [
       "                  doc_id                                                url  \\\n",
       "0  ag_1973.11.20_doc_I-1  http://www.fgv.br/cpdoc/acervo/arquivo-pessoal...   \n",
       "1  ag_1973.11.20_doc_I-4  http://www.fgv.br/cpdoc/acervo/arquivo-pessoal...   \n",
       "2  ag_1973.11.20_doc_I-5  http://www.fgv.br/cpdoc/acervo/arquivo-pessoal...   \n",
       "3  ag_1973.11.20_doc_I-7  http://www.fgv.br/cpdoc/acervo/arquivo-pessoal...   \n",
       "4  ag_1973.11.20_doc_I-8  http://www.fgv.br/cpdoc/acervo/arquivo-pessoal...   \n",
       "\n",
       "                                                body  length  \n",
       "0   \\n\\njr, /h ' \"& m$ hb'h'qo\\n& la'?\\n\\n, é %%3...     261  \n",
       "1   \\n\\n\"**; %wwffwç (. sz\\nao?\\n\\nray\\n\\nmax meo...      54  \n",
       "2  am 1933 m 90\\n\\nw ij\"?\\n(\\n\\nt\\n\\ne\\nzi\\n\\nurd...      64  \n",
       "3  ôôô/ma 44 w\\nwil\"\\n/ oe;\\n\\n  \\n\\ncentro de es...      75  \n",
       "4   \\n\\nxx>4áiãfkk ;g*\\n\\nmv, ; (905\\n\\n \\n\\ntele...     202  "
      ]
     },
     "execution_count": 15,
     "metadata": {},
     "output_type": "execute_result"
    }
   ],
   "source": [
    "docs = docs[['id', 'url', 'body']]\n",
    "docs = docs.rename(index=str, columns={\"id\": \"doc_id\"})\n",
    "docs['length'] = docs['body'].apply(lambda x: len(x.split()))\n",
    "docs.head()"
   ]
  },
  {
   "cell_type": "markdown",
   "metadata": {},
   "source": [
    "# words and topics"
   ]
  },
  {
   "cell_type": "code",
   "execution_count": 16,
   "metadata": {},
   "outputs": [],
   "source": [
    "file_lda_model = os.path.join(topic_models,'model_100.pkl')\n",
    "lda_model = pickle.load(open(file_lda_model, 'rb'))"
   ]
  },
  {
   "cell_type": "markdown",
   "metadata": {},
   "source": [
    "# build vis table"
   ]
  },
  {
   "cell_type": "code",
   "execution_count": 17,
   "metadata": {},
   "outputs": [],
   "source": [
    "topic_vis_dict = {}"
   ]
  },
  {
   "cell_type": "code",
   "execution_count": null,
   "metadata": {},
   "outputs": [],
   "source": [
    "for i in range(100):\n",
    "    renamed_id = topics_list.index(i)\n",
    "    topic_vis_dict[renamed_id] = build_vis_table(i, renamed_id, topic_doc, lda_model, docs, person_doc)"
   ]
  },
  {
   "cell_type": "code",
   "execution_count": 57,
   "metadata": {},
   "outputs": [
    {
     "data": {
      "text/plain": [
       "dict_keys([5, 89, 58, 37, 43, 63, 12, 35, 49, 0, 84, 16, 64, 50, 68, 41, 40, 18, 54, 44, 85, 29, 57, 66, 73, 47, 76, 59, 4, 2, 92, 87, 3, 61, 42, 6, 94, 55, 24, 23, 52, 34, 17, 79, 7, 80, 65, 69, 93, 15, 81, 48, 46, 38, 8, 91, 19, 96, 56, 75, 95, 31, 51, 21, 74, 67, 78, 97, 45, 30, 98, 26, 88, 53, 90, 11, 86, 9, 62, 82, 25, 13, 10, 32, 1, 83, 27, 28, 60, 39, 72, 20, 22, 77, 33, 36, 70, 71, 99, 14])"
      ]
     },
     "execution_count": 57,
     "metadata": {},
     "output_type": "execute_result"
    }
   ],
   "source": [
    "topic_vis_dict.keys()"
   ]
  },
  {
   "cell_type": "code",
   "execution_count": 58,
   "metadata": {},
   "outputs": [
    {
     "data": {
      "text/html": [
       "<div>\n",
       "<style scoped>\n",
       "    .dataframe tbody tr th:only-of-type {\n",
       "        vertical-align: middle;\n",
       "    }\n",
       "\n",
       "    .dataframe tbody tr th {\n",
       "        vertical-align: top;\n",
       "    }\n",
       "\n",
       "    .dataframe thead th {\n",
       "        text-align: right;\n",
       "    }\n",
       "</style>\n",
       "<table border=\"1\" class=\"dataframe\">\n",
       "  <thead>\n",
       "    <tr style=\"text-align: right;\">\n",
       "      <th></th>\n",
       "      <th>doc_id</th>\n",
       "      <th>topic_id</th>\n",
       "      <th>topic_score</th>\n",
       "      <th>url</th>\n",
       "      <th>body</th>\n",
       "      <th>length</th>\n",
       "      <th>tokens</th>\n",
       "      <th>names</th>\n",
       "    </tr>\n",
       "  </thead>\n",
       "  <tbody>\n",
       "    <tr>\n",
       "      <th>15</th>\n",
       "      <td>pn_1975.00.00_doc_6</td>\n",
       "      <td>35</td>\n",
       "      <td>0.310568</td>\n",
       "      <td>http://www.fgv.br/cpdoc/acervo/arquivo-pessoal...</td>\n",
       "      <td>\\n\\n  \\n  \\n\\ná4ó (%?ç'quoicg; vê!/avó m &amp; \"l...</td>\n",
       "      <td>251</td>\n",
       "      <td>[nuclear, nucleares, brasil, armas, tratado]</td>\n",
       "      <td>[]</td>\n",
       "    </tr>\n",
       "    <tr>\n",
       "      <th>16</th>\n",
       "      <td>pn_1974.08.15_doc_III-31</td>\n",
       "      <td>35</td>\n",
       "      <td>0.303900</td>\n",
       "      <td>http://www.fgv.br/cpdoc/acervo/arquivo-pessoal...</td>\n",
       "      <td>secreto-excâusãvo\\n\\nsubsídios para as consult...</td>\n",
       "      <td>4549</td>\n",
       "      <td>[nuclear, acordo, energia, nucleares, brasil, ...</td>\n",
       "      <td>[Jimmy Carter, Cyrus Vance, Helmut Schmidt]</td>\n",
       "    </tr>\n",
       "    <tr>\n",
       "      <th>17</th>\n",
       "      <td>pn_1976.12.28_doc_29</td>\n",
       "      <td>35</td>\n",
       "      <td>0.300879</td>\n",
       "      <td>http://www.fgv.br/cpdoc/acervo/arquivo-pessoal...</td>\n",
       "      <td>telegrama recebido '\\n\\naaaa [97034 . é?\\no\" '...</td>\n",
       "      <td>845</td>\n",
       "      <td>[nuclear, acordo, energia, nucleares, brasil, ...</td>\n",
       "      <td>[Jimmy Carter]</td>\n",
       "    </tr>\n",
       "    <tr>\n",
       "      <th>18</th>\n",
       "      <td>pn_1974.08.15_doc_II-1</td>\n",
       "      <td>35</td>\n",
       "      <td>0.290121</td>\n",
       "      <td>http://www.fgv.br/cpdoc/acervo/arquivo-pessoal...</td>\n",
       "      <td>\\n\\nmmm\\n\\n\"a. . .. , . ..\\n\\n' o acordo nucl...</td>\n",
       "      <td>1672</td>\n",
       "      <td>[nuclear, acordo, energia, nucleares, brasil, ...</td>\n",
       "      <td>[Jimmy Carter]</td>\n",
       "    </tr>\n",
       "    <tr>\n",
       "      <th>19</th>\n",
       "      <td>pn_1976.12.28_doc_16</td>\n",
       "      <td>35</td>\n",
       "      <td>0.286755</td>\n",
       "      <td>http://www.fgv.br/cpdoc/acervo/arquivo-pessoal...</td>\n",
       "      <td>antonio la'. aiii-1315230 da sxmrâxm\\njáwówa i...</td>\n",
       "      <td>330</td>\n",
       "      <td>[acordo, energia, brasil, uranio, rfa, salvagu...</td>\n",
       "      <td>[Antonio Azeredo Da Silveira]</td>\n",
       "    </tr>\n",
       "  </tbody>\n",
       "</table>\n",
       "</div>"
      ],
      "text/plain": [
       "                      doc_id  topic_id  topic_score  \\\n",
       "15       pn_1975.00.00_doc_6        35     0.310568   \n",
       "16  pn_1974.08.15_doc_III-31        35     0.303900   \n",
       "17      pn_1976.12.28_doc_29        35     0.300879   \n",
       "18    pn_1974.08.15_doc_II-1        35     0.290121   \n",
       "19      pn_1976.12.28_doc_16        35     0.286755   \n",
       "\n",
       "                                                  url  \\\n",
       "15  http://www.fgv.br/cpdoc/acervo/arquivo-pessoal...   \n",
       "16  http://www.fgv.br/cpdoc/acervo/arquivo-pessoal...   \n",
       "17  http://www.fgv.br/cpdoc/acervo/arquivo-pessoal...   \n",
       "18  http://www.fgv.br/cpdoc/acervo/arquivo-pessoal...   \n",
       "19  http://www.fgv.br/cpdoc/acervo/arquivo-pessoal...   \n",
       "\n",
       "                                                 body  length  \\\n",
       "15   \\n\\n  \\n  \\n\\ná4ó (%?ç'quoicg; vê!/avó m & \"l...     251   \n",
       "16  secreto-excâusãvo\\n\\nsubsídios para as consult...    4549   \n",
       "17  telegrama recebido '\\n\\naaaa [97034 . é?\\no\" '...     845   \n",
       "18   \\n\\nmmm\\n\\n\"a. . .. , . ..\\n\\n' o acordo nucl...    1672   \n",
       "19  antonio la'. aiii-1315230 da sxmrâxm\\njáwówa i...     330   \n",
       "\n",
       "                                               tokens  \\\n",
       "15       [nuclear, nucleares, brasil, armas, tratado]   \n",
       "16  [nuclear, acordo, energia, nucleares, brasil, ...   \n",
       "17  [nuclear, acordo, energia, nucleares, brasil, ...   \n",
       "18  [nuclear, acordo, energia, nucleares, brasil, ...   \n",
       "19  [acordo, energia, brasil, uranio, rfa, salvagu...   \n",
       "\n",
       "                                          names  \n",
       "15                                           []  \n",
       "16  [Jimmy Carter, Cyrus Vance, Helmut Schmidt]  \n",
       "17                               [Jimmy Carter]  \n",
       "18                               [Jimmy Carter]  \n",
       "19                [Antonio Azeredo Da Silveira]  "
      ]
     },
     "execution_count": 58,
     "metadata": {},
     "output_type": "execute_result"
    }
   ],
   "source": [
    "topic_vis_dict[35].tail()"
   ]
  },
  {
   "cell_type": "code",
   "execution_count": 59,
   "metadata": {
    "scrolled": true
   },
   "outputs": [
    {
     "data": {
      "text/html": [
       "<div>\n",
       "<style scoped>\n",
       "    .dataframe tbody tr th:only-of-type {\n",
       "        vertical-align: middle;\n",
       "    }\n",
       "\n",
       "    .dataframe tbody tr th {\n",
       "        vertical-align: top;\n",
       "    }\n",
       "\n",
       "    .dataframe thead th {\n",
       "        text-align: right;\n",
       "    }\n",
       "</style>\n",
       "<table border=\"1\" class=\"dataframe\">\n",
       "  <thead>\n",
       "    <tr style=\"text-align: right;\">\n",
       "      <th></th>\n",
       "      <th>doc_id</th>\n",
       "      <th>topic_id</th>\n",
       "      <th>topic_score</th>\n",
       "      <th>url</th>\n",
       "      <th>body</th>\n",
       "      <th>length</th>\n",
       "      <th>tokens</th>\n",
       "      <th>names</th>\n",
       "    </tr>\n",
       "  </thead>\n",
       "  <tbody>\n",
       "    <tr>\n",
       "      <th>15</th>\n",
       "      <td>bp_1977.03.10_doc_V-3</td>\n",
       "      <td>15</td>\n",
       "      <td>0.471688</td>\n",
       "      <td>http://www.fgv.br/cpdoc/acervo/arquivo-pessoal...</td>\n",
       "      <td>. \"* aas_ manoa-to\\n/ . _ - . . awm)\\n\\nsala-1...</td>\n",
       "      <td>6339</td>\n",
       "      <td>[itaipu, rio, cota, operacao, energia, constru...</td>\n",
       "      <td>[Antonio Azeredo Da Silveira, Shigeaki Ueki, C...</td>\n",
       "    </tr>\n",
       "    <tr>\n",
       "      <th>16</th>\n",
       "      <td>bp_1977.09.13_doc_II-2</td>\n",
       "      <td>15</td>\n",
       "      <td>0.469905</td>\n",
       "      <td>http://www.fgv.br/cpdoc/acervo/arquivo-pessoal...</td>\n",
       "      <td>- informação no? 332/76 - estudo sobre a fixaç...</td>\n",
       "      <td>2444</td>\n",
       "      <td>[itaipu, rio, corpus, cota, operacao, energia,...</td>\n",
       "      <td>[]</td>\n",
       "    </tr>\n",
       "    <tr>\n",
       "      <th>17</th>\n",
       "      <td>d_1974.03.26_doc_XXXI-44</td>\n",
       "      <td>15</td>\n",
       "      <td>0.466799</td>\n",
       "      <td>http://www.fgv.br/cpdoc/acervo/arquivo-pessoal...</td>\n",
       "      <td>\\n\\n \\n\\n   \\n\\nwm\\n\"mg . .\\na\" rio âecreto\\n...</td>\n",
       "      <td>6152</td>\n",
       "      <td>[itaipu, rio, cota, operacao, energia, constru...</td>\n",
       "      <td>[Antonio Azeredo Da Silveira, Costa Cavalcanti...</td>\n",
       "    </tr>\n",
       "    <tr>\n",
       "      <th>18</th>\n",
       "      <td>bp_1977.09.13_doc_I-14</td>\n",
       "      <td>15</td>\n",
       "      <td>0.455084</td>\n",
       "      <td>http://www.fgv.br/cpdoc/acervo/arquivo-pessoal...</td>\n",
       "      <td>/\\n\\n \\n\\n \\n\\n \\n\\na\\n\\n \\n\\n!\\n\\n \\n\\n  o:\"i...</td>\n",
       "      <td>1690</td>\n",
       "      <td>[itaipu, rio, corpus, cota, construcao, parana...</td>\n",
       "      <td>[]</td>\n",
       "    </tr>\n",
       "    <tr>\n",
       "      <th>19</th>\n",
       "      <td>bp_1977.03.10_doc_III-18</td>\n",
       "      <td>15</td>\n",
       "      <td>0.452568</td>\n",
       "      <td>http://www.fgv.br/cpdoc/acervo/arquivo-pessoal...</td>\n",
       "      <td>\\n\\nwma-03.40\\njg?\\n(é. /, () h\\n\\n confidenc...</td>\n",
       "      <td>409</td>\n",
       "      <td>[itaipu, rio, corpus, cota, operacao, construc...</td>\n",
       "      <td>[]</td>\n",
       "    </tr>\n",
       "  </tbody>\n",
       "</table>\n",
       "</div>"
      ],
      "text/plain": [
       "                      doc_id  topic_id  topic_score  \\\n",
       "15     bp_1977.03.10_doc_V-3        15     0.471688   \n",
       "16    bp_1977.09.13_doc_II-2        15     0.469905   \n",
       "17  d_1974.03.26_doc_XXXI-44        15     0.466799   \n",
       "18    bp_1977.09.13_doc_I-14        15     0.455084   \n",
       "19  bp_1977.03.10_doc_III-18        15     0.452568   \n",
       "\n",
       "                                                  url  \\\n",
       "15  http://www.fgv.br/cpdoc/acervo/arquivo-pessoal...   \n",
       "16  http://www.fgv.br/cpdoc/acervo/arquivo-pessoal...   \n",
       "17  http://www.fgv.br/cpdoc/acervo/arquivo-pessoal...   \n",
       "18  http://www.fgv.br/cpdoc/acervo/arquivo-pessoal...   \n",
       "19  http://www.fgv.br/cpdoc/acervo/arquivo-pessoal...   \n",
       "\n",
       "                                                 body  length  \\\n",
       "15  . \"* aas_ manoa-to\\n/ . _ - . . awm)\\n\\nsala-1...    6339   \n",
       "16  - informação no? 332/76 - estudo sobre a fixaç...    2444   \n",
       "17   \\n\\n \\n\\n   \\n\\nwm\\n\"mg . .\\na\" rio âecreto\\n...    6152   \n",
       "18  /\\n\\n \\n\\n \\n\\n \\n\\na\\n\\n \\n\\n!\\n\\n \\n\\n  o:\"i...    1690   \n",
       "19   \\n\\nwma-03.40\\njg?\\n(é. /, () h\\n\\n confidenc...     409   \n",
       "\n",
       "                                               tokens  \\\n",
       "15  [itaipu, rio, cota, operacao, energia, constru...   \n",
       "16  [itaipu, rio, corpus, cota, operacao, energia,...   \n",
       "17  [itaipu, rio, cota, operacao, energia, constru...   \n",
       "18  [itaipu, rio, corpus, cota, construcao, parana...   \n",
       "19  [itaipu, rio, corpus, cota, operacao, construc...   \n",
       "\n",
       "                                                names  \n",
       "15  [Antonio Azeredo Da Silveira, Shigeaki Ueki, C...  \n",
       "16                                                 []  \n",
       "17  [Antonio Azeredo Da Silveira, Costa Cavalcanti...  \n",
       "18                                                 []  \n",
       "19                                                 []  "
      ]
     },
     "execution_count": 59,
     "metadata": {},
     "output_type": "execute_result"
    }
   ],
   "source": [
    "topic_vis_dict[15].tail()"
   ]
  },
  {
   "cell_type": "markdown",
   "metadata": {},
   "source": [
    "# pickle file"
   ]
  },
  {
   "cell_type": "code",
   "execution_count": 20,
   "metadata": {},
   "outputs": [
    {
     "name": "stdout",
     "output_type": "stream",
     "text": [
      "file already exists on folder. Do you want to replace it or do you want to use it? Type 'replace' or 'use' on your keyboard: use\n",
      "\n",
      "Using preexisting data.\n"
     ]
    }
   ],
   "source": [
    "topics_dict_file = os.path.join(tmp, '06_topics_dict.pkl')\n",
    "if os.path.isfile(topics_dict_file): \n",
    "    user_input = input(\"file already exists on folder. Do you want to replace it or do you want to use it? \"\n",
    "                       \"Type 'replace' or 'use' on your keyboard: \")\n",
    "    if user_input.lower() == 'replace':\n",
    "        print('\\r\\nReplacing data.')\n",
    "        with open(topics_dict_file, 'wb') as f:\n",
    "            pickle.dump(topic_vis_dict, f)\n",
    "    else: \n",
    "        print('\\r\\nUsing preexisting data.')\n",
    "        with open(topics_dict_file, 'rb') as f:\n",
    "            topic_vis_dict = pickle.load(f)\n",
    "else:\n",
    "    with open(topics_dict_file, 'wb') as f:\n",
    "        pickle.dump(topic_vis_dict, f)    "
   ]
  },
  {
   "cell_type": "code",
   "execution_count": 21,
   "metadata": {},
   "outputs": [],
   "source": [
    "topics = range(100)"
   ]
  },
  {
   "cell_type": "markdown",
   "metadata": {},
   "source": [
    "# Visualization of a specific topic"
   ]
  },
  {
   "cell_type": "markdown",
   "metadata": {},
   "source": [
    "list split  in pandas: https://mikulskibartosz.name/how-to-split-a-list-inside-a-dataframe-cell-into-rows-in-pandas-9849d8ff2401"
   ]
  },
  {
   "cell_type": "code",
   "execution_count": 8,
   "metadata": {},
   "outputs": [
    {
     "data": {
      "text/html": [
       "<div>\n",
       "<style scoped>\n",
       "    .dataframe tbody tr th:only-of-type {\n",
       "        vertical-align: middle;\n",
       "    }\n",
       "\n",
       "    .dataframe tbody tr th {\n",
       "        vertical-align: top;\n",
       "    }\n",
       "\n",
       "    .dataframe thead th {\n",
       "        text-align: right;\n",
       "    }\n",
       "</style>\n",
       "<table border=\"1\" class=\"dataframe\">\n",
       "  <thead>\n",
       "    <tr style=\"text-align: right;\">\n",
       "      <th></th>\n",
       "      <th>doc_id</th>\n",
       "      <th>topic_id</th>\n",
       "      <th>topic_score</th>\n",
       "      <th>url</th>\n",
       "      <th>body</th>\n",
       "      <th>length</th>\n",
       "      <th>tokens</th>\n",
       "      <th>names</th>\n",
       "      <th>doc</th>\n",
       "      <th>topic_id_renamed</th>\n",
       "    </tr>\n",
       "  </thead>\n",
       "  <tbody>\n",
       "    <tr>\n",
       "      <th>15</th>\n",
       "      <td>pn_1975.00.00_doc_6</td>\n",
       "      <td>35</td>\n",
       "      <td>0.310558</td>\n",
       "      <td>http://www.fgv.br/cpdoc/acervo/arquivo-pessoal...</td>\n",
       "      <td>\\n\\n  \\n  \\n\\ná4ó (%?ç'quoicg; vê!/avó m &amp; \"l...</td>\n",
       "      <td>251</td>\n",
       "      <td>[nuclear, nucleares, brasil, armas, tratado]</td>\n",
       "      <td>[]</td>\n",
       "      <td>doc_6</td>\n",
       "      <td>35</td>\n",
       "    </tr>\n",
       "    <tr>\n",
       "      <th>16</th>\n",
       "      <td>pn_1974.08.15_doc_III-31</td>\n",
       "      <td>35</td>\n",
       "      <td>0.303900</td>\n",
       "      <td>http://www.fgv.br/cpdoc/acervo/arquivo-pessoal...</td>\n",
       "      <td>secreto-excâusãvo\\n\\nsubsídios para as consult...</td>\n",
       "      <td>4549</td>\n",
       "      <td>[nuclear, acordo, energia, nucleares, brasil, ...</td>\n",
       "      <td>[Jimmy Carter, Cyrus Vance, Helmut Schmidt]</td>\n",
       "      <td>doc_III-31</td>\n",
       "      <td>35</td>\n",
       "    </tr>\n",
       "    <tr>\n",
       "      <th>17</th>\n",
       "      <td>pn_1976.12.28_doc_29</td>\n",
       "      <td>35</td>\n",
       "      <td>0.300889</td>\n",
       "      <td>http://www.fgv.br/cpdoc/acervo/arquivo-pessoal...</td>\n",
       "      <td>telegrama recebido '\\n\\naaaa [97034 . é?\\no\" '...</td>\n",
       "      <td>845</td>\n",
       "      <td>[nuclear, acordo, energia, nucleares, brasil, ...</td>\n",
       "      <td>[Jimmy Carter]</td>\n",
       "      <td>doc_29</td>\n",
       "      <td>35</td>\n",
       "    </tr>\n",
       "    <tr>\n",
       "      <th>18</th>\n",
       "      <td>pn_1974.08.15_doc_II-1</td>\n",
       "      <td>35</td>\n",
       "      <td>0.290115</td>\n",
       "      <td>http://www.fgv.br/cpdoc/acervo/arquivo-pessoal...</td>\n",
       "      <td>\\n\\nmmm\\n\\n\"a. . .. , . ..\\n\\n' o acordo nucl...</td>\n",
       "      <td>1672</td>\n",
       "      <td>[nuclear, acordo, energia, nucleares, brasil, ...</td>\n",
       "      <td>[Jimmy Carter]</td>\n",
       "      <td>doc_II-1</td>\n",
       "      <td>35</td>\n",
       "    </tr>\n",
       "    <tr>\n",
       "      <th>19</th>\n",
       "      <td>pn_1976.12.28_doc_16</td>\n",
       "      <td>35</td>\n",
       "      <td>0.286767</td>\n",
       "      <td>http://www.fgv.br/cpdoc/acervo/arquivo-pessoal...</td>\n",
       "      <td>antonio la'. aiii-1315230 da sxmrâxm\\njáwówa i...</td>\n",
       "      <td>330</td>\n",
       "      <td>[acordo, energia, brasil, uranio, rfa, salvagu...</td>\n",
       "      <td>[Antonio Azeredo Da Silveira]</td>\n",
       "      <td>doc_16</td>\n",
       "      <td>35</td>\n",
       "    </tr>\n",
       "  </tbody>\n",
       "</table>\n",
       "</div>"
      ],
      "text/plain": [
       "                      doc_id  topic_id  topic_score  \\\n",
       "15       pn_1975.00.00_doc_6        35     0.310558   \n",
       "16  pn_1974.08.15_doc_III-31        35     0.303900   \n",
       "17      pn_1976.12.28_doc_29        35     0.300889   \n",
       "18    pn_1974.08.15_doc_II-1        35     0.290115   \n",
       "19      pn_1976.12.28_doc_16        35     0.286767   \n",
       "\n",
       "                                                  url  \\\n",
       "15  http://www.fgv.br/cpdoc/acervo/arquivo-pessoal...   \n",
       "16  http://www.fgv.br/cpdoc/acervo/arquivo-pessoal...   \n",
       "17  http://www.fgv.br/cpdoc/acervo/arquivo-pessoal...   \n",
       "18  http://www.fgv.br/cpdoc/acervo/arquivo-pessoal...   \n",
       "19  http://www.fgv.br/cpdoc/acervo/arquivo-pessoal...   \n",
       "\n",
       "                                                 body  length  \\\n",
       "15   \\n\\n  \\n  \\n\\ná4ó (%?ç'quoicg; vê!/avó m & \"l...     251   \n",
       "16  secreto-excâusãvo\\n\\nsubsídios para as consult...    4549   \n",
       "17  telegrama recebido '\\n\\naaaa [97034 . é?\\no\" '...     845   \n",
       "18   \\n\\nmmm\\n\\n\"a. . .. , . ..\\n\\n' o acordo nucl...    1672   \n",
       "19  antonio la'. aiii-1315230 da sxmrâxm\\njáwówa i...     330   \n",
       "\n",
       "                                               tokens  \\\n",
       "15       [nuclear, nucleares, brasil, armas, tratado]   \n",
       "16  [nuclear, acordo, energia, nucleares, brasil, ...   \n",
       "17  [nuclear, acordo, energia, nucleares, brasil, ...   \n",
       "18  [nuclear, acordo, energia, nucleares, brasil, ...   \n",
       "19  [acordo, energia, brasil, uranio, rfa, salvagu...   \n",
       "\n",
       "                                          names         doc  topic_id_renamed  \n",
       "15                                           []       doc_6                35  \n",
       "16  [Jimmy Carter, Cyrus Vance, Helmut Schmidt]  doc_III-31                35  \n",
       "17                               [Jimmy Carter]      doc_29                35  \n",
       "18                               [Jimmy Carter]    doc_II-1                35  \n",
       "19                [Antonio Azeredo Da Silveira]      doc_16                35  "
      ]
     },
     "execution_count": 8,
     "metadata": {},
     "output_type": "execute_result"
    }
   ],
   "source": [
    "nuclear_brazil_df = topic_vis_dict[35]\n",
    "nuclear_brazil_df['doc'] = nuclear_brazil_df['doc_id'].apply(lambda text: re.sub('.*(doc.*)', r'\\1', text))\n",
    "cols = nuclear_brazil_df.columns.tolist()\n",
    "cols = cols[:3] + cols[4:] + cols[3:4]\n",
    "nuclear_brazil_df = nuclear_brazil_df[cols]\n",
    "nuclear_brazil_df.tail()"
   ]
  },
  {
   "cell_type": "markdown",
   "metadata": {},
   "source": [
    "# build main data for each topic"
   ]
  },
  {
   "cell_type": "code",
   "execution_count": 60,
   "metadata": {},
   "outputs": [],
   "source": [
    "topics = range(100)"
   ]
  },
  {
   "cell_type": "code",
   "execution_count": 13,
   "metadata": {},
   "outputs": [
    {
     "data": {
      "text/html": [
       "<div>\n",
       "<style scoped>\n",
       "    .dataframe tbody tr th:only-of-type {\n",
       "        vertical-align: middle;\n",
       "    }\n",
       "\n",
       "    .dataframe tbody tr th {\n",
       "        vertical-align: top;\n",
       "    }\n",
       "\n",
       "    .dataframe thead th {\n",
       "        text-align: right;\n",
       "    }\n",
       "</style>\n",
       "<table border=\"1\" class=\"dataframe\">\n",
       "  <thead>\n",
       "    <tr style=\"text-align: right;\">\n",
       "      <th></th>\n",
       "      <th>doc_id</th>\n",
       "      <th>topic_id</th>\n",
       "      <th>topic_score</th>\n",
       "      <th>topic_id_renamed</th>\n",
       "      <th>url</th>\n",
       "      <th>body</th>\n",
       "      <th>length</th>\n",
       "      <th>tokens</th>\n",
       "      <th>names</th>\n",
       "      <th>doc</th>\n",
       "    </tr>\n",
       "  </thead>\n",
       "  <tbody>\n",
       "    <tr>\n",
       "      <th>0</th>\n",
       "      <td>bp_1974.06.04_doc_I-8</td>\n",
       "      <td>5</td>\n",
       "      <td>0.802069</td>\n",
       "      <td>5</td>\n",
       "      <td>http://www.fgv.br/cpdoc/acervo/arquivo-pessoal...</td>\n",
       "      <td>aas _ aaaa. 05.027\\nmxukbp\\n\\n secreto em 18 d...</td>\n",
       "      <td>149</td>\n",
       "      <td>[excelencia, senhor, exteriores, relacoes, min...</td>\n",
       "      <td>[Antonio Azeredo Da Silveira]</td>\n",
       "      <td>doc_I-8</td>\n",
       "    </tr>\n",
       "    <tr>\n",
       "      <th>1</th>\n",
       "      <td>ag_1974.01.22_doc_III-55</td>\n",
       "      <td>5</td>\n",
       "      <td>0.710054</td>\n",
       "      <td>5</td>\n",
       "      <td>http://www.fgv.br/cpdoc/acervo/arquivo-pessoal...</td>\n",
       "      <td>atx (qqá ç(, ?l\\n\\n(n*-* , v , )\"\\n\\naviso-cir...</td>\n",
       "      <td>255</td>\n",
       "      <td>[excelencia, senhor, exteriores, relacoes, min...</td>\n",
       "      <td>[Antonio Azeredo Da Silveira]</td>\n",
       "      <td>doc_III-55</td>\n",
       "    </tr>\n",
       "    <tr>\n",
       "      <th>2</th>\n",
       "      <td>rb_1974.04.17_doc_I-25</td>\n",
       "      <td>5</td>\n",
       "      <td>0.695797</td>\n",
       "      <td>5</td>\n",
       "      <td>http://www.fgv.br/cpdoc/acervo/arquivo-pessoal...</td>\n",
       "      <td>\\n\\n' as-'4ªl\"+u__o&lt;_i_\\n. w_, _i__:22?$?u, ,...</td>\n",
       "      <td>712</td>\n",
       "      <td>[excelencia, senhor, exteriores, relacoes, min...</td>\n",
       "      <td>[Antonio Azeredo Da Silveira]</td>\n",
       "      <td>doc_I-25</td>\n",
       "    </tr>\n",
       "    <tr>\n",
       "      <th>3</th>\n",
       "      <td>rb_1974.05.23_doc_III-11</td>\n",
       "      <td>5</td>\n",
       "      <td>0.689144</td>\n",
       "      <td>5</td>\n",
       "      <td>http://www.fgv.br/cpdoc/acervo/arquivo-pessoal...</td>\n",
       "      <td>\\n\\n \\n\\nav. n? 173\\nem 04 de março de 1975\\n...</td>\n",
       "      <td>264</td>\n",
       "      <td>[excelencia, senhor, exteriores, relacoes, min...</td>\n",
       "      <td>[Antonio Azeredo Da Silveira, Golbery Do Couto...</td>\n",
       "      <td>doc_III-11</td>\n",
       "    </tr>\n",
       "    <tr>\n",
       "      <th>4</th>\n",
       "      <td>rb_1974.05.23_doc_III-22</td>\n",
       "      <td>5</td>\n",
       "      <td>0.685677</td>\n",
       "      <td>5</td>\n",
       "      <td>http://www.fgv.br/cpdoc/acervo/arquivo-pessoal...</td>\n",
       "      <td>\\n\\n \\n\\n\" w kal? 'é &amp;]hãú _ , l \" . ' lyx ta...</td>\n",
       "      <td>263</td>\n",
       "      <td>[excelencia, senhor, exteriores, relacoes, min...</td>\n",
       "      <td>[Antonio Azeredo Da Silveira]</td>\n",
       "      <td>doc_III-22</td>\n",
       "    </tr>\n",
       "  </tbody>\n",
       "</table>\n",
       "</div>"
      ],
      "text/plain": [
       "                     doc_id  topic_id  topic_score  topic_id_renamed  \\\n",
       "0     bp_1974.06.04_doc_I-8         5     0.802069                 5   \n",
       "1  ag_1974.01.22_doc_III-55         5     0.710054                 5   \n",
       "2    rb_1974.04.17_doc_I-25         5     0.695797                 5   \n",
       "3  rb_1974.05.23_doc_III-11         5     0.689144                 5   \n",
       "4  rb_1974.05.23_doc_III-22         5     0.685677                 5   \n",
       "\n",
       "                                                 url  \\\n",
       "0  http://www.fgv.br/cpdoc/acervo/arquivo-pessoal...   \n",
       "1  http://www.fgv.br/cpdoc/acervo/arquivo-pessoal...   \n",
       "2  http://www.fgv.br/cpdoc/acervo/arquivo-pessoal...   \n",
       "3  http://www.fgv.br/cpdoc/acervo/arquivo-pessoal...   \n",
       "4  http://www.fgv.br/cpdoc/acervo/arquivo-pessoal...   \n",
       "\n",
       "                                                body  length  \\\n",
       "0  aas _ aaaa. 05.027\\nmxukbp\\n\\n secreto em 18 d...     149   \n",
       "1  atx (qqá ç(, ?l\\n\\n(n*-* , v , )\"\\n\\naviso-cir...     255   \n",
       "2   \\n\\n' as-'4ªl\"+u__o<_i_\\n. w_, _i__:22?$?u, ,...     712   \n",
       "3   \\n\\n \\n\\nav. n? 173\\nem 04 de março de 1975\\n...     264   \n",
       "4   \\n\\n \\n\\n\" w kal? 'é &]hãú _ , l \" . ' lyx ta...     263   \n",
       "\n",
       "                                              tokens  \\\n",
       "0  [excelencia, senhor, exteriores, relacoes, min...   \n",
       "1  [excelencia, senhor, exteriores, relacoes, min...   \n",
       "2  [excelencia, senhor, exteriores, relacoes, min...   \n",
       "3  [excelencia, senhor, exteriores, relacoes, min...   \n",
       "4  [excelencia, senhor, exteriores, relacoes, min...   \n",
       "\n",
       "                                               names         doc  \n",
       "0                      [Antonio Azeredo Da Silveira]     doc_I-8  \n",
       "1                      [Antonio Azeredo Da Silveira]  doc_III-55  \n",
       "2                      [Antonio Azeredo Da Silveira]    doc_I-25  \n",
       "3  [Antonio Azeredo Da Silveira, Golbery Do Couto...  doc_III-11  \n",
       "4                      [Antonio Azeredo Da Silveira]  doc_III-22  "
      ]
     },
     "execution_count": 13,
     "metadata": {},
     "output_type": "execute_result"
    }
   ],
   "source": [
    "topic_vis_dict[5].head()"
   ]
  },
  {
   "cell_type": "code",
   "execution_count": 17,
   "metadata": {},
   "outputs": [],
   "source": [
    "dict_topics_json = {}\n",
    "for topic in topics:\n",
    "    #rename docs\n",
    "    dict_topics_json[topic] = topic_vis_dict[topic]\n",
    "    dict_topics_json[topic]['doc'] = dict_topics_json[topic]['doc_id'].apply(lambda text: re.sub('.*(doc.*)', r'\\1', text))\n",
    "    \n",
    "    #places date column at the end of df\n",
    "    cols = dict_topics_json[topic].columns.tolist()\n",
    "    cols = cols[:3] + cols[4:] + cols[3:4] \n",
    "    dict_topics_json[topic] = dict_topics_json[topic][cols]\n",
    "    \n",
    "    topic_transposed = dict_topics_json[topic] \\\n",
    "        .drop([\"body\", \"topic_id\"], axis = 1) \\\n",
    "        .transpose()\n",
    "\n",
    "    \n",
    "    # build json of main data\n",
    "    topic_json = topic_transposed.to_json(orient='columns')\n",
    "    topic_json = re.sub('\"\\d+\":', '', topic_json)\n",
    "    topic_json = re.sub(\"^{\", \"[\", topic_json)\n",
    "    topic_json = re.sub(\"}$\", \"]\", topic_json)\n",
    "    topic_json = json.loads(topic_json)\n",
    "    \n",
    "    # save json\n",
    "    json_file = 'topic_{}.json'.format(str(topic))\n",
    "    file_path = os.path.join(outputs, json_file)\n",
    "    json.dump(topic_json, open(file_path, 'w'))"
   ]
  },
  {
   "cell_type": "markdown",
   "metadata": {},
   "source": [
    "# define function to melt dataframes"
   ]
  },
  {
   "cell_type": "markdown",
   "metadata": {},
   "source": [
    "# generate json files related to persons\n",
    "Get connections between docs and persons. Those represent the edges of a graph."
   ]
  },
  {
   "cell_type": "code",
   "execution_count": 22,
   "metadata": {
    "scrolled": true
   },
   "outputs": [],
   "source": [
    "b, a = 2, 1\n",
    "count_min, count_max = 0, 20 #len(docs)\n",
    "for topic in topics:\n",
    "    #build list of docs for each person\n",
    "    melted_df = get_melted_df(topic_vis_dict[topic], 'names')\n",
    "    melted_df = melted_df.groupby(['names'])['doc_id'].apply(list)\n",
    "    melted_df = pd.DataFrame({'name':melted_df.index, 'docs':melted_df.values})\n",
    "    \n",
    "    # build json of list of names\n",
    "    names_list = []\n",
    "    for index, row in melted_df.iterrows():\n",
    "        name = row['name']\n",
    "        row_docs = row['docs']\n",
    "        name_count = len(row_docs)\n",
    "        \n",
    "        temp_dict = {'name': name, 'count': name_count, 'docs': row_docs}\n",
    "        names_list.append(temp_dict)\n",
    "        \n",
    "    #feature scaling to a set of values\n",
    "    count_list = [i['count'] for i in names_list]\n",
    "    for i in range(len(names_list)):\n",
    "        names_list[i]['count'] = (names_list[i]['count']-count_min)/(count_max-count_min)\n",
    "        \n",
    "    # save json\n",
    "    file_path = os.path.join(outputs,'names_list_{}.json'.format(str(topic)))\n",
    "    json.dump(names_list, open(file_path, 'w'))"
   ]
  },
  {
   "cell_type": "markdown",
   "metadata": {},
   "source": [
    "# generate json files related to tokens\n",
    "Get connections between docs and tokens. Those represent the edges of a graph."
   ]
  },
  {
   "cell_type": "code",
   "execution_count": 23,
   "metadata": {},
   "outputs": [],
   "source": [
    "for topic in topics:\n",
    "    #build list of docs for each token\n",
    "    melted_df = get_melted_df(topic_vis_dict[topic], 'tokens')\n",
    "    melted_df = melted_df.groupby(['tokens'])['doc_id'].apply(list)\n",
    "    melted_df = pd.DataFrame({'token':melted_df.index, 'docs':melted_df.values})\n",
    "    \n",
    "    #get data from lda_model\n",
    "    old_topic = topics_list[topic]\n",
    "    topic_tokens = lda_model.print_topics(-1, num_words=20)[old_topic]\n",
    "    topic_tokens = topic_tokens[1].split('+')\n",
    "    \n",
    "    #topic_tokens will be a list with elements such as: '0.085*\"nuclear\" ',\n",
    "    tokens_list = []\n",
    "    for pair in topic_tokens:\n",
    "        #get tokens and scores\n",
    "        token = re.sub('.*\\*\"(.*)\".*', r'\\1', pair)\n",
    "        token = remove_special_char(token)\n",
    "        score = re.sub(' *(.*)\\*.*', r'\\1', pair)\n",
    "        score = float(score)\n",
    "\n",
    "        #get list of docs\n",
    "        docs = melted_df[melted_df['token'] == token]['docs'].tolist()\n",
    "        if docs: \n",
    "            docs = docs[0]\n",
    "            temp_dict = {'token': token, 'score': score, 'docs': docs}\n",
    "            tokens_list.append(temp_dict)\n",
    "    file_path = os.path.join(outputs,'tokens_list_{}.json'.format(str(topic)))\n",
    "    json.dump(tokens_list, open(file_path, 'w'))"
   ]
  },
  {
   "cell_type": "markdown",
   "metadata": {},
   "source": [
    "# build object for d3 observable vis\n",
    "To build object, run d3_objects_str_builder.ipynb"
   ]
  }
 ],
 "metadata": {
  "kernelspec": {
   "display_name": "Python 3",
   "language": "python",
   "name": "python3"
  },
  "language_info": {
   "codemirror_mode": {
    "name": "ipython",
    "version": 3
   },
   "file_extension": ".py",
   "mimetype": "text/x-python",
   "name": "python",
   "nbconvert_exporter": "python",
   "pygments_lexer": "ipython3",
   "version": "3.7.5"
  }
 },
 "nbformat": 4,
 "nbformat_minor": 2
}
